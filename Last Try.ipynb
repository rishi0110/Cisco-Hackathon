{
 "cells": [
  {
   "cell_type": "code",
   "execution_count": 1,
   "id": "c46d22cf",
   "metadata": {},
   "outputs": [],
   "source": [
    "import json\n",
    "import csv\n",
    "import pandas as pd\n",
    "import numpy as np\n",
    "from sklearn.linear_model import LogisticRegression\n",
    "from datetime import datetime\n",
    "import re"
   ]
  },
  {
   "cell_type": "code",
   "execution_count": 2,
   "id": "0558f49a",
   "metadata": {},
   "outputs": [],
   "source": [
    "pd.options.display.max_colwidth =170"
   ]
  },
  {
   "cell_type": "code",
   "execution_count": 3,
   "id": "6ed52cf8",
   "metadata": {},
   "outputs": [],
   "source": [
    "train = pd.read_json(r\"C:\\Users\\risha\\Desktop\\convolve-epoch1\\train.json\",typ = 'dataframe').to_frame('count')"
   ]
  },
  {
   "cell_type": "code",
   "execution_count": 4,
   "id": "2a67493c",
   "metadata": {},
   "outputs": [],
   "source": [
    "train.reset_index(inplace = True)\n",
    "train.rename(columns = {'index':'log'}, inplace = True)"
   ]
  },
  {
   "cell_type": "code",
   "execution_count": 5,
   "id": "13c0c377",
   "metadata": {},
   "outputs": [],
   "source": [
    "train['log'] = train['log'].map(lambda x: x.rstrip('\\n'))"
   ]
  },
  {
   "cell_type": "code",
   "execution_count": 6,
   "id": "cf292484",
   "metadata": {
    "scrolled": true
   },
   "outputs": [
    {
     "data": {
      "text/html": [
       "<div>\n",
       "<style scoped>\n",
       "    .dataframe tbody tr th:only-of-type {\n",
       "        vertical-align: middle;\n",
       "    }\n",
       "\n",
       "    .dataframe tbody tr th {\n",
       "        vertical-align: top;\n",
       "    }\n",
       "\n",
       "    .dataframe thead th {\n",
       "        text-align: right;\n",
       "    }\n",
       "</style>\n",
       "<table border=\"1\" class=\"dataframe\">\n",
       "  <thead>\n",
       "    <tr style=\"text-align: right;\">\n",
       "      <th></th>\n",
       "      <th>log</th>\n",
       "      <th>count</th>\n",
       "    </tr>\n",
       "  </thead>\n",
       "  <tbody>\n",
       "    <tr>\n",
       "      <th>0</th>\n",
       "      <td>1117838570 2005.06.03 R02-M1-N0-C:J12-U11 2005-06-03-15.42.50.363779 R02-M1-N0-C:J12-U11 RAS KERNEL INFO instruction cache parity error corrected</td>\n",
       "      <td>normal</td>\n",
       "    </tr>\n",
       "    <tr>\n",
       "      <th>1</th>\n",
       "      <td>1117838570 2005.06.03 R02-M1-N0-C:J12-U11 2005-06-03-15.42.50.527847 R02-M1-N0-C:J12-U11 RAS KERNEL INFO instruction cache parity error corrected</td>\n",
       "      <td>normal</td>\n",
       "    </tr>\n",
       "    <tr>\n",
       "      <th>2</th>\n",
       "      <td>1117838570 2005.06.03 R02-M1-N0-C:J12-U11 2005-06-03-15.42.50.675872 R02-M1-N0-C:J12-U11 RAS KERNEL INFO instruction cache parity error corrected</td>\n",
       "      <td>normal</td>\n",
       "    </tr>\n",
       "    <tr>\n",
       "      <th>3</th>\n",
       "      <td>1117838570 2005.06.03 R02-M1-N0-C:J12-U11 2005-06-03-15.42.50.823719 R02-M1-N0-C:J12-U11 RAS KERNEL INFO instruction cache parity error corrected</td>\n",
       "      <td>normal</td>\n",
       "    </tr>\n",
       "    <tr>\n",
       "      <th>4</th>\n",
       "      <td>1117838570 2005.06.03 R02-M1-N0-C:J12-U11 2005-06-03-15.42.50.982731 R02-M1-N0-C:J12-U11 RAS KERNEL INFO instruction cache parity error corrected</td>\n",
       "      <td>normal</td>\n",
       "    </tr>\n",
       "    <tr>\n",
       "      <th>...</th>\n",
       "      <td>...</td>\n",
       "      <td>...</td>\n",
       "    </tr>\n",
       "    <tr>\n",
       "      <th>4152654</th>\n",
       "      <td>KERNDTLB 1118545530 2005.06.11 R30-M0-N9-C:J16-U01 2005-06-11-20.05.30.386651 R30-M0-N9-C:J16-U01 RAS KERNEL FATAL data TLB error interrupt</td>\n",
       "      <td>anomaly</td>\n",
       "    </tr>\n",
       "    <tr>\n",
       "      <th>4152655</th>\n",
       "      <td>KERNDTLB 1118545530 2005.06.11 R30-M0-N9-C:J16-U01 2005-06-11-20.05.30.558220 R30-M0-N9-C:J16-U01 RAS KERNEL FATAL data TLB error interrupt</td>\n",
       "      <td>anomaly</td>\n",
       "    </tr>\n",
       "    <tr>\n",
       "      <th>4152656</th>\n",
       "      <td>KERNDTLB 1118545530 2005.06.11 R30-M0-N9-C:J16-U01 2005-06-11-20.05.30.675784 R30-M0-N9-C:J16-U01 RAS KERNEL FATAL data TLB error interrupt</td>\n",
       "      <td>anomaly</td>\n",
       "    </tr>\n",
       "    <tr>\n",
       "      <th>4152657</th>\n",
       "      <td>KERNDTLB 1118545530 2005.06.11 R30-M0-N9-C:J16-U01 2005-06-11-20.05.30.777307 R30-M0-N9-C:J16-U01 RAS KERNEL FATAL data TLB error interrupt</td>\n",
       "      <td>anomaly</td>\n",
       "    </tr>\n",
       "    <tr>\n",
       "      <th>4152658</th>\n",
       "      <td>KERNDTLB 1118545530 2005.06.11 R30-M0-N9-C:J16-U01 2005-06-11-20.05.30.937080 R30-M0-N9-C:J16-U01 RAS KERNEL FATAL data TLB error interrupt</td>\n",
       "      <td>anomaly</td>\n",
       "    </tr>\n",
       "  </tbody>\n",
       "</table>\n",
       "<p>4152659 rows × 2 columns</p>\n",
       "</div>"
      ],
      "text/plain": [
       "                                                                                                                                                        log  \\\n",
       "0         1117838570 2005.06.03 R02-M1-N0-C:J12-U11 2005-06-03-15.42.50.363779 R02-M1-N0-C:J12-U11 RAS KERNEL INFO instruction cache parity error corrected   \n",
       "1         1117838570 2005.06.03 R02-M1-N0-C:J12-U11 2005-06-03-15.42.50.527847 R02-M1-N0-C:J12-U11 RAS KERNEL INFO instruction cache parity error corrected   \n",
       "2         1117838570 2005.06.03 R02-M1-N0-C:J12-U11 2005-06-03-15.42.50.675872 R02-M1-N0-C:J12-U11 RAS KERNEL INFO instruction cache parity error corrected   \n",
       "3         1117838570 2005.06.03 R02-M1-N0-C:J12-U11 2005-06-03-15.42.50.823719 R02-M1-N0-C:J12-U11 RAS KERNEL INFO instruction cache parity error corrected   \n",
       "4         1117838570 2005.06.03 R02-M1-N0-C:J12-U11 2005-06-03-15.42.50.982731 R02-M1-N0-C:J12-U11 RAS KERNEL INFO instruction cache parity error corrected   \n",
       "...                                                                                                                                                     ...   \n",
       "4152654         KERNDTLB 1118545530 2005.06.11 R30-M0-N9-C:J16-U01 2005-06-11-20.05.30.386651 R30-M0-N9-C:J16-U01 RAS KERNEL FATAL data TLB error interrupt   \n",
       "4152655         KERNDTLB 1118545530 2005.06.11 R30-M0-N9-C:J16-U01 2005-06-11-20.05.30.558220 R30-M0-N9-C:J16-U01 RAS KERNEL FATAL data TLB error interrupt   \n",
       "4152656         KERNDTLB 1118545530 2005.06.11 R30-M0-N9-C:J16-U01 2005-06-11-20.05.30.675784 R30-M0-N9-C:J16-U01 RAS KERNEL FATAL data TLB error interrupt   \n",
       "4152657         KERNDTLB 1118545530 2005.06.11 R30-M0-N9-C:J16-U01 2005-06-11-20.05.30.777307 R30-M0-N9-C:J16-U01 RAS KERNEL FATAL data TLB error interrupt   \n",
       "4152658         KERNDTLB 1118545530 2005.06.11 R30-M0-N9-C:J16-U01 2005-06-11-20.05.30.937080 R30-M0-N9-C:J16-U01 RAS KERNEL FATAL data TLB error interrupt   \n",
       "\n",
       "           count  \n",
       "0         normal  \n",
       "1         normal  \n",
       "2         normal  \n",
       "3         normal  \n",
       "4         normal  \n",
       "...          ...  \n",
       "4152654  anomaly  \n",
       "4152655  anomaly  \n",
       "4152656  anomaly  \n",
       "4152657  anomaly  \n",
       "4152658  anomaly  \n",
       "\n",
       "[4152659 rows x 2 columns]"
      ]
     },
     "execution_count": 6,
     "metadata": {},
     "output_type": "execute_result"
    }
   ],
   "source": [
    "train"
   ]
  },
  {
   "cell_type": "code",
   "execution_count": 289,
   "id": "8850f796",
   "metadata": {},
   "outputs": [
    {
     "data": {
      "text/plain": [
       "normal     4082967\n",
       "anomaly      69692\n",
       "Name: count, dtype: int64"
      ]
     },
     "execution_count": 289,
     "metadata": {},
     "output_type": "execute_result"
    }
   ],
   "source": [
    "train['count'].value_counts()"
   ]
  },
  {
   "cell_type": "code",
   "execution_count": 286,
   "id": "93919dbd",
   "metadata": {},
   "outputs": [],
   "source": [
    "dataa = pd.merge(df_1, train, on = 'log' , how = 'left')"
   ]
  },
  {
   "cell_type": "code",
   "execution_count": 295,
   "id": "8e6d8479",
   "metadata": {},
   "outputs": [
    {
     "data": {
      "text/html": [
       "<div>\n",
       "<style scoped>\n",
       "    .dataframe tbody tr th:only-of-type {\n",
       "        vertical-align: middle;\n",
       "    }\n",
       "\n",
       "    .dataframe tbody tr th {\n",
       "        vertical-align: top;\n",
       "    }\n",
       "\n",
       "    .dataframe thead th {\n",
       "        text-align: right;\n",
       "    }\n",
       "</style>\n",
       "<table border=\"1\" class=\"dataframe\">\n",
       "  <thead>\n",
       "    <tr style=\"text-align: right;\">\n",
       "      <th></th>\n",
       "      <th>log</th>\n",
       "      <th>count</th>\n",
       "    </tr>\n",
       "  </thead>\n",
       "  <tbody>\n",
       "    <tr>\n",
       "      <th>0</th>\n",
       "      <td>1117838570 2005.06.03 R02-M1-N0-C:J12-U11 2005-06-03-15.42.50.363779 R02-M1-N0-C:J12-U11 RAS KERNEL INFO instruction cache parity error corrected</td>\n",
       "      <td>normal</td>\n",
       "    </tr>\n",
       "    <tr>\n",
       "      <th>1</th>\n",
       "      <td>1117838570 2005.06.03 R02-M1-N0-C:J12-U11 2005-06-03-15.42.50.527847 R02-M1-N0-C:J12-U11 RAS KERNEL INFO instruction cache parity error corrected</td>\n",
       "      <td>normal</td>\n",
       "    </tr>\n",
       "    <tr>\n",
       "      <th>2</th>\n",
       "      <td>1117838570 2005.06.03 R02-M1-N0-C:J12-U11 2005-06-03-15.42.50.675872 R02-M1-N0-C:J12-U11 RAS KERNEL INFO instruction cache parity error corrected</td>\n",
       "      <td>normal</td>\n",
       "    </tr>\n",
       "    <tr>\n",
       "      <th>3</th>\n",
       "      <td>1117838570 2005.06.03 R02-M1-N0-C:J12-U11 2005-06-03-15.42.50.823719 R02-M1-N0-C:J12-U11 RAS KERNEL INFO instruction cache parity error corrected</td>\n",
       "      <td>normal</td>\n",
       "    </tr>\n",
       "    <tr>\n",
       "      <th>4</th>\n",
       "      <td>1117838570 2005.06.03 R02-M1-N0-C:J12-U11 2005-06-03-15.42.50.982731 R02-M1-N0-C:J12-U11 RAS KERNEL INFO instruction cache parity error corrected</td>\n",
       "      <td>normal</td>\n",
       "    </tr>\n",
       "    <tr>\n",
       "      <th>...</th>\n",
       "      <td>...</td>\n",
       "      <td>...</td>\n",
       "    </tr>\n",
       "    <tr>\n",
       "      <th>4747958</th>\n",
       "      <td>KERNSOCK 1136390405 2006.01.04 R00-M0-NC-I:J18-U11 2006-01-04-08.00.05.167045 R00-M0-NC-I:J18-U11 RAS KERNEL FATAL idoproxy communication failure: socket closed</td>\n",
       "      <td>NaN</td>\n",
       "    </tr>\n",
       "    <tr>\n",
       "      <th>4747959</th>\n",
       "      <td>KERNSOCK 1136390405 2006.01.04 R36-M0-NC-I:J18-U11 2006-01-04-08.00.05.185942 R36-M0-NC-I:J18-U11 RAS KERNEL FATAL idoproxy communication failure: socket closed</td>\n",
       "      <td>NaN</td>\n",
       "    </tr>\n",
       "    <tr>\n",
       "      <th>4747960</th>\n",
       "      <td>KERNSOCK 1136390405 2006.01.04 R30-M0-NC-I:J18-U11 2006-01-04-08.00.05.186013 R30-M0-NC-I:J18-U11 RAS KERNEL FATAL idoproxy communication failure: socket closed</td>\n",
       "      <td>NaN</td>\n",
       "    </tr>\n",
       "    <tr>\n",
       "      <th>4747961</th>\n",
       "      <td>KERNSOCK 1136390405 2006.01.04 R31-M0-NC-I:J18-U11 2006-01-04-08.00.05.204230 R31-M0-NC-I:J18-U11 RAS KERNEL FATAL idoproxy communication failure: socket closed</td>\n",
       "      <td>NaN</td>\n",
       "    </tr>\n",
       "    <tr>\n",
       "      <th>4747962</th>\n",
       "      <td>KERNSOCK 1136390405 2006.01.04 R34-M0-NC-I:J18-U11 2006-01-04-08.00.05.233639 R34-M0-NC-I:J18-U11 RAS KERNEL FATAL idoproxy communication failure: socket closed</td>\n",
       "      <td>NaN</td>\n",
       "    </tr>\n",
       "  </tbody>\n",
       "</table>\n",
       "<p>4747963 rows × 2 columns</p>\n",
       "</div>"
      ],
      "text/plain": [
       "                                                                                                                                                                      log  \\\n",
       "0                       1117838570 2005.06.03 R02-M1-N0-C:J12-U11 2005-06-03-15.42.50.363779 R02-M1-N0-C:J12-U11 RAS KERNEL INFO instruction cache parity error corrected   \n",
       "1                       1117838570 2005.06.03 R02-M1-N0-C:J12-U11 2005-06-03-15.42.50.527847 R02-M1-N0-C:J12-U11 RAS KERNEL INFO instruction cache parity error corrected   \n",
       "2                       1117838570 2005.06.03 R02-M1-N0-C:J12-U11 2005-06-03-15.42.50.675872 R02-M1-N0-C:J12-U11 RAS KERNEL INFO instruction cache parity error corrected   \n",
       "3                       1117838570 2005.06.03 R02-M1-N0-C:J12-U11 2005-06-03-15.42.50.823719 R02-M1-N0-C:J12-U11 RAS KERNEL INFO instruction cache parity error corrected   \n",
       "4                       1117838570 2005.06.03 R02-M1-N0-C:J12-U11 2005-06-03-15.42.50.982731 R02-M1-N0-C:J12-U11 RAS KERNEL INFO instruction cache parity error corrected   \n",
       "...                                                                                                                                                                   ...   \n",
       "4747958  KERNSOCK 1136390405 2006.01.04 R00-M0-NC-I:J18-U11 2006-01-04-08.00.05.167045 R00-M0-NC-I:J18-U11 RAS KERNEL FATAL idoproxy communication failure: socket closed   \n",
       "4747959  KERNSOCK 1136390405 2006.01.04 R36-M0-NC-I:J18-U11 2006-01-04-08.00.05.185942 R36-M0-NC-I:J18-U11 RAS KERNEL FATAL idoproxy communication failure: socket closed   \n",
       "4747960  KERNSOCK 1136390405 2006.01.04 R30-M0-NC-I:J18-U11 2006-01-04-08.00.05.186013 R30-M0-NC-I:J18-U11 RAS KERNEL FATAL idoproxy communication failure: socket closed   \n",
       "4747961  KERNSOCK 1136390405 2006.01.04 R31-M0-NC-I:J18-U11 2006-01-04-08.00.05.204230 R31-M0-NC-I:J18-U11 RAS KERNEL FATAL idoproxy communication failure: socket closed   \n",
       "4747962  KERNSOCK 1136390405 2006.01.04 R34-M0-NC-I:J18-U11 2006-01-04-08.00.05.233639 R34-M0-NC-I:J18-U11 RAS KERNEL FATAL idoproxy communication failure: socket closed   \n",
       "\n",
       "          count  \n",
       "0        normal  \n",
       "1        normal  \n",
       "2        normal  \n",
       "3        normal  \n",
       "4        normal  \n",
       "...         ...  \n",
       "4747958     NaN  \n",
       "4747959     NaN  \n",
       "4747960     NaN  \n",
       "4747961     NaN  \n",
       "4747962     NaN  \n",
       "\n",
       "[4747963 rows x 2 columns]"
      ]
     },
     "execution_count": 295,
     "metadata": {},
     "output_type": "execute_result"
    }
   ],
   "source": [
    "dataa"
   ]
  },
  {
   "cell_type": "code",
   "execution_count": 288,
   "id": "8c9ecfa4",
   "metadata": {},
   "outputs": [
    {
     "data": {
      "text/plain": [
       "normal     4082971\n",
       "anomaly      69692\n",
       "Name: count, dtype: int64"
      ]
     },
     "execution_count": 288,
     "metadata": {},
     "output_type": "execute_result"
    }
   ],
   "source": [
    "dataa['count'].value_counts()"
   ]
  },
  {
   "cell_type": "code",
   "execution_count": 282,
   "id": "88216dd0",
   "metadata": {},
   "outputs": [],
   "source": [
    "df_1.columns = ['log']"
   ]
  },
  {
   "cell_type": "code",
   "execution_count": 283,
   "id": "9fe0a7a6",
   "metadata": {
    "scrolled": true
   },
   "outputs": [],
   "source": [
    "df_1['log'] = df_1['log'].map(lambda x: x.lstrip('-'))"
   ]
  },
  {
   "cell_type": "code",
   "execution_count": 118,
   "id": "f331ad56",
   "metadata": {},
   "outputs": [],
   "source": [
    "df_2 = pd.read_csv(r\"C:\\Users\\risha\\Desktop\\convolve-epoch1\\BGL.log\\BGL.log\", sep = '\\s\\s+', engine = 'python', header  = None)"
   ]
  },
  {
   "cell_type": "code",
   "execution_count": 209,
   "id": "3ec83be1",
   "metadata": {},
   "outputs": [],
   "source": [
    "df_1[0] = df_1[0].str.strip()"
   ]
  },
  {
   "cell_type": "code",
   "execution_count": 115,
   "id": "fbe7d385",
   "metadata": {},
   "outputs": [
    {
     "name": "stdout",
     "output_type": "stream",
     "text": [
      "total size 100000, abnormal size 33476\n"
     ]
    }
   ],
   "source": [
    "# change file here\n",
    "# In the first column of the log, \"-\" indicates non-alert messages while others are alert messages.\n",
    "# def count_anomaly():\n",
    "total_size = 0\n",
    "normal_size = 0\n",
    "with open(r\"C:\\Users\\risha\\Desktop\\convolve-epoch1\\BGL.log\\xbh.txt\", encoding=\"utf8\") as f:\n",
    "    for line in f:\n",
    "        total_size += 1\n",
    "        if line.split(' ',1)[0] == '-':\n",
    "            normal_size += 1\n",
    "            df_1['Class'] = 0\n",
    "        else: \n",
    "            df_1['Class'] = 1\n",
    "print(\"total size {}, abnormal size {}\".format(total_size, total_size - normal_size))"
   ]
  },
  {
   "cell_type": "code",
   "execution_count": 72,
   "id": "b75f2508",
   "metadata": {},
   "outputs": [],
   "source": [
    "df_1.columns = ['Log', 'Class']"
   ]
  },
  {
   "cell_type": "code",
   "execution_count": 245,
   "id": "2b08874e",
   "metadata": {},
   "outputs": [],
   "source": [
    "df_1['Log'] = df_1['Log'].map(lambda x: x.lstrip('-'))"
   ]
  },
  {
   "cell_type": "code",
   "execution_count": 90,
   "id": "da5c8212",
   "metadata": {},
   "outputs": [],
   "source": [
    "test = pd.read_csv(r\"C:\\Users\\risha\\Desktop\\convolve-epoch1\\test.csv\")"
   ]
  },
  {
   "cell_type": "code",
   "execution_count": 102,
   "id": "468d4320",
   "metadata": {},
   "outputs": [
    {
     "data": {
      "text/html": [
       "<div>\n",
       "<style scoped>\n",
       "    .dataframe tbody tr th:only-of-type {\n",
       "        vertical-align: middle;\n",
       "    }\n",
       "\n",
       "    .dataframe tbody tr th {\n",
       "        vertical-align: top;\n",
       "    }\n",
       "\n",
       "    .dataframe thead th {\n",
       "        text-align: right;\n",
       "    }\n",
       "</style>\n",
       "<table border=\"1\" class=\"dataframe\">\n",
       "  <thead>\n",
       "    <tr style=\"text-align: right;\">\n",
       "      <th></th>\n",
       "      <th>Unnamed: 0</th>\n",
       "      <th>Log</th>\n",
       "      <th>Class</th>\n",
       "    </tr>\n",
       "  </thead>\n",
       "  <tbody>\n",
       "    <tr>\n",
       "      <th>3353739</th>\n",
       "      <td>53739</td>\n",
       "      <td>KERNMNTF 1126192206 2005.09.08 R70-M1-N4-I:J18-U01 2005-09-08-08.10.06.333352 R70-M1-N4-I:J18-U01 RAS KERNEL FATAL Lustre mount FAILED : bglio904 : point /p/gb1</td>\n",
       "      <td>normal</td>\n",
       "    </tr>\n",
       "  </tbody>\n",
       "</table>\n",
       "</div>"
      ],
      "text/plain": [
       "         Unnamed: 0  \\\n",
       "3353739       53739   \n",
       "\n",
       "                                                                                                                                                                      Log  \\\n",
       "3353739  KERNMNTF 1126192206 2005.09.08 R70-M1-N4-I:J18-U01 2005-09-08-08.10.06.333352 R70-M1-N4-I:J18-U01 RAS KERNEL FATAL Lustre mount FAILED : bglio904 : point /p/gb1   \n",
       "\n",
       "          Class  \n",
       "3353739  normal  "
      ]
     },
     "execution_count": 102,
     "metadata": {},
     "output_type": "execute_result"
    }
   ],
   "source": [
    "df[df['Log'] == 'KERNMNTF 1126192206 2005.09.08 R70-M1-N4-I:J18-U01 2005-09-08-08.10.06.333352 R70-M1-N4-I:J18-U01 RAS KERNEL FATAL Lustre mount FAILED : bglio904 : point /p/gb1']"
   ]
  },
  {
   "cell_type": "code",
   "execution_count": 92,
   "id": "b05a05f0",
   "metadata": {},
   "outputs": [],
   "source": [
    "test['Log'] = test['Log'].map(lambda x: x.rstrip('\\n'))"
   ]
  },
  {
   "cell_type": "code",
   "execution_count": 154,
   "id": "d4e974ac",
   "metadata": {},
   "outputs": [],
   "source": [
    "df_1.columns = ['Log']"
   ]
  },
  {
   "cell_type": "code",
   "execution_count": 127,
   "id": "05b09c59",
   "metadata": {},
   "outputs": [],
   "source": [
    "split_df = df_1[0].str.split('-', n = 1)"
   ]
  },
  {
   "cell_type": "code",
   "execution_count": 188,
   "id": "9c4264bd",
   "metadata": {},
   "outputs": [],
   "source": [
    "df_1['Log'] = df_1['Log'].map(lambda x: x.lstrip('-'))"
   ]
  },
  {
   "cell_type": "code",
   "execution_count": 212,
   "id": "8327cdb7",
   "metadata": {
    "scrolled": true
   },
   "outputs": [],
   "source": [
    "df_1.columns = ['Log']"
   ]
  },
  {
   "cell_type": "code",
   "execution_count": 247,
   "id": "db552170",
   "metadata": {},
   "outputs": [
    {
     "data": {
      "text/html": [
       "<div>\n",
       "<style scoped>\n",
       "    .dataframe tbody tr th:only-of-type {\n",
       "        vertical-align: middle;\n",
       "    }\n",
       "\n",
       "    .dataframe tbody tr th {\n",
       "        vertical-align: top;\n",
       "    }\n",
       "\n",
       "    .dataframe thead th {\n",
       "        text-align: right;\n",
       "    }\n",
       "</style>\n",
       "<table border=\"1\" class=\"dataframe\">\n",
       "  <thead>\n",
       "    <tr style=\"text-align: right;\">\n",
       "      <th></th>\n",
       "      <th>Log</th>\n",
       "    </tr>\n",
       "  </thead>\n",
       "  <tbody>\n",
       "    <tr>\n",
       "      <th>0</th>\n",
       "      <td>1117838570 2005.06.03 R02-M1-N0-C:J12-U11 2005-06-03-15.42.50.363779 R02-M1-N0-C:J12-U11 RAS KERNEL INFO instruction cache parity error corrected</td>\n",
       "    </tr>\n",
       "    <tr>\n",
       "      <th>1</th>\n",
       "      <td>1117838570 2005.06.03 R02-M1-N0-C:J12-U11 2005-06-03-15.42.50.527847 R02-M1-N0-C:J12-U11 RAS KERNEL INFO instruction cache parity error corrected</td>\n",
       "    </tr>\n",
       "    <tr>\n",
       "      <th>2</th>\n",
       "      <td>1117838570 2005.06.03 R02-M1-N0-C:J12-U11 2005-06-03-15.42.50.675872 R02-M1-N0-C:J12-U11 RAS KERNEL INFO instruction cache parity error corrected</td>\n",
       "    </tr>\n",
       "    <tr>\n",
       "      <th>3</th>\n",
       "      <td>1117838570 2005.06.03 R02-M1-N0-C:J12-U11 2005-06-03-15.42.50.823719 R02-M1-N0-C:J12-U11 RAS KERNEL INFO instruction cache parity error corrected</td>\n",
       "    </tr>\n",
       "    <tr>\n",
       "      <th>4</th>\n",
       "      <td>1117838570 2005.06.03 R02-M1-N0-C:J12-U11 2005-06-03-15.42.50.982731 R02-M1-N0-C:J12-U11 RAS KERNEL INFO instruction cache parity error corrected</td>\n",
       "    </tr>\n",
       "    <tr>\n",
       "      <th>...</th>\n",
       "      <td>...</td>\n",
       "    </tr>\n",
       "    <tr>\n",
       "      <th>4747958</th>\n",
       "      <td>KERNSOCK 1136390405 2006.01.04 R00-M0-NC-I:J18-U11 2006-01-04-08.00.05.167045 R00-M0-NC-I:J18-U11 RAS KERNEL FATAL idoproxy communication failure: socket closed</td>\n",
       "    </tr>\n",
       "    <tr>\n",
       "      <th>4747959</th>\n",
       "      <td>KERNSOCK 1136390405 2006.01.04 R36-M0-NC-I:J18-U11 2006-01-04-08.00.05.185942 R36-M0-NC-I:J18-U11 RAS KERNEL FATAL idoproxy communication failure: socket closed</td>\n",
       "    </tr>\n",
       "    <tr>\n",
       "      <th>4747960</th>\n",
       "      <td>KERNSOCK 1136390405 2006.01.04 R30-M0-NC-I:J18-U11 2006-01-04-08.00.05.186013 R30-M0-NC-I:J18-U11 RAS KERNEL FATAL idoproxy communication failure: socket closed</td>\n",
       "    </tr>\n",
       "    <tr>\n",
       "      <th>4747961</th>\n",
       "      <td>KERNSOCK 1136390405 2006.01.04 R31-M0-NC-I:J18-U11 2006-01-04-08.00.05.204230 R31-M0-NC-I:J18-U11 RAS KERNEL FATAL idoproxy communication failure: socket closed</td>\n",
       "    </tr>\n",
       "    <tr>\n",
       "      <th>4747962</th>\n",
       "      <td>KERNSOCK 1136390405 2006.01.04 R34-M0-NC-I:J18-U11 2006-01-04-08.00.05.233639 R34-M0-NC-I:J18-U11 RAS KERNEL FATAL idoproxy communication failure: socket closed</td>\n",
       "    </tr>\n",
       "  </tbody>\n",
       "</table>\n",
       "<p>4747963 rows × 1 columns</p>\n",
       "</div>"
      ],
      "text/plain": [
       "                                                                                                                                                                      Log\n",
       "0                       1117838570 2005.06.03 R02-M1-N0-C:J12-U11 2005-06-03-15.42.50.363779 R02-M1-N0-C:J12-U11 RAS KERNEL INFO instruction cache parity error corrected\n",
       "1                       1117838570 2005.06.03 R02-M1-N0-C:J12-U11 2005-06-03-15.42.50.527847 R02-M1-N0-C:J12-U11 RAS KERNEL INFO instruction cache parity error corrected\n",
       "2                       1117838570 2005.06.03 R02-M1-N0-C:J12-U11 2005-06-03-15.42.50.675872 R02-M1-N0-C:J12-U11 RAS KERNEL INFO instruction cache parity error corrected\n",
       "3                       1117838570 2005.06.03 R02-M1-N0-C:J12-U11 2005-06-03-15.42.50.823719 R02-M1-N0-C:J12-U11 RAS KERNEL INFO instruction cache parity error corrected\n",
       "4                       1117838570 2005.06.03 R02-M1-N0-C:J12-U11 2005-06-03-15.42.50.982731 R02-M1-N0-C:J12-U11 RAS KERNEL INFO instruction cache parity error corrected\n",
       "...                                                                                                                                                                   ...\n",
       "4747958  KERNSOCK 1136390405 2006.01.04 R00-M0-NC-I:J18-U11 2006-01-04-08.00.05.167045 R00-M0-NC-I:J18-U11 RAS KERNEL FATAL idoproxy communication failure: socket closed\n",
       "4747959  KERNSOCK 1136390405 2006.01.04 R36-M0-NC-I:J18-U11 2006-01-04-08.00.05.185942 R36-M0-NC-I:J18-U11 RAS KERNEL FATAL idoproxy communication failure: socket closed\n",
       "4747960  KERNSOCK 1136390405 2006.01.04 R30-M0-NC-I:J18-U11 2006-01-04-08.00.05.186013 R30-M0-NC-I:J18-U11 RAS KERNEL FATAL idoproxy communication failure: socket closed\n",
       "4747961  KERNSOCK 1136390405 2006.01.04 R31-M0-NC-I:J18-U11 2006-01-04-08.00.05.204230 R31-M0-NC-I:J18-U11 RAS KERNEL FATAL idoproxy communication failure: socket closed\n",
       "4747962  KERNSOCK 1136390405 2006.01.04 R34-M0-NC-I:J18-U11 2006-01-04-08.00.05.233639 R34-M0-NC-I:J18-U11 RAS KERNEL FATAL idoproxy communication failure: socket closed\n",
       "\n",
       "[4747963 rows x 1 columns]"
      ]
     },
     "execution_count": 247,
     "metadata": {},
     "output_type": "execute_result"
    }
   ],
   "source": [
    "df_1"
   ]
  },
  {
   "cell_type": "code",
   "execution_count": 13,
   "id": "ff381779",
   "metadata": {},
   "outputs": [],
   "source": [
    "dataa = df_1['Log'].str.split('-', n = 1,expand = True)"
   ]
  },
  {
   "cell_type": "code",
   "execution_count": 14,
   "id": "4934c545",
   "metadata": {},
   "outputs": [
    {
     "data": {
      "text/html": [
       "<div>\n",
       "<style scoped>\n",
       "    .dataframe tbody tr th:only-of-type {\n",
       "        vertical-align: middle;\n",
       "    }\n",
       "\n",
       "    .dataframe tbody tr th {\n",
       "        vertical-align: top;\n",
       "    }\n",
       "\n",
       "    .dataframe thead th {\n",
       "        text-align: right;\n",
       "    }\n",
       "</style>\n",
       "<table border=\"1\" class=\"dataframe\">\n",
       "  <thead>\n",
       "    <tr style=\"text-align: right;\">\n",
       "      <th></th>\n",
       "      <th>0</th>\n",
       "      <th>1</th>\n",
       "    </tr>\n",
       "  </thead>\n",
       "  <tbody>\n",
       "    <tr>\n",
       "      <th>0</th>\n",
       "      <td></td>\n",
       "      <td>1117838570 2005.06.03 R02-M1-N0-C:J12-U11 2005-06-03-15.42.50.363779 R02-M1-N0-C:J12-U11 RAS KERNEL INFO instruction cache parity error corrected</td>\n",
       "    </tr>\n",
       "    <tr>\n",
       "      <th>1</th>\n",
       "      <td></td>\n",
       "      <td>1117838570 2005.06.03 R02-M1-N0-C:J12-U11 2005-06-03-15.42.50.527847 R02-M1-N0-C:J12-U11 RAS KERNEL INFO instruction cache parity error corrected</td>\n",
       "    </tr>\n",
       "    <tr>\n",
       "      <th>2</th>\n",
       "      <td></td>\n",
       "      <td>1117838570 2005.06.03 R02-M1-N0-C:J12-U11 2005-06-03-15.42.50.675872 R02-M1-N0-C:J12-U11 RAS KERNEL INFO instruction cache parity error corrected</td>\n",
       "    </tr>\n",
       "    <tr>\n",
       "      <th>3</th>\n",
       "      <td></td>\n",
       "      <td>1117838570 2005.06.03 R02-M1-N0-C:J12-U11 2005-06-03-15.42.50.823719 R02-M1-N0-C:J12-U11 RAS KERNEL INFO instruction cache parity error corrected</td>\n",
       "    </tr>\n",
       "    <tr>\n",
       "      <th>4</th>\n",
       "      <td></td>\n",
       "      <td>1117838570 2005.06.03 R02-M1-N0-C:J12-U11 2005-06-03-15.42.50.982731 R02-M1-N0-C:J12-U11 RAS KERNEL INFO instruction cache parity error corrected</td>\n",
       "    </tr>\n",
       "    <tr>\n",
       "      <th>...</th>\n",
       "      <td>...</td>\n",
       "      <td>...</td>\n",
       "    </tr>\n",
       "    <tr>\n",
       "      <th>4747958</th>\n",
       "      <td>KERNSOCK 1136390405 2006.01.04 R00</td>\n",
       "      <td>M0-NC-I:J18-U11 2006-01-04-08.00.05.167045 R00-M0-NC-I:J18-U11 RAS KERNEL FATAL idoproxy communication failure: socket closed</td>\n",
       "    </tr>\n",
       "    <tr>\n",
       "      <th>4747959</th>\n",
       "      <td>KERNSOCK 1136390405 2006.01.04 R36</td>\n",
       "      <td>M0-NC-I:J18-U11 2006-01-04-08.00.05.185942 R36-M0-NC-I:J18-U11 RAS KERNEL FATAL idoproxy communication failure: socket closed</td>\n",
       "    </tr>\n",
       "    <tr>\n",
       "      <th>4747960</th>\n",
       "      <td>KERNSOCK 1136390405 2006.01.04 R30</td>\n",
       "      <td>M0-NC-I:J18-U11 2006-01-04-08.00.05.186013 R30-M0-NC-I:J18-U11 RAS KERNEL FATAL idoproxy communication failure: socket closed</td>\n",
       "    </tr>\n",
       "    <tr>\n",
       "      <th>4747961</th>\n",
       "      <td>KERNSOCK 1136390405 2006.01.04 R31</td>\n",
       "      <td>M0-NC-I:J18-U11 2006-01-04-08.00.05.204230 R31-M0-NC-I:J18-U11 RAS KERNEL FATAL idoproxy communication failure: socket closed</td>\n",
       "    </tr>\n",
       "    <tr>\n",
       "      <th>4747962</th>\n",
       "      <td>KERNSOCK 1136390405 2006.01.04 R34</td>\n",
       "      <td>M0-NC-I:J18-U11 2006-01-04-08.00.05.233639 R34-M0-NC-I:J18-U11 RAS KERNEL FATAL idoproxy communication failure: socket closed</td>\n",
       "    </tr>\n",
       "  </tbody>\n",
       "</table>\n",
       "<p>4747963 rows × 2 columns</p>\n",
       "</div>"
      ],
      "text/plain": [
       "                                          0  \\\n",
       "0                                             \n",
       "1                                             \n",
       "2                                             \n",
       "3                                             \n",
       "4                                             \n",
       "...                                     ...   \n",
       "4747958  KERNSOCK 1136390405 2006.01.04 R00   \n",
       "4747959  KERNSOCK 1136390405 2006.01.04 R36   \n",
       "4747960  KERNSOCK 1136390405 2006.01.04 R30   \n",
       "4747961  KERNSOCK 1136390405 2006.01.04 R31   \n",
       "4747962  KERNSOCK 1136390405 2006.01.04 R34   \n",
       "\n",
       "                                                                                                                                                          1  \n",
       "0         1117838570 2005.06.03 R02-M1-N0-C:J12-U11 2005-06-03-15.42.50.363779 R02-M1-N0-C:J12-U11 RAS KERNEL INFO instruction cache parity error corrected  \n",
       "1         1117838570 2005.06.03 R02-M1-N0-C:J12-U11 2005-06-03-15.42.50.527847 R02-M1-N0-C:J12-U11 RAS KERNEL INFO instruction cache parity error corrected  \n",
       "2         1117838570 2005.06.03 R02-M1-N0-C:J12-U11 2005-06-03-15.42.50.675872 R02-M1-N0-C:J12-U11 RAS KERNEL INFO instruction cache parity error corrected  \n",
       "3         1117838570 2005.06.03 R02-M1-N0-C:J12-U11 2005-06-03-15.42.50.823719 R02-M1-N0-C:J12-U11 RAS KERNEL INFO instruction cache parity error corrected  \n",
       "4         1117838570 2005.06.03 R02-M1-N0-C:J12-U11 2005-06-03-15.42.50.982731 R02-M1-N0-C:J12-U11 RAS KERNEL INFO instruction cache parity error corrected  \n",
       "...                                                                                                                                                     ...  \n",
       "4747958                       M0-NC-I:J18-U11 2006-01-04-08.00.05.167045 R00-M0-NC-I:J18-U11 RAS KERNEL FATAL idoproxy communication failure: socket closed  \n",
       "4747959                       M0-NC-I:J18-U11 2006-01-04-08.00.05.185942 R36-M0-NC-I:J18-U11 RAS KERNEL FATAL idoproxy communication failure: socket closed  \n",
       "4747960                       M0-NC-I:J18-U11 2006-01-04-08.00.05.186013 R30-M0-NC-I:J18-U11 RAS KERNEL FATAL idoproxy communication failure: socket closed  \n",
       "4747961                       M0-NC-I:J18-U11 2006-01-04-08.00.05.204230 R31-M0-NC-I:J18-U11 RAS KERNEL FATAL idoproxy communication failure: socket closed  \n",
       "4747962                       M0-NC-I:J18-U11 2006-01-04-08.00.05.233639 R34-M0-NC-I:J18-U11 RAS KERNEL FATAL idoproxy communication failure: socket closed  \n",
       "\n",
       "[4747963 rows x 2 columns]"
      ]
     },
     "execution_count": 14,
     "metadata": {},
     "output_type": "execute_result"
    }
   ],
   "source": [
    "dataa"
   ]
  },
  {
   "cell_type": "code",
   "execution_count": 15,
   "id": "e96dab86",
   "metadata": {},
   "outputs": [],
   "source": [
    "anomaly = dataa.drop(dataa[dataa[0] == ' '], axis = 0, inplace = True)\n",
    "# normal['Label'] = 'normal'"
   ]
  },
  {
   "cell_type": "code",
   "execution_count": 45,
   "id": "513341f3",
   "metadata": {},
   "outputs": [
    {
     "data": {
      "text/html": [
       "<div>\n",
       "<style scoped>\n",
       "    .dataframe tbody tr th:only-of-type {\n",
       "        vertical-align: middle;\n",
       "    }\n",
       "\n",
       "    .dataframe tbody tr th {\n",
       "        vertical-align: top;\n",
       "    }\n",
       "\n",
       "    .dataframe thead th {\n",
       "        text-align: right;\n",
       "    }\n",
       "</style>\n",
       "<table border=\"1\" class=\"dataframe\">\n",
       "  <thead>\n",
       "    <tr style=\"text-align: right;\">\n",
       "      <th></th>\n",
       "      <th>Log</th>\n",
       "    </tr>\n",
       "  </thead>\n",
       "  <tbody>\n",
       "    <tr>\n",
       "      <th>0</th>\n",
       "      <td>- 1117838570 2005.06.03 R02-M1-N0-C:J12-U11 2005-06-03-15.42.50.363779 R02-M1-N0-C:J12-U11 RAS KERNEL INFO instruction cache parity error corrected</td>\n",
       "    </tr>\n",
       "    <tr>\n",
       "      <th>1</th>\n",
       "      <td>- 1117838570 2005.06.03 R02-M1-N0-C:J12-U11 2005-06-03-15.42.50.527847 R02-M1-N0-C:J12-U11 RAS KERNEL INFO instruction cache parity error corrected</td>\n",
       "    </tr>\n",
       "    <tr>\n",
       "      <th>2</th>\n",
       "      <td>- 1117838570 2005.06.03 R02-M1-N0-C:J12-U11 2005-06-03-15.42.50.675872 R02-M1-N0-C:J12-U11 RAS KERNEL INFO instruction cache parity error corrected</td>\n",
       "    </tr>\n",
       "    <tr>\n",
       "      <th>3</th>\n",
       "      <td>- 1117838570 2005.06.03 R02-M1-N0-C:J12-U11 2005-06-03-15.42.50.823719 R02-M1-N0-C:J12-U11 RAS KERNEL INFO instruction cache parity error corrected</td>\n",
       "    </tr>\n",
       "    <tr>\n",
       "      <th>4</th>\n",
       "      <td>- 1117838570 2005.06.03 R02-M1-N0-C:J12-U11 2005-06-03-15.42.50.982731 R02-M1-N0-C:J12-U11 RAS KERNEL INFO instruction cache parity error corrected</td>\n",
       "    </tr>\n",
       "    <tr>\n",
       "      <th>...</th>\n",
       "      <td>...</td>\n",
       "    </tr>\n",
       "    <tr>\n",
       "      <th>4747958</th>\n",
       "      <td>KERNSOCK 1136390405 2006.01.04 R00-M0-NC-I:J18-U11 2006-01-04-08.00.05.167045 R00-M0-NC-I:J18-U11 RAS KERNEL FATAL idoproxy communication failure: socket closed</td>\n",
       "    </tr>\n",
       "    <tr>\n",
       "      <th>4747959</th>\n",
       "      <td>KERNSOCK 1136390405 2006.01.04 R36-M0-NC-I:J18-U11 2006-01-04-08.00.05.185942 R36-M0-NC-I:J18-U11 RAS KERNEL FATAL idoproxy communication failure: socket closed</td>\n",
       "    </tr>\n",
       "    <tr>\n",
       "      <th>4747960</th>\n",
       "      <td>KERNSOCK 1136390405 2006.01.04 R30-M0-NC-I:J18-U11 2006-01-04-08.00.05.186013 R30-M0-NC-I:J18-U11 RAS KERNEL FATAL idoproxy communication failure: socket closed</td>\n",
       "    </tr>\n",
       "    <tr>\n",
       "      <th>4747961</th>\n",
       "      <td>KERNSOCK 1136390405 2006.01.04 R31-M0-NC-I:J18-U11 2006-01-04-08.00.05.204230 R31-M0-NC-I:J18-U11 RAS KERNEL FATAL idoproxy communication failure: socket closed</td>\n",
       "    </tr>\n",
       "    <tr>\n",
       "      <th>4747962</th>\n",
       "      <td>KERNSOCK 1136390405 2006.01.04 R34-M0-NC-I:J18-U11 2006-01-04-08.00.05.233639 R34-M0-NC-I:J18-U11 RAS KERNEL FATAL idoproxy communication failure: socket closed</td>\n",
       "    </tr>\n",
       "  </tbody>\n",
       "</table>\n",
       "<p>4747963 rows × 1 columns</p>\n",
       "</div>"
      ],
      "text/plain": [
       "                                                                                                                                                                      Log\n",
       "0                     - 1117838570 2005.06.03 R02-M1-N0-C:J12-U11 2005-06-03-15.42.50.363779 R02-M1-N0-C:J12-U11 RAS KERNEL INFO instruction cache parity error corrected\n",
       "1                     - 1117838570 2005.06.03 R02-M1-N0-C:J12-U11 2005-06-03-15.42.50.527847 R02-M1-N0-C:J12-U11 RAS KERNEL INFO instruction cache parity error corrected\n",
       "2                     - 1117838570 2005.06.03 R02-M1-N0-C:J12-U11 2005-06-03-15.42.50.675872 R02-M1-N0-C:J12-U11 RAS KERNEL INFO instruction cache parity error corrected\n",
       "3                     - 1117838570 2005.06.03 R02-M1-N0-C:J12-U11 2005-06-03-15.42.50.823719 R02-M1-N0-C:J12-U11 RAS KERNEL INFO instruction cache parity error corrected\n",
       "4                     - 1117838570 2005.06.03 R02-M1-N0-C:J12-U11 2005-06-03-15.42.50.982731 R02-M1-N0-C:J12-U11 RAS KERNEL INFO instruction cache parity error corrected\n",
       "...                                                                                                                                                                   ...\n",
       "4747958  KERNSOCK 1136390405 2006.01.04 R00-M0-NC-I:J18-U11 2006-01-04-08.00.05.167045 R00-M0-NC-I:J18-U11 RAS KERNEL FATAL idoproxy communication failure: socket closed\n",
       "4747959  KERNSOCK 1136390405 2006.01.04 R36-M0-NC-I:J18-U11 2006-01-04-08.00.05.185942 R36-M0-NC-I:J18-U11 RAS KERNEL FATAL idoproxy communication failure: socket closed\n",
       "4747960  KERNSOCK 1136390405 2006.01.04 R30-M0-NC-I:J18-U11 2006-01-04-08.00.05.186013 R30-M0-NC-I:J18-U11 RAS KERNEL FATAL idoproxy communication failure: socket closed\n",
       "4747961  KERNSOCK 1136390405 2006.01.04 R31-M0-NC-I:J18-U11 2006-01-04-08.00.05.204230 R31-M0-NC-I:J18-U11 RAS KERNEL FATAL idoproxy communication failure: socket closed\n",
       "4747962  KERNSOCK 1136390405 2006.01.04 R34-M0-NC-I:J18-U11 2006-01-04-08.00.05.233639 R34-M0-NC-I:J18-U11 RAS KERNEL FATAL idoproxy communication failure: socket closed\n",
       "\n",
       "[4747963 rows x 1 columns]"
      ]
     },
     "execution_count": 45,
     "metadata": {},
     "output_type": "execute_result"
    }
   ],
   "source": [
    "df_2"
   ]
  },
  {
   "cell_type": "code",
   "execution_count": 224,
   "id": "3f9bfe80",
   "metadata": {},
   "outputs": [],
   "source": [
    "# df_1.drop(['Loglo'], axis = 1, inplace = True)"
   ]
  },
  {
   "cell_type": "code",
   "execution_count": 43,
   "id": "9684225a",
   "metadata": {},
   "outputs": [
    {
     "data": {
      "text/plain": [
       "'1117838570 2005.06.03 R02-M1-N0-C:J12-U11 2005-06-03-15.42.50.363779 R02-M1-N0-C:J12-U11 RAS KERNEL INFO instruction cache parity error corrected'"
      ]
     },
     "execution_count": 43,
     "metadata": {},
     "output_type": "execute_result"
    }
   ],
   "source": [
    "' '.join(df_1.Log[4747962].split(' ')[0:1])\n",
    "' '.join(df_1.Log[0].split(' ')[1:])"
   ]
  },
  {
   "cell_type": "code",
   "execution_count": 20,
   "id": "7416877e",
   "metadata": {},
   "outputs": [],
   "source": [
    "i = 0\n",
    "lm = []\n",
    "for i in range(4747963):\n",
    "    lm.append(' '.join(df_1.Log[i].split(' ')[0:1]))"
   ]
  },
  {
   "cell_type": "code",
   "execution_count": 22,
   "id": "1a36b7ed",
   "metadata": {},
   "outputs": [],
   "source": [
    "ls = pd.Series(lm)"
   ]
  },
  {
   "cell_type": "code",
   "execution_count": 23,
   "id": "a55a3e14",
   "metadata": {},
   "outputs": [
    {
     "data": {
      "text/plain": [
       "-            4399503\n",
       "KERNDTLB      152734\n",
       "KERNSTOR       63491\n",
       "APPSEV         49651\n",
       "KERNMNTF       31531\n",
       "KERNTERM       23338\n",
       "KERNREC         6145\n",
       "APPREAD         5983\n",
       "KERNRTSP        3983\n",
       "APPRES          2370\n",
       "APPUNAV         2048\n",
       "APPTO           1991\n",
       "KERNMICRO       1503\n",
       "APPOUT           816\n",
       "KERNMNT          720\n",
       "APPBUSY          512\n",
       "KERNMC           342\n",
       "APPCHILD         320\n",
       "KERNSOCK         209\n",
       "KERNPOW          192\n",
       "LINKIAP          166\n",
       "APPALLOC         144\n",
       "KERNSERV          94\n",
       "MASABNORM         37\n",
       "LINKDISC          24\n",
       "KERNPAN           18\n",
       "KERNCON           16\n",
       "KERNNOETH         14\n",
       "LINKPAP           14\n",
       "MONPOW            12\n",
       "MASNORM           10\n",
       "APPTORUS          10\n",
       "KERNPROG           5\n",
       "MMCS               3\n",
       "KERNFLOAT          3\n",
       "KERNRTSA           3\n",
       "LINKBLL            2\n",
       "MONNULL            2\n",
       "KERNBIT            1\n",
       "MONILL             1\n",
       "KERNEXT            1\n",
       "KERNTLBE           1\n",
       "dtype: int64"
      ]
     },
     "execution_count": 23,
     "metadata": {},
     "output_type": "execute_result"
    }
   ],
   "source": [
    "ls.value_counts()"
   ]
  },
  {
   "cell_type": "code",
   "execution_count": 181,
   "id": "f05b1341",
   "metadata": {},
   "outputs": [],
   "source": [
    "i=0"
   ]
  },
  {
   "cell_type": "code",
   "execution_count": 32,
   "id": "464b53b9",
   "metadata": {},
   "outputs": [],
   "source": [
    "label = []\n",
    "for i in range(4747963):\n",
    "    if (ls[i] == '-'):\n",
    "        label.append('normal')\n",
    "    else:\n",
    "        label.append('anomaly')"
   ]
  },
  {
   "cell_type": "code",
   "execution_count": 33,
   "id": "a1e9e4c2",
   "metadata": {},
   "outputs": [],
   "source": [
    "label_series = pd.Series(label)"
   ]
  },
  {
   "cell_type": "code",
   "execution_count": 34,
   "id": "ef64db6d",
   "metadata": {},
   "outputs": [
    {
     "data": {
      "text/plain": [
       "normal     4399503\n",
       "anomaly     348460\n",
       "dtype: int64"
      ]
     },
     "execution_count": 34,
     "metadata": {},
     "output_type": "execute_result"
    }
   ],
   "source": [
    "label_series.value_counts()"
   ]
  },
  {
   "cell_type": "code",
   "execution_count": 190,
   "id": "0883192b",
   "metadata": {},
   "outputs": [],
   "source": [
    "Log = df_1['Log']"
   ]
  },
  {
   "cell_type": "code",
   "execution_count": 192,
   "id": "0b46bc91",
   "metadata": {},
   "outputs": [],
   "source": [
    "list_o = list(zip(Log,label))"
   ]
  },
  {
   "cell_type": "code",
   "execution_count": 193,
   "id": "b01563e9",
   "metadata": {},
   "outputs": [],
   "source": [
    "dataa = pd.DataFrame(list_o, columns = ['Log', 'Label'])"
   ]
  },
  {
   "cell_type": "code",
   "execution_count": 38,
   "id": "c0480944",
   "metadata": {},
   "outputs": [],
   "source": [
    "test_1[' Log'] = test_1[' Log'].map(lambda x: x.rstrip('\\n'))"
   ]
  },
  {
   "cell_type": "code",
   "execution_count": 39,
   "id": "b1df1fec",
   "metadata": {
    "scrolled": true
   },
   "outputs": [
    {
     "data": {
      "text/html": [
       "<div>\n",
       "<style scoped>\n",
       "    .dataframe tbody tr th:only-of-type {\n",
       "        vertical-align: middle;\n",
       "    }\n",
       "\n",
       "    .dataframe tbody tr th {\n",
       "        vertical-align: top;\n",
       "    }\n",
       "\n",
       "    .dataframe thead th {\n",
       "        text-align: right;\n",
       "    }\n",
       "</style>\n",
       "<table border=\"1\" class=\"dataframe\">\n",
       "  <thead>\n",
       "    <tr style=\"text-align: right;\">\n",
       "      <th></th>\n",
       "      <th>ID</th>\n",
       "      <th>Log</th>\n",
       "    </tr>\n",
       "  </thead>\n",
       "  <tbody>\n",
       "    <tr>\n",
       "      <th>0</th>\n",
       "      <td>0</td>\n",
       "      <td>1124336301 2005.08.17 R13-M1-N8-C:J12-U01 2005-08-17-20.38.21.466368 R13-M1-N8-C:J12-U01 RAS KERNEL FATAL rts: kernel terminated for reason 1001</td>\n",
       "    </tr>\n",
       "    <tr>\n",
       "      <th>1</th>\n",
       "      <td>1</td>\n",
       "      <td>1118553175 2005.06.11 R30-M0-N9-C:J16-U01 2005-06-11-22.12.55.707149 R30-M0-N9-C:J16-U01 RAS KERNEL FATAL data TLB error interrupt</td>\n",
       "    </tr>\n",
       "    <tr>\n",
       "      <th>2</th>\n",
       "      <td>2</td>\n",
       "      <td>1118536033 2005.06.11 R30-M0-N9-C:J16-U01 2005-06-11-17.27.13.042387 R30-M0-N9-C:J16-U01 RAS KERNEL FATAL data TLB error interrupt</td>\n",
       "    </tr>\n",
       "    <tr>\n",
       "      <th>3</th>\n",
       "      <td>3</td>\n",
       "      <td>1117992566 2005.06.05 R30-M1-N6-C:J03-U11 2005-06-05-10.29.26.943462 R30-M1-N6-C:J03-U11 RAS KERNEL INFO generating core.6463</td>\n",
       "    </tr>\n",
       "    <tr>\n",
       "      <th>4</th>\n",
       "      <td>4</td>\n",
       "      <td>1118538965 2005.06.11 R30-M0-N9-C:J16-U01 2005-06-11-18.16.05.049256 R30-M0-N9-C:J16-U01 RAS KERNEL FATAL data TLB error interrupt</td>\n",
       "    </tr>\n",
       "    <tr>\n",
       "      <th>...</th>\n",
       "      <td>...</td>\n",
       "      <td>...</td>\n",
       "    </tr>\n",
       "    <tr>\n",
       "      <th>595295</th>\n",
       "      <td>595295</td>\n",
       "      <td>1118768234 2005.06.14 R20-M0-NA-C:J17-U11 2005-06-14-09.57.14.709136 R20-M0-NA-C:J17-U11 RAS KERNEL FATAL exception syndrome register: 0x00800000</td>\n",
       "    </tr>\n",
       "    <tr>\n",
       "      <th>595296</th>\n",
       "      <td>595296</td>\n",
       "      <td>1118370947 2005.06.09 R15-M0-NA-C:J02-U01 2005-06-09-19.35.47.353971 R15-M0-NA-C:J02-U01 RAS KERNEL INFO generating core.10895</td>\n",
       "    </tr>\n",
       "    <tr>\n",
       "      <th>595297</th>\n",
       "      <td>595297</td>\n",
       "      <td>1118540242 2005.06.11 R30-M0-N9-C:J16-U01 2005-06-11-18.37.22.743936 R30-M0-N9-C:J16-U01 RAS KERNEL FATAL data TLB error interrupt</td>\n",
       "    </tr>\n",
       "    <tr>\n",
       "      <th>595298</th>\n",
       "      <td>595298</td>\n",
       "      <td>1118538947 2005.06.11 R30-M0-N9-C:J16-U01 2005-06-11-18.15.47.247097 R30-M0-N9-C:J16-U01 RAS KERNEL FATAL data TLB error interrupt</td>\n",
       "    </tr>\n",
       "    <tr>\n",
       "      <th>595299</th>\n",
       "      <td>595299</td>\n",
       "      <td>1118165805 2005.06.07 R23-M1-N5-C:J16-U11 2005-06-07-10.36.45.002573 R23-M1-N5-C:J16-U11 RAS KERNEL INFO generating core.680</td>\n",
       "    </tr>\n",
       "  </tbody>\n",
       "</table>\n",
       "<p>595300 rows × 2 columns</p>\n",
       "</div>"
      ],
      "text/plain": [
       "            ID  \\\n",
       "0            0   \n",
       "1            1   \n",
       "2            2   \n",
       "3            3   \n",
       "4            4   \n",
       "...        ...   \n",
       "595295  595295   \n",
       "595296  595296   \n",
       "595297  595297   \n",
       "595298  595298   \n",
       "595299  595299   \n",
       "\n",
       "                                                                                                                                                       Log  \n",
       "0         1124336301 2005.08.17 R13-M1-N8-C:J12-U01 2005-08-17-20.38.21.466368 R13-M1-N8-C:J12-U01 RAS KERNEL FATAL rts: kernel terminated for reason 1001  \n",
       "1                       1118553175 2005.06.11 R30-M0-N9-C:J16-U01 2005-06-11-22.12.55.707149 R30-M0-N9-C:J16-U01 RAS KERNEL FATAL data TLB error interrupt  \n",
       "2                       1118536033 2005.06.11 R30-M0-N9-C:J16-U01 2005-06-11-17.27.13.042387 R30-M0-N9-C:J16-U01 RAS KERNEL FATAL data TLB error interrupt  \n",
       "3                            1117992566 2005.06.05 R30-M1-N6-C:J03-U11 2005-06-05-10.29.26.943462 R30-M1-N6-C:J03-U11 RAS KERNEL INFO generating core.6463  \n",
       "4                       1118538965 2005.06.11 R30-M0-N9-C:J16-U01 2005-06-11-18.16.05.049256 R30-M0-N9-C:J16-U01 RAS KERNEL FATAL data TLB error interrupt  \n",
       "...                                                                                                                                                    ...  \n",
       "595295   1118768234 2005.06.14 R20-M0-NA-C:J17-U11 2005-06-14-09.57.14.709136 R20-M0-NA-C:J17-U11 RAS KERNEL FATAL exception syndrome register: 0x00800000  \n",
       "595296                      1118370947 2005.06.09 R15-M0-NA-C:J02-U01 2005-06-09-19.35.47.353971 R15-M0-NA-C:J02-U01 RAS KERNEL INFO generating core.10895  \n",
       "595297                  1118540242 2005.06.11 R30-M0-N9-C:J16-U01 2005-06-11-18.37.22.743936 R30-M0-N9-C:J16-U01 RAS KERNEL FATAL data TLB error interrupt  \n",
       "595298                  1118538947 2005.06.11 R30-M0-N9-C:J16-U01 2005-06-11-18.15.47.247097 R30-M0-N9-C:J16-U01 RAS KERNEL FATAL data TLB error interrupt  \n",
       "595299                        1118165805 2005.06.07 R23-M1-N5-C:J16-U11 2005-06-07-10.36.45.002573 R23-M1-N5-C:J16-U11 RAS KERNEL INFO generating core.680  \n",
       "\n",
       "[595300 rows x 2 columns]"
      ]
     },
     "execution_count": 39,
     "metadata": {},
     "output_type": "execute_result"
    }
   ],
   "source": [
    "test_1"
   ]
  },
  {
   "cell_type": "code",
   "execution_count": 60,
   "id": "28a1e197",
   "metadata": {},
   "outputs": [
    {
     "data": {
      "text/html": [
       "<div>\n",
       "<style scoped>\n",
       "    .dataframe tbody tr th:only-of-type {\n",
       "        vertical-align: middle;\n",
       "    }\n",
       "\n",
       "    .dataframe tbody tr th {\n",
       "        vertical-align: top;\n",
       "    }\n",
       "\n",
       "    .dataframe thead th {\n",
       "        text-align: right;\n",
       "    }\n",
       "</style>\n",
       "<table border=\"1\" class=\"dataframe\">\n",
       "  <thead>\n",
       "    <tr style=\"text-align: right;\">\n",
       "      <th></th>\n",
       "      <th>Log</th>\n",
       "    </tr>\n",
       "  </thead>\n",
       "  <tbody>\n",
       "    <tr>\n",
       "      <th>0</th>\n",
       "      <td>1117838570 2005.06.03 R02M1N0C:J12U11 2005060315.42.50.363779 R02M1N0C:J12U11 RAS KERNEL INFO instruction cache parity error corrected</td>\n",
       "    </tr>\n",
       "    <tr>\n",
       "      <th>1</th>\n",
       "      <td>1117838570 2005.06.03 R02M1N0C:J12U11 2005060315.42.50.527847 R02M1N0C:J12U11 RAS KERNEL INFO instruction cache parity error corrected</td>\n",
       "    </tr>\n",
       "    <tr>\n",
       "      <th>2</th>\n",
       "      <td>1117838570 2005.06.03 R02M1N0C:J12U11 2005060315.42.50.675872 R02M1N0C:J12U11 RAS KERNEL INFO instruction cache parity error corrected</td>\n",
       "    </tr>\n",
       "    <tr>\n",
       "      <th>3</th>\n",
       "      <td>1117838570 2005.06.03 R02M1N0C:J12U11 2005060315.42.50.823719 R02M1N0C:J12U11 RAS KERNEL INFO instruction cache parity error corrected</td>\n",
       "    </tr>\n",
       "    <tr>\n",
       "      <th>4</th>\n",
       "      <td>1117838570 2005.06.03 R02M1N0C:J12U11 2005060315.42.50.982731 R02M1N0C:J12U11 RAS KERNEL INFO instruction cache parity error corrected</td>\n",
       "    </tr>\n",
       "    <tr>\n",
       "      <th>...</th>\n",
       "      <td>...</td>\n",
       "    </tr>\n",
       "    <tr>\n",
       "      <th>4747958</th>\n",
       "      <td>KERNSOCK 1136390405 2006.01.04 R00M0NCI:J18U11 2006010408.00.05.167045 R00M0NCI:J18U11 RAS KERNEL FATAL idoproxy communication failure: socket closed</td>\n",
       "    </tr>\n",
       "    <tr>\n",
       "      <th>4747959</th>\n",
       "      <td>KERNSOCK 1136390405 2006.01.04 R36M0NCI:J18U11 2006010408.00.05.185942 R36M0NCI:J18U11 RAS KERNEL FATAL idoproxy communication failure: socket closed</td>\n",
       "    </tr>\n",
       "    <tr>\n",
       "      <th>4747960</th>\n",
       "      <td>KERNSOCK 1136390405 2006.01.04 R30M0NCI:J18U11 2006010408.00.05.186013 R30M0NCI:J18U11 RAS KERNEL FATAL idoproxy communication failure: socket closed</td>\n",
       "    </tr>\n",
       "    <tr>\n",
       "      <th>4747961</th>\n",
       "      <td>KERNSOCK 1136390405 2006.01.04 R31M0NCI:J18U11 2006010408.00.05.204230 R31M0NCI:J18U11 RAS KERNEL FATAL idoproxy communication failure: socket closed</td>\n",
       "    </tr>\n",
       "    <tr>\n",
       "      <th>4747962</th>\n",
       "      <td>KERNSOCK 1136390405 2006.01.04 R34M0NCI:J18U11 2006010408.00.05.233639 R34M0NCI:J18U11 RAS KERNEL FATAL idoproxy communication failure: socket closed</td>\n",
       "    </tr>\n",
       "  </tbody>\n",
       "</table>\n",
       "<p>4747963 rows × 1 columns</p>\n",
       "</div>"
      ],
      "text/plain": [
       "                                                                                                                                                           Log\n",
       "0                       1117838570 2005.06.03 R02M1N0C:J12U11 2005060315.42.50.363779 R02M1N0C:J12U11 RAS KERNEL INFO instruction cache parity error corrected\n",
       "1                       1117838570 2005.06.03 R02M1N0C:J12U11 2005060315.42.50.527847 R02M1N0C:J12U11 RAS KERNEL INFO instruction cache parity error corrected\n",
       "2                       1117838570 2005.06.03 R02M1N0C:J12U11 2005060315.42.50.675872 R02M1N0C:J12U11 RAS KERNEL INFO instruction cache parity error corrected\n",
       "3                       1117838570 2005.06.03 R02M1N0C:J12U11 2005060315.42.50.823719 R02M1N0C:J12U11 RAS KERNEL INFO instruction cache parity error corrected\n",
       "4                       1117838570 2005.06.03 R02M1N0C:J12U11 2005060315.42.50.982731 R02M1N0C:J12U11 RAS KERNEL INFO instruction cache parity error corrected\n",
       "...                                                                                                                                                        ...\n",
       "4747958  KERNSOCK 1136390405 2006.01.04 R00M0NCI:J18U11 2006010408.00.05.167045 R00M0NCI:J18U11 RAS KERNEL FATAL idoproxy communication failure: socket closed\n",
       "4747959  KERNSOCK 1136390405 2006.01.04 R36M0NCI:J18U11 2006010408.00.05.185942 R36M0NCI:J18U11 RAS KERNEL FATAL idoproxy communication failure: socket closed\n",
       "4747960  KERNSOCK 1136390405 2006.01.04 R30M0NCI:J18U11 2006010408.00.05.186013 R30M0NCI:J18U11 RAS KERNEL FATAL idoproxy communication failure: socket closed\n",
       "4747961  KERNSOCK 1136390405 2006.01.04 R31M0NCI:J18U11 2006010408.00.05.204230 R31M0NCI:J18U11 RAS KERNEL FATAL idoproxy communication failure: socket closed\n",
       "4747962  KERNSOCK 1136390405 2006.01.04 R34M0NCI:J18U11 2006010408.00.05.233639 R34M0NCI:J18U11 RAS KERNEL FATAL idoproxy communication failure: socket closed\n",
       "\n",
       "[4747963 rows x 1 columns]"
      ]
     },
     "execution_count": 60,
     "metadata": {},
     "output_type": "execute_result"
    }
   ],
   "source": [
    "df_1"
   ]
  },
  {
   "cell_type": "code",
   "execution_count": 42,
   "id": "b365881d",
   "metadata": {},
   "outputs": [
    {
     "data": {
      "text/plain": [
       "4747958    anomaly\n",
       "4747959    anomaly\n",
       "4747960    anomaly\n",
       "4747961    anomaly\n",
       "4747962    anomaly\n",
       "dtype: object"
      ]
     },
     "execution_count": 42,
     "metadata": {},
     "output_type": "execute_result"
    }
   ],
   "source": [
    "label_series.tail()"
   ]
  },
  {
   "cell_type": "code",
   "execution_count": 24,
   "id": "3d5567c0",
   "metadata": {},
   "outputs": [],
   "source": [
    "test_1 = pd.read_csv(r\"C:\\Users\\risha\\Desktop\\convolve-epoch1\\test.csv\")"
   ]
  },
  {
   "cell_type": "code",
   "execution_count": 28,
   "id": "4a6541b7",
   "metadata": {},
   "outputs": [
    {
     "data": {
      "text/plain": [
       "(595300, 2)"
      ]
     },
     "execution_count": 28,
     "metadata": {},
     "output_type": "execute_result"
    }
   ],
   "source": [
    "test_1.shape"
   ]
  },
  {
   "cell_type": "code",
   "execution_count": 122,
   "id": "8e1f40c5",
   "metadata": {},
   "outputs": [],
   "source": [
    "ultra_label = pd.DataFrame({'Log':df_2['Log'],'Label':label})"
   ]
  },
  {
   "cell_type": "code",
   "execution_count": 84,
   "id": "0c5344eb",
   "metadata": {},
   "outputs": [
    {
     "data": {
      "text/html": [
       "<div>\n",
       "<style scoped>\n",
       "    .dataframe tbody tr th:only-of-type {\n",
       "        vertical-align: middle;\n",
       "    }\n",
       "\n",
       "    .dataframe tbody tr th {\n",
       "        vertical-align: top;\n",
       "    }\n",
       "\n",
       "    .dataframe thead th {\n",
       "        text-align: right;\n",
       "    }\n",
       "</style>\n",
       "<table border=\"1\" class=\"dataframe\">\n",
       "  <thead>\n",
       "    <tr style=\"text-align: right;\">\n",
       "      <th></th>\n",
       "      <th>0</th>\n",
       "    </tr>\n",
       "  </thead>\n",
       "  <tbody>\n",
       "    <tr>\n",
       "      <th>0</th>\n",
       "      <td>- 1117838570 2005.06.03 R02-M1-N0-C:J12-U11 2005-06-03-15.42.50.363779 R02-M1-N0-C:J12-U11 RAS KERNEL INFO instruction cache parity error corrected</td>\n",
       "    </tr>\n",
       "    <tr>\n",
       "      <th>1</th>\n",
       "      <td>- 1117838570 2005.06.03 R02-M1-N0-C:J12-U11 2005-06-03-15.42.50.527847 R02-M1-N0-C:J12-U11 RAS KERNEL INFO instruction cache parity error corrected</td>\n",
       "    </tr>\n",
       "    <tr>\n",
       "      <th>2</th>\n",
       "      <td>- 1117838570 2005.06.03 R02-M1-N0-C:J12-U11 2005-06-03-15.42.50.675872 R02-M1-N0-C:J12-U11 RAS KERNEL INFO instruction cache parity error corrected</td>\n",
       "    </tr>\n",
       "    <tr>\n",
       "      <th>3</th>\n",
       "      <td>- 1117838570 2005.06.03 R02-M1-N0-C:J12-U11 2005-06-03-15.42.50.823719 R02-M1-N0-C:J12-U11 RAS KERNEL INFO instruction cache parity error corrected</td>\n",
       "    </tr>\n",
       "    <tr>\n",
       "      <th>4</th>\n",
       "      <td>- 1117838570 2005.06.03 R02-M1-N0-C:J12-U11 2005-06-03-15.42.50.982731 R02-M1-N0-C:J12-U11 RAS KERNEL INFO instruction cache parity error corrected</td>\n",
       "    </tr>\n",
       "    <tr>\n",
       "      <th>...</th>\n",
       "      <td>...</td>\n",
       "    </tr>\n",
       "    <tr>\n",
       "      <th>4747958</th>\n",
       "      <td>KERNSOCK 1136390405 2006.01.04 R00-M0-NC-I:J18-U11 2006-01-04-08.00.05.167045 R00-M0-NC-I:J18-U11 RAS KERNEL FATAL idoproxy communication failure: socket closed</td>\n",
       "    </tr>\n",
       "    <tr>\n",
       "      <th>4747959</th>\n",
       "      <td>KERNSOCK 1136390405 2006.01.04 R36-M0-NC-I:J18-U11 2006-01-04-08.00.05.185942 R36-M0-NC-I:J18-U11 RAS KERNEL FATAL idoproxy communication failure: socket closed</td>\n",
       "    </tr>\n",
       "    <tr>\n",
       "      <th>4747960</th>\n",
       "      <td>KERNSOCK 1136390405 2006.01.04 R30-M0-NC-I:J18-U11 2006-01-04-08.00.05.186013 R30-M0-NC-I:J18-U11 RAS KERNEL FATAL idoproxy communication failure: socket closed</td>\n",
       "    </tr>\n",
       "    <tr>\n",
       "      <th>4747961</th>\n",
       "      <td>KERNSOCK 1136390405 2006.01.04 R31-M0-NC-I:J18-U11 2006-01-04-08.00.05.204230 R31-M0-NC-I:J18-U11 RAS KERNEL FATAL idoproxy communication failure: socket closed</td>\n",
       "    </tr>\n",
       "    <tr>\n",
       "      <th>4747962</th>\n",
       "      <td>KERNSOCK 1136390405 2006.01.04 R34-M0-NC-I:J18-U11 2006-01-04-08.00.05.233639 R34-M0-NC-I:J18-U11 RAS KERNEL FATAL idoproxy communication failure: socket closed</td>\n",
       "    </tr>\n",
       "  </tbody>\n",
       "</table>\n",
       "<p>4747963 rows × 1 columns</p>\n",
       "</div>"
      ],
      "text/plain": [
       "                                                                                                                                                                        0\n",
       "0                     - 1117838570 2005.06.03 R02-M1-N0-C:J12-U11 2005-06-03-15.42.50.363779 R02-M1-N0-C:J12-U11 RAS KERNEL INFO instruction cache parity error corrected\n",
       "1                     - 1117838570 2005.06.03 R02-M1-N0-C:J12-U11 2005-06-03-15.42.50.527847 R02-M1-N0-C:J12-U11 RAS KERNEL INFO instruction cache parity error corrected\n",
       "2                     - 1117838570 2005.06.03 R02-M1-N0-C:J12-U11 2005-06-03-15.42.50.675872 R02-M1-N0-C:J12-U11 RAS KERNEL INFO instruction cache parity error corrected\n",
       "3                     - 1117838570 2005.06.03 R02-M1-N0-C:J12-U11 2005-06-03-15.42.50.823719 R02-M1-N0-C:J12-U11 RAS KERNEL INFO instruction cache parity error corrected\n",
       "4                     - 1117838570 2005.06.03 R02-M1-N0-C:J12-U11 2005-06-03-15.42.50.982731 R02-M1-N0-C:J12-U11 RAS KERNEL INFO instruction cache parity error corrected\n",
       "...                                                                                                                                                                   ...\n",
       "4747958  KERNSOCK 1136390405 2006.01.04 R00-M0-NC-I:J18-U11 2006-01-04-08.00.05.167045 R00-M0-NC-I:J18-U11 RAS KERNEL FATAL idoproxy communication failure: socket closed\n",
       "4747959  KERNSOCK 1136390405 2006.01.04 R36-M0-NC-I:J18-U11 2006-01-04-08.00.05.185942 R36-M0-NC-I:J18-U11 RAS KERNEL FATAL idoproxy communication failure: socket closed\n",
       "4747960  KERNSOCK 1136390405 2006.01.04 R30-M0-NC-I:J18-U11 2006-01-04-08.00.05.186013 R30-M0-NC-I:J18-U11 RAS KERNEL FATAL idoproxy communication failure: socket closed\n",
       "4747961  KERNSOCK 1136390405 2006.01.04 R31-M0-NC-I:J18-U11 2006-01-04-08.00.05.204230 R31-M0-NC-I:J18-U11 RAS KERNEL FATAL idoproxy communication failure: socket closed\n",
       "4747962  KERNSOCK 1136390405 2006.01.04 R34-M0-NC-I:J18-U11 2006-01-04-08.00.05.233639 R34-M0-NC-I:J18-U11 RAS KERNEL FATAL idoproxy communication failure: socket closed\n",
       "\n",
       "[4747963 rows x 1 columns]"
      ]
     },
     "execution_count": 84,
     "metadata": {},
     "output_type": "execute_result"
    }
   ],
   "source": [
    "df_1"
   ]
  },
  {
   "cell_type": "code",
   "execution_count": 86,
   "id": "bac231b3",
   "metadata": {},
   "outputs": [
    {
     "data": {
      "text/html": [
       "<div>\n",
       "<style scoped>\n",
       "    .dataframe tbody tr th:only-of-type {\n",
       "        vertical-align: middle;\n",
       "    }\n",
       "\n",
       "    .dataframe tbody tr th {\n",
       "        vertical-align: top;\n",
       "    }\n",
       "\n",
       "    .dataframe thead th {\n",
       "        text-align: right;\n",
       "    }\n",
       "</style>\n",
       "<table border=\"1\" class=\"dataframe\">\n",
       "  <thead>\n",
       "    <tr style=\"text-align: right;\">\n",
       "      <th></th>\n",
       "      <th>Logs</th>\n",
       "    </tr>\n",
       "  </thead>\n",
       "  <tbody>\n",
       "    <tr>\n",
       "      <th>0</th>\n",
       "      <td>1117838570 2005.06.03 R02M1N0C:J12U11 2005060315.42.50.363779 R02M1N0C:J12U11 RAS KERNEL INFO instruction cache parity error corrected</td>\n",
       "    </tr>\n",
       "    <tr>\n",
       "      <th>1</th>\n",
       "      <td>1117838570 2005.06.03 R02M1N0C:J12U11 2005060315.42.50.527847 R02M1N0C:J12U11 RAS KERNEL INFO instruction cache parity error corrected</td>\n",
       "    </tr>\n",
       "    <tr>\n",
       "      <th>2</th>\n",
       "      <td>1117838570 2005.06.03 R02M1N0C:J12U11 2005060315.42.50.675872 R02M1N0C:J12U11 RAS KERNEL INFO instruction cache parity error corrected</td>\n",
       "    </tr>\n",
       "    <tr>\n",
       "      <th>3</th>\n",
       "      <td>1117838570 2005.06.03 R02M1N0C:J12U11 2005060315.42.50.823719 R02M1N0C:J12U11 RAS KERNEL INFO instruction cache parity error corrected</td>\n",
       "    </tr>\n",
       "    <tr>\n",
       "      <th>4</th>\n",
       "      <td>1117838570 2005.06.03 R02M1N0C:J12U11 2005060315.42.50.982731 R02M1N0C:J12U11 RAS KERNEL INFO instruction cache parity error corrected</td>\n",
       "    </tr>\n",
       "    <tr>\n",
       "      <th>...</th>\n",
       "      <td>...</td>\n",
       "    </tr>\n",
       "    <tr>\n",
       "      <th>4747958</th>\n",
       "      <td>KERNSOCK 1136390405 2006.01.04 R00M0NCI:J18U11 2006010408.00.05.167045 R00M0NCI:J18U11 RAS KERNEL FATAL idoproxy communication failure: socket closed</td>\n",
       "    </tr>\n",
       "    <tr>\n",
       "      <th>4747959</th>\n",
       "      <td>KERNSOCK 1136390405 2006.01.04 R36M0NCI:J18U11 2006010408.00.05.185942 R36M0NCI:J18U11 RAS KERNEL FATAL idoproxy communication failure: socket closed</td>\n",
       "    </tr>\n",
       "    <tr>\n",
       "      <th>4747960</th>\n",
       "      <td>KERNSOCK 1136390405 2006.01.04 R30M0NCI:J18U11 2006010408.00.05.186013 R30M0NCI:J18U11 RAS KERNEL FATAL idoproxy communication failure: socket closed</td>\n",
       "    </tr>\n",
       "    <tr>\n",
       "      <th>4747961</th>\n",
       "      <td>KERNSOCK 1136390405 2006.01.04 R31M0NCI:J18U11 2006010408.00.05.204230 R31M0NCI:J18U11 RAS KERNEL FATAL idoproxy communication failure: socket closed</td>\n",
       "    </tr>\n",
       "    <tr>\n",
       "      <th>4747962</th>\n",
       "      <td>KERNSOCK 1136390405 2006.01.04 R34M0NCI:J18U11 2006010408.00.05.233639 R34M0NCI:J18U11 RAS KERNEL FATAL idoproxy communication failure: socket closed</td>\n",
       "    </tr>\n",
       "  </tbody>\n",
       "</table>\n",
       "<p>4747963 rows × 1 columns</p>\n",
       "</div>"
      ],
      "text/plain": [
       "                                                                                                                                                          Logs\n",
       "0                       1117838570 2005.06.03 R02M1N0C:J12U11 2005060315.42.50.363779 R02M1N0C:J12U11 RAS KERNEL INFO instruction cache parity error corrected\n",
       "1                       1117838570 2005.06.03 R02M1N0C:J12U11 2005060315.42.50.527847 R02M1N0C:J12U11 RAS KERNEL INFO instruction cache parity error corrected\n",
       "2                       1117838570 2005.06.03 R02M1N0C:J12U11 2005060315.42.50.675872 R02M1N0C:J12U11 RAS KERNEL INFO instruction cache parity error corrected\n",
       "3                       1117838570 2005.06.03 R02M1N0C:J12U11 2005060315.42.50.823719 R02M1N0C:J12U11 RAS KERNEL INFO instruction cache parity error corrected\n",
       "4                       1117838570 2005.06.03 R02M1N0C:J12U11 2005060315.42.50.982731 R02M1N0C:J12U11 RAS KERNEL INFO instruction cache parity error corrected\n",
       "...                                                                                                                                                        ...\n",
       "4747958  KERNSOCK 1136390405 2006.01.04 R00M0NCI:J18U11 2006010408.00.05.167045 R00M0NCI:J18U11 RAS KERNEL FATAL idoproxy communication failure: socket closed\n",
       "4747959  KERNSOCK 1136390405 2006.01.04 R36M0NCI:J18U11 2006010408.00.05.185942 R36M0NCI:J18U11 RAS KERNEL FATAL idoproxy communication failure: socket closed\n",
       "4747960  KERNSOCK 1136390405 2006.01.04 R30M0NCI:J18U11 2006010408.00.05.186013 R30M0NCI:J18U11 RAS KERNEL FATAL idoproxy communication failure: socket closed\n",
       "4747961  KERNSOCK 1136390405 2006.01.04 R31M0NCI:J18U11 2006010408.00.05.204230 R31M0NCI:J18U11 RAS KERNEL FATAL idoproxy communication failure: socket closed\n",
       "4747962  KERNSOCK 1136390405 2006.01.04 R34M0NCI:J18U11 2006010408.00.05.233639 R34M0NCI:J18U11 RAS KERNEL FATAL idoproxy communication failure: socket closed\n",
       "\n",
       "[4747963 rows x 1 columns]"
      ]
     },
     "execution_count": 86,
     "metadata": {},
     "output_type": "execute_result"
    }
   ],
   "source": [
    "df_2"
   ]
  },
  {
   "cell_type": "code",
   "execution_count": 81,
   "id": "9304c8fd",
   "metadata": {},
   "outputs": [],
   "source": [
    "df_2.columns = ['Logs']"
   ]
  },
  {
   "cell_type": "code",
   "execution_count": 82,
   "id": "d943dd43",
   "metadata": {},
   "outputs": [],
   "source": [
    "df_2['Logs'] = df_2['Logs'].map(lambda x: x.replace('-',''))"
   ]
  },
  {
   "cell_type": "code",
   "execution_count": 90,
   "id": "38b35a46",
   "metadata": {},
   "outputs": [
    {
     "data": {
      "text/plain": [
       "0    - 1117982599 2005.06.05 R32-M0-ND-C:J11-U01 2005-06-05-07.43.19.177710 R32-M0-ND-C:J11-U01 RAS KERNEL INFO generating core.977\n",
       "Name: 67676, dtype: object"
      ]
     },
     "execution_count": 90,
     "metadata": {},
     "output_type": "execute_result"
    }
   ],
   "source": [
    "df_1.iloc[67676]"
   ]
  },
  {
   "cell_type": "code",
   "execution_count": 107,
   "id": "4c41a5b1",
   "metadata": {
    "scrolled": true
   },
   "outputs": [
    {
     "data": {
      "text/html": [
       "<div>\n",
       "<style scoped>\n",
       "    .dataframe tbody tr th:only-of-type {\n",
       "        vertical-align: middle;\n",
       "    }\n",
       "\n",
       "    .dataframe tbody tr th {\n",
       "        vertical-align: top;\n",
       "    }\n",
       "\n",
       "    .dataframe thead th {\n",
       "        text-align: right;\n",
       "    }\n",
       "</style>\n",
       "<table border=\"1\" class=\"dataframe\">\n",
       "  <thead>\n",
       "    <tr style=\"text-align: right;\">\n",
       "      <th></th>\n",
       "      <th>Log</th>\n",
       "      <th>Label</th>\n",
       "    </tr>\n",
       "  </thead>\n",
       "  <tbody>\n",
       "    <tr>\n",
       "      <th>0</th>\n",
       "      <td>1117838570 2005.06.03 R02M1N0C:J12U11 2005060315.42.50.363779 R02M1N0C:J12U11 RAS KERNEL INFO instruction cache parity error corrected</td>\n",
       "      <td>normal</td>\n",
       "    </tr>\n",
       "    <tr>\n",
       "      <th>1</th>\n",
       "      <td>1117838570 2005.06.03 R02M1N0C:J12U11 2005060315.42.50.527847 R02M1N0C:J12U11 RAS KERNEL INFO instruction cache parity error corrected</td>\n",
       "      <td>normal</td>\n",
       "    </tr>\n",
       "    <tr>\n",
       "      <th>2</th>\n",
       "      <td>1117838570 2005.06.03 R02M1N0C:J12U11 2005060315.42.50.675872 R02M1N0C:J12U11 RAS KERNEL INFO instruction cache parity error corrected</td>\n",
       "      <td>normal</td>\n",
       "    </tr>\n",
       "    <tr>\n",
       "      <th>3</th>\n",
       "      <td>1117838570 2005.06.03 R02M1N0C:J12U11 2005060315.42.50.823719 R02M1N0C:J12U11 RAS KERNEL INFO instruction cache parity error corrected</td>\n",
       "      <td>normal</td>\n",
       "    </tr>\n",
       "    <tr>\n",
       "      <th>4</th>\n",
       "      <td>1117838570 2005.06.03 R02M1N0C:J12U11 2005060315.42.50.982731 R02M1N0C:J12U11 RAS KERNEL INFO instruction cache parity error corrected</td>\n",
       "      <td>normal</td>\n",
       "    </tr>\n",
       "    <tr>\n",
       "      <th>...</th>\n",
       "      <td>...</td>\n",
       "      <td>...</td>\n",
       "    </tr>\n",
       "    <tr>\n",
       "      <th>4747958</th>\n",
       "      <td>KERNSOCK 1136390405 2006.01.04 R00M0NCI:J18U11 2006010408.00.05.167045 R00M0NCI:J18U11 RAS KERNEL FATAL idoproxy communication failure: socket closed</td>\n",
       "      <td>anomaly</td>\n",
       "    </tr>\n",
       "    <tr>\n",
       "      <th>4747959</th>\n",
       "      <td>KERNSOCK 1136390405 2006.01.04 R36M0NCI:J18U11 2006010408.00.05.185942 R36M0NCI:J18U11 RAS KERNEL FATAL idoproxy communication failure: socket closed</td>\n",
       "      <td>anomaly</td>\n",
       "    </tr>\n",
       "    <tr>\n",
       "      <th>4747960</th>\n",
       "      <td>KERNSOCK 1136390405 2006.01.04 R30M0NCI:J18U11 2006010408.00.05.186013 R30M0NCI:J18U11 RAS KERNEL FATAL idoproxy communication failure: socket closed</td>\n",
       "      <td>anomaly</td>\n",
       "    </tr>\n",
       "    <tr>\n",
       "      <th>4747961</th>\n",
       "      <td>KERNSOCK 1136390405 2006.01.04 R31M0NCI:J18U11 2006010408.00.05.204230 R31M0NCI:J18U11 RAS KERNEL FATAL idoproxy communication failure: socket closed</td>\n",
       "      <td>anomaly</td>\n",
       "    </tr>\n",
       "    <tr>\n",
       "      <th>4747962</th>\n",
       "      <td>KERNSOCK 1136390405 2006.01.04 R34M0NCI:J18U11 2006010408.00.05.233639 R34M0NCI:J18U11 RAS KERNEL FATAL idoproxy communication failure: socket closed</td>\n",
       "      <td>anomaly</td>\n",
       "    </tr>\n",
       "  </tbody>\n",
       "</table>\n",
       "<p>4747963 rows × 2 columns</p>\n",
       "</div>"
      ],
      "text/plain": [
       "                                                                                                                                                           Log  \\\n",
       "0                       1117838570 2005.06.03 R02M1N0C:J12U11 2005060315.42.50.363779 R02M1N0C:J12U11 RAS KERNEL INFO instruction cache parity error corrected   \n",
       "1                       1117838570 2005.06.03 R02M1N0C:J12U11 2005060315.42.50.527847 R02M1N0C:J12U11 RAS KERNEL INFO instruction cache parity error corrected   \n",
       "2                       1117838570 2005.06.03 R02M1N0C:J12U11 2005060315.42.50.675872 R02M1N0C:J12U11 RAS KERNEL INFO instruction cache parity error corrected   \n",
       "3                       1117838570 2005.06.03 R02M1N0C:J12U11 2005060315.42.50.823719 R02M1N0C:J12U11 RAS KERNEL INFO instruction cache parity error corrected   \n",
       "4                       1117838570 2005.06.03 R02M1N0C:J12U11 2005060315.42.50.982731 R02M1N0C:J12U11 RAS KERNEL INFO instruction cache parity error corrected   \n",
       "...                                                                                                                                                        ...   \n",
       "4747958  KERNSOCK 1136390405 2006.01.04 R00M0NCI:J18U11 2006010408.00.05.167045 R00M0NCI:J18U11 RAS KERNEL FATAL idoproxy communication failure: socket closed   \n",
       "4747959  KERNSOCK 1136390405 2006.01.04 R36M0NCI:J18U11 2006010408.00.05.185942 R36M0NCI:J18U11 RAS KERNEL FATAL idoproxy communication failure: socket closed   \n",
       "4747960  KERNSOCK 1136390405 2006.01.04 R30M0NCI:J18U11 2006010408.00.05.186013 R30M0NCI:J18U11 RAS KERNEL FATAL idoproxy communication failure: socket closed   \n",
       "4747961  KERNSOCK 1136390405 2006.01.04 R31M0NCI:J18U11 2006010408.00.05.204230 R31M0NCI:J18U11 RAS KERNEL FATAL idoproxy communication failure: socket closed   \n",
       "4747962  KERNSOCK 1136390405 2006.01.04 R34M0NCI:J18U11 2006010408.00.05.233639 R34M0NCI:J18U11 RAS KERNEL FATAL idoproxy communication failure: socket closed   \n",
       "\n",
       "           Label  \n",
       "0         normal  \n",
       "1         normal  \n",
       "2         normal  \n",
       "3         normal  \n",
       "4         normal  \n",
       "...          ...  \n",
       "4747958  anomaly  \n",
       "4747959  anomaly  \n",
       "4747960  anomaly  \n",
       "4747961  anomaly  \n",
       "4747962  anomaly  \n",
       "\n",
       "[4747963 rows x 2 columns]"
      ]
     },
     "execution_count": 107,
     "metadata": {},
     "output_type": "execute_result"
    }
   ],
   "source": [
    "ultra_label"
   ]
  },
  {
   "cell_type": "code",
   "execution_count": 112,
   "id": "082253b3",
   "metadata": {},
   "outputs": [
    {
     "data": {
      "text/html": [
       "<div>\n",
       "<style scoped>\n",
       "    .dataframe tbody tr th:only-of-type {\n",
       "        vertical-align: middle;\n",
       "    }\n",
       "\n",
       "    .dataframe tbody tr th {\n",
       "        vertical-align: top;\n",
       "    }\n",
       "\n",
       "    .dataframe thead th {\n",
       "        text-align: right;\n",
       "    }\n",
       "</style>\n",
       "<table border=\"1\" class=\"dataframe\">\n",
       "  <thead>\n",
       "    <tr style=\"text-align: right;\">\n",
       "      <th></th>\n",
       "      <th>ID</th>\n",
       "      <th>Log</th>\n",
       "    </tr>\n",
       "  </thead>\n",
       "  <tbody>\n",
       "    <tr>\n",
       "      <th>0</th>\n",
       "      <td>0</td>\n",
       "      <td>1124336301 2005.08.17 R13M1N8C:J12U01 2005081720.38.21.466368 R13M1N8C:J12U01 RAS KERNEL FATAL rts: kernel terminated for reason 1001</td>\n",
       "    </tr>\n",
       "    <tr>\n",
       "      <th>1</th>\n",
       "      <td>1</td>\n",
       "      <td>1118553175 2005.06.11 R30M0N9C:J16U01 2005061122.12.55.707149 R30M0N9C:J16U01 RAS KERNEL FATAL data TLB error interrupt</td>\n",
       "    </tr>\n",
       "    <tr>\n",
       "      <th>2</th>\n",
       "      <td>2</td>\n",
       "      <td>1118536033 2005.06.11 R30M0N9C:J16U01 2005061117.27.13.042387 R30M0N9C:J16U01 RAS KERNEL FATAL data TLB error interrupt</td>\n",
       "    </tr>\n",
       "    <tr>\n",
       "      <th>3</th>\n",
       "      <td>3</td>\n",
       "      <td>1117992566 2005.06.05 R30M1N6C:J03U11 2005060510.29.26.943462 R30M1N6C:J03U11 RAS KERNEL INFO generating core.6463</td>\n",
       "    </tr>\n",
       "    <tr>\n",
       "      <th>4</th>\n",
       "      <td>4</td>\n",
       "      <td>1118538965 2005.06.11 R30M0N9C:J16U01 2005061118.16.05.049256 R30M0N9C:J16U01 RAS KERNEL FATAL data TLB error interrupt</td>\n",
       "    </tr>\n",
       "    <tr>\n",
       "      <th>...</th>\n",
       "      <td>...</td>\n",
       "      <td>...</td>\n",
       "    </tr>\n",
       "    <tr>\n",
       "      <th>595295</th>\n",
       "      <td>595295</td>\n",
       "      <td>1118768234 2005.06.14 R20M0NAC:J17U11 2005061409.57.14.709136 R20M0NAC:J17U11 RAS KERNEL FATAL exception syndrome register: 0x00800000</td>\n",
       "    </tr>\n",
       "    <tr>\n",
       "      <th>595296</th>\n",
       "      <td>595296</td>\n",
       "      <td>1118370947 2005.06.09 R15M0NAC:J02U01 2005060919.35.47.353971 R15M0NAC:J02U01 RAS KERNEL INFO generating core.10895</td>\n",
       "    </tr>\n",
       "    <tr>\n",
       "      <th>595297</th>\n",
       "      <td>595297</td>\n",
       "      <td>1118540242 2005.06.11 R30M0N9C:J16U01 2005061118.37.22.743936 R30M0N9C:J16U01 RAS KERNEL FATAL data TLB error interrupt</td>\n",
       "    </tr>\n",
       "    <tr>\n",
       "      <th>595298</th>\n",
       "      <td>595298</td>\n",
       "      <td>1118538947 2005.06.11 R30M0N9C:J16U01 2005061118.15.47.247097 R30M0N9C:J16U01 RAS KERNEL FATAL data TLB error interrupt</td>\n",
       "    </tr>\n",
       "    <tr>\n",
       "      <th>595299</th>\n",
       "      <td>595299</td>\n",
       "      <td>1118165805 2005.06.07 R23M1N5C:J16U11 2005060710.36.45.002573 R23M1N5C:J16U11 RAS KERNEL INFO generating core.680</td>\n",
       "    </tr>\n",
       "  </tbody>\n",
       "</table>\n",
       "<p>595300 rows × 2 columns</p>\n",
       "</div>"
      ],
      "text/plain": [
       "            ID  \\\n",
       "0            0   \n",
       "1            1   \n",
       "2            2   \n",
       "3            3   \n",
       "4            4   \n",
       "...        ...   \n",
       "595295  595295   \n",
       "595296  595296   \n",
       "595297  595297   \n",
       "595298  595298   \n",
       "595299  595299   \n",
       "\n",
       "                                                                                                                                            Log  \n",
       "0         1124336301 2005.08.17 R13M1N8C:J12U01 2005081720.38.21.466368 R13M1N8C:J12U01 RAS KERNEL FATAL rts: kernel terminated for reason 1001  \n",
       "1                       1118553175 2005.06.11 R30M0N9C:J16U01 2005061122.12.55.707149 R30M0N9C:J16U01 RAS KERNEL FATAL data TLB error interrupt  \n",
       "2                       1118536033 2005.06.11 R30M0N9C:J16U01 2005061117.27.13.042387 R30M0N9C:J16U01 RAS KERNEL FATAL data TLB error interrupt  \n",
       "3                            1117992566 2005.06.05 R30M1N6C:J03U11 2005060510.29.26.943462 R30M1N6C:J03U11 RAS KERNEL INFO generating core.6463  \n",
       "4                       1118538965 2005.06.11 R30M0N9C:J16U01 2005061118.16.05.049256 R30M0N9C:J16U01 RAS KERNEL FATAL data TLB error interrupt  \n",
       "...                                                                                                                                         ...  \n",
       "595295   1118768234 2005.06.14 R20M0NAC:J17U11 2005061409.57.14.709136 R20M0NAC:J17U11 RAS KERNEL FATAL exception syndrome register: 0x00800000  \n",
       "595296                      1118370947 2005.06.09 R15M0NAC:J02U01 2005060919.35.47.353971 R15M0NAC:J02U01 RAS KERNEL INFO generating core.10895  \n",
       "595297                  1118540242 2005.06.11 R30M0N9C:J16U01 2005061118.37.22.743936 R30M0N9C:J16U01 RAS KERNEL FATAL data TLB error interrupt  \n",
       "595298                  1118538947 2005.06.11 R30M0N9C:J16U01 2005061118.15.47.247097 R30M0N9C:J16U01 RAS KERNEL FATAL data TLB error interrupt  \n",
       "595299                        1118165805 2005.06.07 R23M1N5C:J16U11 2005060710.36.45.002573 R23M1N5C:J16U11 RAS KERNEL INFO generating core.680  \n",
       "\n",
       "[595300 rows x 2 columns]"
      ]
     },
     "execution_count": 112,
     "metadata": {},
     "output_type": "execute_result"
    }
   ],
   "source": [
    "test_1"
   ]
  },
  {
   "cell_type": "code",
   "execution_count": 113,
   "id": "21613d54",
   "metadata": {},
   "outputs": [
    {
     "data": {
      "text/html": [
       "<div>\n",
       "<style scoped>\n",
       "    .dataframe tbody tr th:only-of-type {\n",
       "        vertical-align: middle;\n",
       "    }\n",
       "\n",
       "    .dataframe tbody tr th {\n",
       "        vertical-align: top;\n",
       "    }\n",
       "\n",
       "    .dataframe thead th {\n",
       "        text-align: right;\n",
       "    }\n",
       "</style>\n",
       "<table border=\"1\" class=\"dataframe\">\n",
       "  <thead>\n",
       "    <tr style=\"text-align: right;\">\n",
       "      <th></th>\n",
       "      <th>Log</th>\n",
       "      <th>Label</th>\n",
       "    </tr>\n",
       "  </thead>\n",
       "  <tbody>\n",
       "  </tbody>\n",
       "</table>\n",
       "</div>"
      ],
      "text/plain": [
       "Empty DataFrame\n",
       "Columns: [Log, Label]\n",
       "Index: []"
      ]
     },
     "execution_count": 113,
     "metadata": {},
     "output_type": "execute_result"
    }
   ],
   "source": [
    "ultra_label[ultra_label['Log'] == '1118370947 2005.06.09 R15M0NAC:J02U01 2005060919.35.47.353971 R15M0NAC:J02U01 RAS KERNEL INFO generating core.10895']"
   ]
  },
  {
   "cell_type": "code",
   "execution_count": 97,
   "id": "fdfa9bb5",
   "metadata": {},
   "outputs": [],
   "source": [
    "# test_1\n",
    "test_1[' Log'] = test_1[' Log'].map(lambda x: x.replace('-',''))"
   ]
  },
  {
   "cell_type": "code",
   "execution_count": 109,
   "id": "0b303d31",
   "metadata": {
    "scrolled": true
   },
   "outputs": [
    {
     "data": {
      "text/plain": [
       "ID                                                                                                                          5678\n",
       " Log     1118538752 2005.06.11 R30M0N9C:J16U01 2005061118.12.32.648924 R30M0N9C:J16U01 RAS KERNEL FATAL data TLB error interrupt\n",
       "Name: 5678, dtype: object"
      ]
     },
     "execution_count": 109,
     "metadata": {},
     "output_type": "execute_result"
    }
   ],
   "source": [
    "test_1.iloc[5678]"
   ]
  },
  {
   "cell_type": "code",
   "execution_count": 116,
   "id": "43f8219c",
   "metadata": {},
   "outputs": [
    {
     "data": {
      "text/html": [
       "<div>\n",
       "<style scoped>\n",
       "    .dataframe tbody tr th:only-of-type {\n",
       "        vertical-align: middle;\n",
       "    }\n",
       "\n",
       "    .dataframe tbody tr th {\n",
       "        vertical-align: top;\n",
       "    }\n",
       "\n",
       "    .dataframe thead th {\n",
       "        text-align: right;\n",
       "    }\n",
       "</style>\n",
       "<table border=\"1\" class=\"dataframe\">\n",
       "  <thead>\n",
       "    <tr style=\"text-align: right;\">\n",
       "      <th></th>\n",
       "      <th>log</th>\n",
       "      <th>count</th>\n",
       "    </tr>\n",
       "  </thead>\n",
       "  <tbody>\n",
       "    <tr>\n",
       "      <th>0</th>\n",
       "      <td>1117838570 2005.06.03 R02-M1-N0-C:J12-U11 2005-06-03-15.42.50.363779 R02-M1-N0-C:J12-U11 RAS KERNEL INFO instruction cache parity error corrected</td>\n",
       "      <td>normal</td>\n",
       "    </tr>\n",
       "    <tr>\n",
       "      <th>1</th>\n",
       "      <td>1117838570 2005.06.03 R02-M1-N0-C:J12-U11 2005-06-03-15.42.50.527847 R02-M1-N0-C:J12-U11 RAS KERNEL INFO instruction cache parity error corrected</td>\n",
       "      <td>normal</td>\n",
       "    </tr>\n",
       "    <tr>\n",
       "      <th>2</th>\n",
       "      <td>1117838570 2005.06.03 R02-M1-N0-C:J12-U11 2005-06-03-15.42.50.675872 R02-M1-N0-C:J12-U11 RAS KERNEL INFO instruction cache parity error corrected</td>\n",
       "      <td>normal</td>\n",
       "    </tr>\n",
       "    <tr>\n",
       "      <th>3</th>\n",
       "      <td>1117838570 2005.06.03 R02-M1-N0-C:J12-U11 2005-06-03-15.42.50.823719 R02-M1-N0-C:J12-U11 RAS KERNEL INFO instruction cache parity error corrected</td>\n",
       "      <td>normal</td>\n",
       "    </tr>\n",
       "    <tr>\n",
       "      <th>4</th>\n",
       "      <td>1117838570 2005.06.03 R02-M1-N0-C:J12-U11 2005-06-03-15.42.50.982731 R02-M1-N0-C:J12-U11 RAS KERNEL INFO instruction cache parity error corrected</td>\n",
       "      <td>normal</td>\n",
       "    </tr>\n",
       "    <tr>\n",
       "      <th>...</th>\n",
       "      <td>...</td>\n",
       "      <td>...</td>\n",
       "    </tr>\n",
       "    <tr>\n",
       "      <th>4152654</th>\n",
       "      <td>KERNDTLB 1118545530 2005.06.11 R30-M0-N9-C:J16-U01 2005-06-11-20.05.30.386651 R30-M0-N9-C:J16-U01 RAS KERNEL FATAL data TLB error interrupt</td>\n",
       "      <td>anomaly</td>\n",
       "    </tr>\n",
       "    <tr>\n",
       "      <th>4152655</th>\n",
       "      <td>KERNDTLB 1118545530 2005.06.11 R30-M0-N9-C:J16-U01 2005-06-11-20.05.30.558220 R30-M0-N9-C:J16-U01 RAS KERNEL FATAL data TLB error interrupt</td>\n",
       "      <td>anomaly</td>\n",
       "    </tr>\n",
       "    <tr>\n",
       "      <th>4152656</th>\n",
       "      <td>KERNDTLB 1118545530 2005.06.11 R30-M0-N9-C:J16-U01 2005-06-11-20.05.30.675784 R30-M0-N9-C:J16-U01 RAS KERNEL FATAL data TLB error interrupt</td>\n",
       "      <td>anomaly</td>\n",
       "    </tr>\n",
       "    <tr>\n",
       "      <th>4152657</th>\n",
       "      <td>KERNDTLB 1118545530 2005.06.11 R30-M0-N9-C:J16-U01 2005-06-11-20.05.30.777307 R30-M0-N9-C:J16-U01 RAS KERNEL FATAL data TLB error interrupt</td>\n",
       "      <td>anomaly</td>\n",
       "    </tr>\n",
       "    <tr>\n",
       "      <th>4152658</th>\n",
       "      <td>KERNDTLB 1118545530 2005.06.11 R30-M0-N9-C:J16-U01 2005-06-11-20.05.30.937080 R30-M0-N9-C:J16-U01 RAS KERNEL FATAL data TLB error interrupt</td>\n",
       "      <td>anomaly</td>\n",
       "    </tr>\n",
       "  </tbody>\n",
       "</table>\n",
       "<p>4152659 rows × 2 columns</p>\n",
       "</div>"
      ],
      "text/plain": [
       "                                                                                                                                                        log  \\\n",
       "0         1117838570 2005.06.03 R02-M1-N0-C:J12-U11 2005-06-03-15.42.50.363779 R02-M1-N0-C:J12-U11 RAS KERNEL INFO instruction cache parity error corrected   \n",
       "1         1117838570 2005.06.03 R02-M1-N0-C:J12-U11 2005-06-03-15.42.50.527847 R02-M1-N0-C:J12-U11 RAS KERNEL INFO instruction cache parity error corrected   \n",
       "2         1117838570 2005.06.03 R02-M1-N0-C:J12-U11 2005-06-03-15.42.50.675872 R02-M1-N0-C:J12-U11 RAS KERNEL INFO instruction cache parity error corrected   \n",
       "3         1117838570 2005.06.03 R02-M1-N0-C:J12-U11 2005-06-03-15.42.50.823719 R02-M1-N0-C:J12-U11 RAS KERNEL INFO instruction cache parity error corrected   \n",
       "4         1117838570 2005.06.03 R02-M1-N0-C:J12-U11 2005-06-03-15.42.50.982731 R02-M1-N0-C:J12-U11 RAS KERNEL INFO instruction cache parity error corrected   \n",
       "...                                                                                                                                                     ...   \n",
       "4152654         KERNDTLB 1118545530 2005.06.11 R30-M0-N9-C:J16-U01 2005-06-11-20.05.30.386651 R30-M0-N9-C:J16-U01 RAS KERNEL FATAL data TLB error interrupt   \n",
       "4152655         KERNDTLB 1118545530 2005.06.11 R30-M0-N9-C:J16-U01 2005-06-11-20.05.30.558220 R30-M0-N9-C:J16-U01 RAS KERNEL FATAL data TLB error interrupt   \n",
       "4152656         KERNDTLB 1118545530 2005.06.11 R30-M0-N9-C:J16-U01 2005-06-11-20.05.30.675784 R30-M0-N9-C:J16-U01 RAS KERNEL FATAL data TLB error interrupt   \n",
       "4152657         KERNDTLB 1118545530 2005.06.11 R30-M0-N9-C:J16-U01 2005-06-11-20.05.30.777307 R30-M0-N9-C:J16-U01 RAS KERNEL FATAL data TLB error interrupt   \n",
       "4152658         KERNDTLB 1118545530 2005.06.11 R30-M0-N9-C:J16-U01 2005-06-11-20.05.30.937080 R30-M0-N9-C:J16-U01 RAS KERNEL FATAL data TLB error interrupt   \n",
       "\n",
       "           count  \n",
       "0         normal  \n",
       "1         normal  \n",
       "2         normal  \n",
       "3         normal  \n",
       "4         normal  \n",
       "...          ...  \n",
       "4152654  anomaly  \n",
       "4152655  anomaly  \n",
       "4152656  anomaly  \n",
       "4152657  anomaly  \n",
       "4152658  anomaly  \n",
       "\n",
       "[4152659 rows x 2 columns]"
      ]
     },
     "execution_count": 116,
     "metadata": {},
     "output_type": "execute_result"
    }
   ],
   "source": [
    "train"
   ]
  },
  {
   "cell_type": "code",
   "execution_count": 101,
   "id": "ba52241c",
   "metadata": {},
   "outputs": [],
   "source": [
    "test = pd.read_csv(r\"C:\\Users\\risha\\Desktop\\convolve-epoch1\\test.csv\")"
   ]
  },
  {
   "cell_type": "code",
   "execution_count": 104,
   "id": "f2adabfd",
   "metadata": {},
   "outputs": [
    {
     "data": {
      "text/html": [
       "<div>\n",
       "<style scoped>\n",
       "    .dataframe tbody tr th:only-of-type {\n",
       "        vertical-align: middle;\n",
       "    }\n",
       "\n",
       "    .dataframe tbody tr th {\n",
       "        vertical-align: top;\n",
       "    }\n",
       "\n",
       "    .dataframe thead th {\n",
       "        text-align: right;\n",
       "    }\n",
       "</style>\n",
       "<table border=\"1\" class=\"dataframe\">\n",
       "  <thead>\n",
       "    <tr style=\"text-align: right;\">\n",
       "      <th></th>\n",
       "      <th>ID</th>\n",
       "      <th>Log</th>\n",
       "    </tr>\n",
       "  </thead>\n",
       "  <tbody>\n",
       "    <tr>\n",
       "      <th>0</th>\n",
       "      <td>0</td>\n",
       "      <td>1124336301 2005.08.17 R13-M1-N8-C:J12-U01 2005-08-17-20.38.21.466368 R13-M1-N8-C:J12-U01 RAS KERNEL FATAL rts: kernel terminated for reason 1001</td>\n",
       "    </tr>\n",
       "    <tr>\n",
       "      <th>1</th>\n",
       "      <td>1</td>\n",
       "      <td>1118553175 2005.06.11 R30-M0-N9-C:J16-U01 2005-06-11-22.12.55.707149 R30-M0-N9-C:J16-U01 RAS KERNEL FATAL data TLB error interrupt</td>\n",
       "    </tr>\n",
       "    <tr>\n",
       "      <th>2</th>\n",
       "      <td>2</td>\n",
       "      <td>1118536033 2005.06.11 R30-M0-N9-C:J16-U01 2005-06-11-17.27.13.042387 R30-M0-N9-C:J16-U01 RAS KERNEL FATAL data TLB error interrupt</td>\n",
       "    </tr>\n",
       "    <tr>\n",
       "      <th>3</th>\n",
       "      <td>3</td>\n",
       "      <td>1117992566 2005.06.05 R30-M1-N6-C:J03-U11 2005-06-05-10.29.26.943462 R30-M1-N6-C:J03-U11 RAS KERNEL INFO generating core.6463</td>\n",
       "    </tr>\n",
       "    <tr>\n",
       "      <th>4</th>\n",
       "      <td>4</td>\n",
       "      <td>1118538965 2005.06.11 R30-M0-N9-C:J16-U01 2005-06-11-18.16.05.049256 R30-M0-N9-C:J16-U01 RAS KERNEL FATAL data TLB error interrupt</td>\n",
       "    </tr>\n",
       "    <tr>\n",
       "      <th>...</th>\n",
       "      <td>...</td>\n",
       "      <td>...</td>\n",
       "    </tr>\n",
       "    <tr>\n",
       "      <th>595295</th>\n",
       "      <td>595295</td>\n",
       "      <td>1118768234 2005.06.14 R20-M0-NA-C:J17-U11 2005-06-14-09.57.14.709136 R20-M0-NA-C:J17-U11 RAS KERNEL FATAL exception syndrome register: 0x00800000</td>\n",
       "    </tr>\n",
       "    <tr>\n",
       "      <th>595296</th>\n",
       "      <td>595296</td>\n",
       "      <td>1118370947 2005.06.09 R15-M0-NA-C:J02-U01 2005-06-09-19.35.47.353971 R15-M0-NA-C:J02-U01 RAS KERNEL INFO generating core.10895</td>\n",
       "    </tr>\n",
       "    <tr>\n",
       "      <th>595297</th>\n",
       "      <td>595297</td>\n",
       "      <td>1118540242 2005.06.11 R30-M0-N9-C:J16-U01 2005-06-11-18.37.22.743936 R30-M0-N9-C:J16-U01 RAS KERNEL FATAL data TLB error interrupt</td>\n",
       "    </tr>\n",
       "    <tr>\n",
       "      <th>595298</th>\n",
       "      <td>595298</td>\n",
       "      <td>1118538947 2005.06.11 R30-M0-N9-C:J16-U01 2005-06-11-18.15.47.247097 R30-M0-N9-C:J16-U01 RAS KERNEL FATAL data TLB error interrupt</td>\n",
       "    </tr>\n",
       "    <tr>\n",
       "      <th>595299</th>\n",
       "      <td>595299</td>\n",
       "      <td>1118165805 2005.06.07 R23-M1-N5-C:J16-U11 2005-06-07-10.36.45.002573 R23-M1-N5-C:J16-U11 RAS KERNEL INFO generating core.680</td>\n",
       "    </tr>\n",
       "  </tbody>\n",
       "</table>\n",
       "<p>595300 rows × 2 columns</p>\n",
       "</div>"
      ],
      "text/plain": [
       "            ID  \\\n",
       "0            0   \n",
       "1            1   \n",
       "2            2   \n",
       "3            3   \n",
       "4            4   \n",
       "...        ...   \n",
       "595295  595295   \n",
       "595296  595296   \n",
       "595297  595297   \n",
       "595298  595298   \n",
       "595299  595299   \n",
       "\n",
       "                                                                                                                                                       Log  \n",
       "0         1124336301 2005.08.17 R13-M1-N8-C:J12-U01 2005-08-17-20.38.21.466368 R13-M1-N8-C:J12-U01 RAS KERNEL FATAL rts: kernel terminated for reason 1001  \n",
       "1                       1118553175 2005.06.11 R30-M0-N9-C:J16-U01 2005-06-11-22.12.55.707149 R30-M0-N9-C:J16-U01 RAS KERNEL FATAL data TLB error interrupt  \n",
       "2                       1118536033 2005.06.11 R30-M0-N9-C:J16-U01 2005-06-11-17.27.13.042387 R30-M0-N9-C:J16-U01 RAS KERNEL FATAL data TLB error interrupt  \n",
       "3                            1117992566 2005.06.05 R30-M1-N6-C:J03-U11 2005-06-05-10.29.26.943462 R30-M1-N6-C:J03-U11 RAS KERNEL INFO generating core.6463  \n",
       "4                       1118538965 2005.06.11 R30-M0-N9-C:J16-U01 2005-06-11-18.16.05.049256 R30-M0-N9-C:J16-U01 RAS KERNEL FATAL data TLB error interrupt  \n",
       "...                                                                                                                                                    ...  \n",
       "595295   1118768234 2005.06.14 R20-M0-NA-C:J17-U11 2005-06-14-09.57.14.709136 R20-M0-NA-C:J17-U11 RAS KERNEL FATAL exception syndrome register: 0x00800000  \n",
       "595296                      1118370947 2005.06.09 R15-M0-NA-C:J02-U01 2005-06-09-19.35.47.353971 R15-M0-NA-C:J02-U01 RAS KERNEL INFO generating core.10895  \n",
       "595297                  1118540242 2005.06.11 R30-M0-N9-C:J16-U01 2005-06-11-18.37.22.743936 R30-M0-N9-C:J16-U01 RAS KERNEL FATAL data TLB error interrupt  \n",
       "595298                  1118538947 2005.06.11 R30-M0-N9-C:J16-U01 2005-06-11-18.15.47.247097 R30-M0-N9-C:J16-U01 RAS KERNEL FATAL data TLB error interrupt  \n",
       "595299                        1118165805 2005.06.07 R23-M1-N5-C:J16-U11 2005-06-07-10.36.45.002573 R23-M1-N5-C:J16-U11 RAS KERNEL INFO generating core.680  \n",
       "\n",
       "[595300 rows x 2 columns]"
      ]
     },
     "execution_count": 104,
     "metadata": {},
     "output_type": "execute_result"
    }
   ],
   "source": [
    "test"
   ]
  },
  {
   "cell_type": "code",
   "execution_count": 103,
   "id": "31f4e07b",
   "metadata": {},
   "outputs": [],
   "source": [
    "test[' Log'] = test[' Log'].map(lambda x: x.rstrip('\\n'))"
   ]
  },
  {
   "cell_type": "code",
   "execution_count": 138,
   "id": "a4a747fd",
   "metadata": {},
   "outputs": [],
   "source": [
    "normal = ultra_label[ultra_label['Log'].str.startswith('-')]"
   ]
  },
  {
   "cell_type": "code",
   "execution_count": 191,
   "id": "d82ff771",
   "metadata": {},
   "outputs": [],
   "source": [
    "anomaly = ultra_label[ultra_label['Label'] == 'anomaly']"
   ]
  },
  {
   "cell_type": "code",
   "execution_count": 187,
   "id": "904451ed",
   "metadata": {},
   "outputs": [
    {
     "data": {
      "text/plain": [
       "'APPREAD 1117869872 2005.06.04 R23-M1-N8-I:J18-U11 2005-06-04-00.24.32.398284 R23-M1-N8-I:J18-U11 RAS APP FATAL ciod: failed to read message prefix on control stream (CioStream socket to 172.16.96.116:33399'"
      ]
     },
     "execution_count": 187,
     "metadata": {},
     "output_type": "execute_result"
    }
   ],
   "source": [
    "anomaly.iloc[0,0]"
   ]
  },
  {
   "cell_type": "code",
   "execution_count": 194,
   "id": "8c48c14c",
   "metadata": {},
   "outputs": [
    {
     "name": "stderr",
     "output_type": "stream",
     "text": [
      "C:\\Users\\risha\\AppData\\Local\\Temp\\ipykernel_15256\\596131317.py:1: SettingWithCopyWarning: \n",
      "A value is trying to be set on a copy of a slice from a DataFrame.\n",
      "Try using .loc[row_indexer,col_indexer] = value instead\n",
      "\n",
      "See the caveats in the documentation: https://pandas.pydata.org/pandas-docs/stable/user_guide/indexing.html#returning-a-view-versus-a-copy\n",
      "  anomaly['Log'] =anomaly['Log'].apply(lambda x: ' '.join(x.split(' ')[1:]))\n"
     ]
    }
   ],
   "source": [
    "anomaly['Log'] =anomaly['Log'].apply(lambda x: ' '.join(x.split(' ')[1:]))"
   ]
  },
  {
   "cell_type": "code",
   "execution_count": 195,
   "id": "1ca6c168",
   "metadata": {},
   "outputs": [
    {
     "data": {
      "text/html": [
       "<div>\n",
       "<style scoped>\n",
       "    .dataframe tbody tr th:only-of-type {\n",
       "        vertical-align: middle;\n",
       "    }\n",
       "\n",
       "    .dataframe tbody tr th {\n",
       "        vertical-align: top;\n",
       "    }\n",
       "\n",
       "    .dataframe thead th {\n",
       "        text-align: right;\n",
       "    }\n",
       "</style>\n",
       "<table border=\"1\" class=\"dataframe\">\n",
       "  <thead>\n",
       "    <tr style=\"text-align: right;\">\n",
       "      <th></th>\n",
       "      <th>Log</th>\n",
       "      <th>Label</th>\n",
       "    </tr>\n",
       "  </thead>\n",
       "  <tbody>\n",
       "    <tr>\n",
       "      <th>14737</th>\n",
       "      <td>1117869872 2005.06.04 R23-M1-N8-I:J18-U11 2005-06-04-00.24.32.398284 R23-M1-N8-I:J18-U11 RAS APP FATAL ciod: failed to read message prefix on control stream (CioStrea...</td>\n",
       "      <td>anomaly</td>\n",
       "    </tr>\n",
       "    <tr>\n",
       "      <th>14738</th>\n",
       "      <td>1117869872 2005.06.04 R04-M1-N4-I:J18-U11 2005-06-04-00.24.32.432192 R04-M1-N4-I:J18-U11 RAS APP FATAL ciod: failed to read message prefix on control stream (CioStrea...</td>\n",
       "      <td>anomaly</td>\n",
       "    </tr>\n",
       "    <tr>\n",
       "      <th>14739</th>\n",
       "      <td>1117869872 2005.06.04 R04-M1-N4-I:J18-U01 2005-06-04-00.24.32.481570 R04-M1-N4-I:J18-U01 RAS APP FATAL ciod: failed to read message prefix on control stream (CioStrea...</td>\n",
       "      <td>anomaly</td>\n",
       "    </tr>\n",
       "    <tr>\n",
       "      <th>14740</th>\n",
       "      <td>1117869873 2005.06.04 R35-M1-N0-I:J18-U11 2005-06-04-00.24.33.168659 R35-M1-N0-I:J18-U11 RAS APP FATAL ciod: failed to read message prefix on control stream (CioStrea...</td>\n",
       "      <td>anomaly</td>\n",
       "    </tr>\n",
       "    <tr>\n",
       "      <th>14741</th>\n",
       "      <td>1117869873 2005.06.04 R35-M1-N0-I:J18-U01 2005-06-04-00.24.33.203068 R35-M1-N0-I:J18-U01 RAS APP FATAL ciod: failed to read message prefix on control stream (CioStrea...</td>\n",
       "      <td>anomaly</td>\n",
       "    </tr>\n",
       "    <tr>\n",
       "      <th>...</th>\n",
       "      <td>...</td>\n",
       "      <td>...</td>\n",
       "    </tr>\n",
       "    <tr>\n",
       "      <th>4747958</th>\n",
       "      <td>1136390405 2006.01.04 R00-M0-NC-I:J18-U11 2006-01-04-08.00.05.167045 R00-M0-NC-I:J18-U11 RAS KERNEL FATAL idoproxy communication failure: socket closed</td>\n",
       "      <td>anomaly</td>\n",
       "    </tr>\n",
       "    <tr>\n",
       "      <th>4747959</th>\n",
       "      <td>1136390405 2006.01.04 R36-M0-NC-I:J18-U11 2006-01-04-08.00.05.185942 R36-M0-NC-I:J18-U11 RAS KERNEL FATAL idoproxy communication failure: socket closed</td>\n",
       "      <td>anomaly</td>\n",
       "    </tr>\n",
       "    <tr>\n",
       "      <th>4747960</th>\n",
       "      <td>1136390405 2006.01.04 R30-M0-NC-I:J18-U11 2006-01-04-08.00.05.186013 R30-M0-NC-I:J18-U11 RAS KERNEL FATAL idoproxy communication failure: socket closed</td>\n",
       "      <td>anomaly</td>\n",
       "    </tr>\n",
       "    <tr>\n",
       "      <th>4747961</th>\n",
       "      <td>1136390405 2006.01.04 R31-M0-NC-I:J18-U11 2006-01-04-08.00.05.204230 R31-M0-NC-I:J18-U11 RAS KERNEL FATAL idoproxy communication failure: socket closed</td>\n",
       "      <td>anomaly</td>\n",
       "    </tr>\n",
       "    <tr>\n",
       "      <th>4747962</th>\n",
       "      <td>1136390405 2006.01.04 R34-M0-NC-I:J18-U11 2006-01-04-08.00.05.233639 R34-M0-NC-I:J18-U11 RAS KERNEL FATAL idoproxy communication failure: socket closed</td>\n",
       "      <td>anomaly</td>\n",
       "    </tr>\n",
       "  </tbody>\n",
       "</table>\n",
       "<p>348460 rows × 2 columns</p>\n",
       "</div>"
      ],
      "text/plain": [
       "                                                                                                                                                                               Log  \\\n",
       "14737    1117869872 2005.06.04 R23-M1-N8-I:J18-U11 2005-06-04-00.24.32.398284 R23-M1-N8-I:J18-U11 RAS APP FATAL ciod: failed to read message prefix on control stream (CioStrea...   \n",
       "14738    1117869872 2005.06.04 R04-M1-N4-I:J18-U11 2005-06-04-00.24.32.432192 R04-M1-N4-I:J18-U11 RAS APP FATAL ciod: failed to read message prefix on control stream (CioStrea...   \n",
       "14739    1117869872 2005.06.04 R04-M1-N4-I:J18-U01 2005-06-04-00.24.32.481570 R04-M1-N4-I:J18-U01 RAS APP FATAL ciod: failed to read message prefix on control stream (CioStrea...   \n",
       "14740    1117869873 2005.06.04 R35-M1-N0-I:J18-U11 2005-06-04-00.24.33.168659 R35-M1-N0-I:J18-U11 RAS APP FATAL ciod: failed to read message prefix on control stream (CioStrea...   \n",
       "14741    1117869873 2005.06.04 R35-M1-N0-I:J18-U01 2005-06-04-00.24.33.203068 R35-M1-N0-I:J18-U01 RAS APP FATAL ciod: failed to read message prefix on control stream (CioStrea...   \n",
       "...                                                                                                                                                                            ...   \n",
       "4747958                    1136390405 2006.01.04 R00-M0-NC-I:J18-U11 2006-01-04-08.00.05.167045 R00-M0-NC-I:J18-U11 RAS KERNEL FATAL idoproxy communication failure: socket closed   \n",
       "4747959                    1136390405 2006.01.04 R36-M0-NC-I:J18-U11 2006-01-04-08.00.05.185942 R36-M0-NC-I:J18-U11 RAS KERNEL FATAL idoproxy communication failure: socket closed   \n",
       "4747960                    1136390405 2006.01.04 R30-M0-NC-I:J18-U11 2006-01-04-08.00.05.186013 R30-M0-NC-I:J18-U11 RAS KERNEL FATAL idoproxy communication failure: socket closed   \n",
       "4747961                    1136390405 2006.01.04 R31-M0-NC-I:J18-U11 2006-01-04-08.00.05.204230 R31-M0-NC-I:J18-U11 RAS KERNEL FATAL idoproxy communication failure: socket closed   \n",
       "4747962                    1136390405 2006.01.04 R34-M0-NC-I:J18-U11 2006-01-04-08.00.05.233639 R34-M0-NC-I:J18-U11 RAS KERNEL FATAL idoproxy communication failure: socket closed   \n",
       "\n",
       "           Label  \n",
       "14737    anomaly  \n",
       "14738    anomaly  \n",
       "14739    anomaly  \n",
       "14740    anomaly  \n",
       "14741    anomaly  \n",
       "...          ...  \n",
       "4747958  anomaly  \n",
       "4747959  anomaly  \n",
       "4747960  anomaly  \n",
       "4747961  anomaly  \n",
       "4747962  anomaly  \n",
       "\n",
       "[348460 rows x 2 columns]"
      ]
     },
     "execution_count": 195,
     "metadata": {},
     "output_type": "execute_result"
    }
   ],
   "source": [
    "anomaly"
   ]
  },
  {
   "cell_type": "code",
   "execution_count": 147,
   "id": "371afa9e",
   "metadata": {},
   "outputs": [
    {
     "data": {
      "text/html": [
       "<div>\n",
       "<style scoped>\n",
       "    .dataframe tbody tr th:only-of-type {\n",
       "        vertical-align: middle;\n",
       "    }\n",
       "\n",
       "    .dataframe tbody tr th {\n",
       "        vertical-align: top;\n",
       "    }\n",
       "\n",
       "    .dataframe thead th {\n",
       "        text-align: right;\n",
       "    }\n",
       "</style>\n",
       "<table border=\"1\" class=\"dataframe\">\n",
       "  <thead>\n",
       "    <tr style=\"text-align: right;\">\n",
       "      <th></th>\n",
       "      <th>Log</th>\n",
       "      <th>Label</th>\n",
       "    </tr>\n",
       "  </thead>\n",
       "  <tbody>\n",
       "    <tr>\n",
       "      <th>0</th>\n",
       "      <td>1117838570 2005.06.03 R02-M1-N0-C:J12-U11 2005-06-03-15.42.50.363779 R02-M1-N0-C:J12-U11 RAS KERNEL INFO instruction cache parity error corrected</td>\n",
       "      <td>normal</td>\n",
       "    </tr>\n",
       "    <tr>\n",
       "      <th>1</th>\n",
       "      <td>1117838570 2005.06.03 R02-M1-N0-C:J12-U11 2005-06-03-15.42.50.527847 R02-M1-N0-C:J12-U11 RAS KERNEL INFO instruction cache parity error corrected</td>\n",
       "      <td>normal</td>\n",
       "    </tr>\n",
       "    <tr>\n",
       "      <th>2</th>\n",
       "      <td>1117838570 2005.06.03 R02-M1-N0-C:J12-U11 2005-06-03-15.42.50.675872 R02-M1-N0-C:J12-U11 RAS KERNEL INFO instruction cache parity error corrected</td>\n",
       "      <td>normal</td>\n",
       "    </tr>\n",
       "    <tr>\n",
       "      <th>3</th>\n",
       "      <td>1117838570 2005.06.03 R02-M1-N0-C:J12-U11 2005-06-03-15.42.50.823719 R02-M1-N0-C:J12-U11 RAS KERNEL INFO instruction cache parity error corrected</td>\n",
       "      <td>normal</td>\n",
       "    </tr>\n",
       "    <tr>\n",
       "      <th>4</th>\n",
       "      <td>1117838570 2005.06.03 R02-M1-N0-C:J12-U11 2005-06-03-15.42.50.982731 R02-M1-N0-C:J12-U11 RAS KERNEL INFO instruction cache parity error corrected</td>\n",
       "      <td>normal</td>\n",
       "    </tr>\n",
       "    <tr>\n",
       "      <th>...</th>\n",
       "      <td>...</td>\n",
       "      <td>...</td>\n",
       "    </tr>\n",
       "    <tr>\n",
       "      <th>4747950</th>\n",
       "      <td>1136389653 2006.01.04 R30-M0-N7-C:J09-U01 2006-01-04-07.47.33.235475 R30-M0-N7-C:J09-U01 RAS KERNEL INFO total of 1 ddr error(s) detected and corrected over 723 seconds</td>\n",
       "      <td>normal</td>\n",
       "    </tr>\n",
       "    <tr>\n",
       "      <th>4747951</th>\n",
       "      <td>1136389988 2006.01.04 R35-M0-N0-C:J11-U11 2006-01-04-07.53.08.803272 R35-M0-N0-C:J11-U11 RAS KERNEL INFO 5 ddr error(s) detected and corrected on rank 0, symbol 4 ov...</td>\n",
       "      <td>normal</td>\n",
       "    </tr>\n",
       "    <tr>\n",
       "      <th>4747952</th>\n",
       "      <td>1136389988 2006.01.04 R35-M0-N0-C:J11-U11 2006-01-04-07.53.08.946438 R35-M0-N0-C:J11-U11 RAS KERNEL INFO total of 5 ddr error(s) detected and corrected over 27362 se...</td>\n",
       "      <td>normal</td>\n",
       "    </tr>\n",
       "    <tr>\n",
       "      <th>4747953</th>\n",
       "      <td>1136389989 2006.01.04 R35-M1-NA-C:J09-U01 2006-01-04-07.53.09.073382 R35-M1-NA-C:J09-U01 RAS KERNEL INFO 87 L3 EDRAM error(s) (dcr 0x0157) detected and corrected ove...</td>\n",
       "      <td>normal</td>\n",
       "    </tr>\n",
       "    <tr>\n",
       "      <th>4747954</th>\n",
       "      <td>1136389989 2006.01.04 R35-M1-NA-C:J09-U01 2006-01-04-07.53.09.200410 R35-M1-NA-C:J09-U01 RAS KERNEL INFO 87 L3 EDRAM error(s) (dcr 0x0157) detected and corrected ove...</td>\n",
       "      <td>normal</td>\n",
       "    </tr>\n",
       "  </tbody>\n",
       "</table>\n",
       "<p>4399503 rows × 2 columns</p>\n",
       "</div>"
      ],
      "text/plain": [
       "                                                                                                                                                                               Log  \\\n",
       "0                                1117838570 2005.06.03 R02-M1-N0-C:J12-U11 2005-06-03-15.42.50.363779 R02-M1-N0-C:J12-U11 RAS KERNEL INFO instruction cache parity error corrected   \n",
       "1                                1117838570 2005.06.03 R02-M1-N0-C:J12-U11 2005-06-03-15.42.50.527847 R02-M1-N0-C:J12-U11 RAS KERNEL INFO instruction cache parity error corrected   \n",
       "2                                1117838570 2005.06.03 R02-M1-N0-C:J12-U11 2005-06-03-15.42.50.675872 R02-M1-N0-C:J12-U11 RAS KERNEL INFO instruction cache parity error corrected   \n",
       "3                                1117838570 2005.06.03 R02-M1-N0-C:J12-U11 2005-06-03-15.42.50.823719 R02-M1-N0-C:J12-U11 RAS KERNEL INFO instruction cache parity error corrected   \n",
       "4                                1117838570 2005.06.03 R02-M1-N0-C:J12-U11 2005-06-03-15.42.50.982731 R02-M1-N0-C:J12-U11 RAS KERNEL INFO instruction cache parity error corrected   \n",
       "...                                                                                                                                                                            ...   \n",
       "4747950   1136389653 2006.01.04 R30-M0-N7-C:J09-U01 2006-01-04-07.47.33.235475 R30-M0-N7-C:J09-U01 RAS KERNEL INFO total of 1 ddr error(s) detected and corrected over 723 seconds   \n",
       "4747951   1136389988 2006.01.04 R35-M0-N0-C:J11-U11 2006-01-04-07.53.08.803272 R35-M0-N0-C:J11-U11 RAS KERNEL INFO 5 ddr error(s) detected and corrected on rank 0, symbol 4 ov...   \n",
       "4747952   1136389988 2006.01.04 R35-M0-N0-C:J11-U11 2006-01-04-07.53.08.946438 R35-M0-N0-C:J11-U11 RAS KERNEL INFO total of 5 ddr error(s) detected and corrected over 27362 se...   \n",
       "4747953   1136389989 2006.01.04 R35-M1-NA-C:J09-U01 2006-01-04-07.53.09.073382 R35-M1-NA-C:J09-U01 RAS KERNEL INFO 87 L3 EDRAM error(s) (dcr 0x0157) detected and corrected ove...   \n",
       "4747954   1136389989 2006.01.04 R35-M1-NA-C:J09-U01 2006-01-04-07.53.09.200410 R35-M1-NA-C:J09-U01 RAS KERNEL INFO 87 L3 EDRAM error(s) (dcr 0x0157) detected and corrected ove...   \n",
       "\n",
       "          Label  \n",
       "0        normal  \n",
       "1        normal  \n",
       "2        normal  \n",
       "3        normal  \n",
       "4        normal  \n",
       "...         ...  \n",
       "4747950  normal  \n",
       "4747951  normal  \n",
       "4747952  normal  \n",
       "4747953  normal  \n",
       "4747954  normal  \n",
       "\n",
       "[4399503 rows x 2 columns]"
      ]
     },
     "execution_count": 147,
     "metadata": {},
     "output_type": "execute_result"
    }
   ],
   "source": [
    "normal"
   ]
  },
  {
   "cell_type": "code",
   "execution_count": 146,
   "id": "7a854276",
   "metadata": {},
   "outputs": [
    {
     "name": "stderr",
     "output_type": "stream",
     "text": [
      "C:\\Users\\risha\\AppData\\Local\\Temp\\ipykernel_15256\\2556908293.py:1: SettingWithCopyWarning: \n",
      "A value is trying to be set on a copy of a slice from a DataFrame.\n",
      "Try using .loc[row_indexer,col_indexer] = value instead\n",
      "\n",
      "See the caveats in the documentation: https://pandas.pydata.org/pandas-docs/stable/user_guide/indexing.html#returning-a-view-versus-a-copy\n",
      "  normal['Log'] = normal['Log'].str[1:]\n"
     ]
    }
   ],
   "source": [
    "normal['Log'] = normal['Log'].str[1:]"
   ]
  },
  {
   "cell_type": "code",
   "execution_count": 125,
   "id": "d7796ad0",
   "metadata": {},
   "outputs": [
    {
     "data": {
      "text/html": [
       "<div>\n",
       "<style scoped>\n",
       "    .dataframe tbody tr th:only-of-type {\n",
       "        vertical-align: middle;\n",
       "    }\n",
       "\n",
       "    .dataframe tbody tr th {\n",
       "        vertical-align: top;\n",
       "    }\n",
       "\n",
       "    .dataframe thead th {\n",
       "        text-align: right;\n",
       "    }\n",
       "</style>\n",
       "<table border=\"1\" class=\"dataframe\">\n",
       "  <thead>\n",
       "    <tr style=\"text-align: right;\">\n",
       "      <th></th>\n",
       "      <th>ID</th>\n",
       "      <th>Log</th>\n",
       "    </tr>\n",
       "  </thead>\n",
       "  <tbody>\n",
       "    <tr>\n",
       "      <th>0</th>\n",
       "      <td>0</td>\n",
       "      <td>1124336301 2005.08.17 R13-M1-N8-C:J12-U01 2005-08-17-20.38.21.466368 R13-M1-N8-C:J12-U01 RAS KERNEL FATAL rts: kernel terminated for reason 1001</td>\n",
       "    </tr>\n",
       "    <tr>\n",
       "      <th>1</th>\n",
       "      <td>1</td>\n",
       "      <td>1118553175 2005.06.11 R30-M0-N9-C:J16-U01 2005-06-11-22.12.55.707149 R30-M0-N9-C:J16-U01 RAS KERNEL FATAL data TLB error interrupt</td>\n",
       "    </tr>\n",
       "    <tr>\n",
       "      <th>2</th>\n",
       "      <td>2</td>\n",
       "      <td>1118536033 2005.06.11 R30-M0-N9-C:J16-U01 2005-06-11-17.27.13.042387 R30-M0-N9-C:J16-U01 RAS KERNEL FATAL data TLB error interrupt</td>\n",
       "    </tr>\n",
       "    <tr>\n",
       "      <th>3</th>\n",
       "      <td>3</td>\n",
       "      <td>1117992566 2005.06.05 R30-M1-N6-C:J03-U11 2005-06-05-10.29.26.943462 R30-M1-N6-C:J03-U11 RAS KERNEL INFO generating core.6463</td>\n",
       "    </tr>\n",
       "    <tr>\n",
       "      <th>4</th>\n",
       "      <td>4</td>\n",
       "      <td>1118538965 2005.06.11 R30-M0-N9-C:J16-U01 2005-06-11-18.16.05.049256 R30-M0-N9-C:J16-U01 RAS KERNEL FATAL data TLB error interrupt</td>\n",
       "    </tr>\n",
       "    <tr>\n",
       "      <th>...</th>\n",
       "      <td>...</td>\n",
       "      <td>...</td>\n",
       "    </tr>\n",
       "    <tr>\n",
       "      <th>595295</th>\n",
       "      <td>595295</td>\n",
       "      <td>1118768234 2005.06.14 R20-M0-NA-C:J17-U11 2005-06-14-09.57.14.709136 R20-M0-NA-C:J17-U11 RAS KERNEL FATAL exception syndrome register: 0x00800000</td>\n",
       "    </tr>\n",
       "    <tr>\n",
       "      <th>595296</th>\n",
       "      <td>595296</td>\n",
       "      <td>1118370947 2005.06.09 R15-M0-NA-C:J02-U01 2005-06-09-19.35.47.353971 R15-M0-NA-C:J02-U01 RAS KERNEL INFO generating core.10895</td>\n",
       "    </tr>\n",
       "    <tr>\n",
       "      <th>595297</th>\n",
       "      <td>595297</td>\n",
       "      <td>1118540242 2005.06.11 R30-M0-N9-C:J16-U01 2005-06-11-18.37.22.743936 R30-M0-N9-C:J16-U01 RAS KERNEL FATAL data TLB error interrupt</td>\n",
       "    </tr>\n",
       "    <tr>\n",
       "      <th>595298</th>\n",
       "      <td>595298</td>\n",
       "      <td>1118538947 2005.06.11 R30-M0-N9-C:J16-U01 2005-06-11-18.15.47.247097 R30-M0-N9-C:J16-U01 RAS KERNEL FATAL data TLB error interrupt</td>\n",
       "    </tr>\n",
       "    <tr>\n",
       "      <th>595299</th>\n",
       "      <td>595299</td>\n",
       "      <td>1118165805 2005.06.07 R23-M1-N5-C:J16-U11 2005-06-07-10.36.45.002573 R23-M1-N5-C:J16-U11 RAS KERNEL INFO generating core.680</td>\n",
       "    </tr>\n",
       "  </tbody>\n",
       "</table>\n",
       "<p>595300 rows × 2 columns</p>\n",
       "</div>"
      ],
      "text/plain": [
       "            ID  \\\n",
       "0            0   \n",
       "1            1   \n",
       "2            2   \n",
       "3            3   \n",
       "4            4   \n",
       "...        ...   \n",
       "595295  595295   \n",
       "595296  595296   \n",
       "595297  595297   \n",
       "595298  595298   \n",
       "595299  595299   \n",
       "\n",
       "                                                                                                                                                       Log  \n",
       "0         1124336301 2005.08.17 R13-M1-N8-C:J12-U01 2005-08-17-20.38.21.466368 R13-M1-N8-C:J12-U01 RAS KERNEL FATAL rts: kernel terminated for reason 1001  \n",
       "1                       1118553175 2005.06.11 R30-M0-N9-C:J16-U01 2005-06-11-22.12.55.707149 R30-M0-N9-C:J16-U01 RAS KERNEL FATAL data TLB error interrupt  \n",
       "2                       1118536033 2005.06.11 R30-M0-N9-C:J16-U01 2005-06-11-17.27.13.042387 R30-M0-N9-C:J16-U01 RAS KERNEL FATAL data TLB error interrupt  \n",
       "3                            1117992566 2005.06.05 R30-M1-N6-C:J03-U11 2005-06-05-10.29.26.943462 R30-M1-N6-C:J03-U11 RAS KERNEL INFO generating core.6463  \n",
       "4                       1118538965 2005.06.11 R30-M0-N9-C:J16-U01 2005-06-11-18.16.05.049256 R30-M0-N9-C:J16-U01 RAS KERNEL FATAL data TLB error interrupt  \n",
       "...                                                                                                                                                    ...  \n",
       "595295   1118768234 2005.06.14 R20-M0-NA-C:J17-U11 2005-06-14-09.57.14.709136 R20-M0-NA-C:J17-U11 RAS KERNEL FATAL exception syndrome register: 0x00800000  \n",
       "595296                      1118370947 2005.06.09 R15-M0-NA-C:J02-U01 2005-06-09-19.35.47.353971 R15-M0-NA-C:J02-U01 RAS KERNEL INFO generating core.10895  \n",
       "595297                  1118540242 2005.06.11 R30-M0-N9-C:J16-U01 2005-06-11-18.37.22.743936 R30-M0-N9-C:J16-U01 RAS KERNEL FATAL data TLB error interrupt  \n",
       "595298                  1118538947 2005.06.11 R30-M0-N9-C:J16-U01 2005-06-11-18.15.47.247097 R30-M0-N9-C:J16-U01 RAS KERNEL FATAL data TLB error interrupt  \n",
       "595299                        1118165805 2005.06.07 R23-M1-N5-C:J16-U11 2005-06-07-10.36.45.002573 R23-M1-N5-C:J16-U11 RAS KERNEL INFO generating core.680  \n",
       "\n",
       "[595300 rows x 2 columns]"
      ]
     },
     "execution_count": 125,
     "metadata": {},
     "output_type": "execute_result"
    }
   ],
   "source": [
    "test"
   ]
  },
  {
   "cell_type": "code",
   "execution_count": 142,
   "id": "dc12bbeb",
   "metadata": {},
   "outputs": [
    {
     "name": "stderr",
     "output_type": "stream",
     "text": [
      "C:\\Users\\risha\\AppData\\Local\\Temp\\ipykernel_15256\\2819167742.py:1: SettingWithCopyWarning: \n",
      "A value is trying to be set on a copy of a slice from a DataFrame.\n",
      "Try using .loc[row_indexer,col_indexer] = value instead\n",
      "\n",
      "See the caveats in the documentation: https://pandas.pydata.org/pandas-docs/stable/user_guide/indexing.html#returning-a-view-versus-a-copy\n",
      "  normal['Log'] = normal['Log'].str.strip('')\n"
     ]
    }
   ],
   "source": [
    "normal['Log'] = normal['Log'].str.strip(' ')"
   ]
  },
  {
   "cell_type": "code",
   "execution_count": 131,
   "id": "f57c5f6d",
   "metadata": {
    "scrolled": true
   },
   "outputs": [
    {
     "data": {
      "text/html": [
       "<div>\n",
       "<style scoped>\n",
       "    .dataframe tbody tr th:only-of-type {\n",
       "        vertical-align: middle;\n",
       "    }\n",
       "\n",
       "    .dataframe tbody tr th {\n",
       "        vertical-align: top;\n",
       "    }\n",
       "\n",
       "    .dataframe thead th {\n",
       "        text-align: right;\n",
       "    }\n",
       "</style>\n",
       "<table border=\"1\" class=\"dataframe\">\n",
       "  <thead>\n",
       "    <tr style=\"text-align: right;\">\n",
       "      <th></th>\n",
       "      <th>Log</th>\n",
       "      <th>Label</th>\n",
       "    </tr>\n",
       "  </thead>\n",
       "  <tbody>\n",
       "    <tr>\n",
       "      <th>0</th>\n",
       "      <td>- 1117838570 2005.06.03 R02-M1-N0-C:J12-U11 2005-06-03-15.42.50.363779 R02-M1-N0-C:J12-U11 RAS KERNEL INFO instruction cache parity error corrected</td>\n",
       "      <td>normal</td>\n",
       "    </tr>\n",
       "    <tr>\n",
       "      <th>1</th>\n",
       "      <td>- 1117838570 2005.06.03 R02-M1-N0-C:J12-U11 2005-06-03-15.42.50.527847 R02-M1-N0-C:J12-U11 RAS KERNEL INFO instruction cache parity error corrected</td>\n",
       "      <td>normal</td>\n",
       "    </tr>\n",
       "    <tr>\n",
       "      <th>2</th>\n",
       "      <td>- 1117838570 2005.06.03 R02-M1-N0-C:J12-U11 2005-06-03-15.42.50.675872 R02-M1-N0-C:J12-U11 RAS KERNEL INFO instruction cache parity error corrected</td>\n",
       "      <td>normal</td>\n",
       "    </tr>\n",
       "    <tr>\n",
       "      <th>3</th>\n",
       "      <td>- 1117838570 2005.06.03 R02-M1-N0-C:J12-U11 2005-06-03-15.42.50.823719 R02-M1-N0-C:J12-U11 RAS KERNEL INFO instruction cache parity error corrected</td>\n",
       "      <td>normal</td>\n",
       "    </tr>\n",
       "    <tr>\n",
       "      <th>4</th>\n",
       "      <td>- 1117838570 2005.06.03 R02-M1-N0-C:J12-U11 2005-06-03-15.42.50.982731 R02-M1-N0-C:J12-U11 RAS KERNEL INFO instruction cache parity error corrected</td>\n",
       "      <td>normal</td>\n",
       "    </tr>\n",
       "    <tr>\n",
       "      <th>...</th>\n",
       "      <td>...</td>\n",
       "      <td>...</td>\n",
       "    </tr>\n",
       "    <tr>\n",
       "      <th>4747958</th>\n",
       "      <td>KERNSOCK 1136390405 2006.01.04 R00-M0-NC-I:J18-U11 2006-01-04-08.00.05.167045 R00-M0-NC-I:J18-U11 RAS KERNEL FATAL idoproxy communication failure: socket closed</td>\n",
       "      <td>anomaly</td>\n",
       "    </tr>\n",
       "    <tr>\n",
       "      <th>4747959</th>\n",
       "      <td>KERNSOCK 1136390405 2006.01.04 R36-M0-NC-I:J18-U11 2006-01-04-08.00.05.185942 R36-M0-NC-I:J18-U11 RAS KERNEL FATAL idoproxy communication failure: socket closed</td>\n",
       "      <td>anomaly</td>\n",
       "    </tr>\n",
       "    <tr>\n",
       "      <th>4747960</th>\n",
       "      <td>KERNSOCK 1136390405 2006.01.04 R30-M0-NC-I:J18-U11 2006-01-04-08.00.05.186013 R30-M0-NC-I:J18-U11 RAS KERNEL FATAL idoproxy communication failure: socket closed</td>\n",
       "      <td>anomaly</td>\n",
       "    </tr>\n",
       "    <tr>\n",
       "      <th>4747961</th>\n",
       "      <td>KERNSOCK 1136390405 2006.01.04 R31-M0-NC-I:J18-U11 2006-01-04-08.00.05.204230 R31-M0-NC-I:J18-U11 RAS KERNEL FATAL idoproxy communication failure: socket closed</td>\n",
       "      <td>anomaly</td>\n",
       "    </tr>\n",
       "    <tr>\n",
       "      <th>4747962</th>\n",
       "      <td>KERNSOCK 1136390405 2006.01.04 R34-M0-NC-I:J18-U11 2006-01-04-08.00.05.233639 R34-M0-NC-I:J18-U11 RAS KERNEL FATAL idoproxy communication failure: socket closed</td>\n",
       "      <td>anomaly</td>\n",
       "    </tr>\n",
       "  </tbody>\n",
       "</table>\n",
       "<p>4747963 rows × 2 columns</p>\n",
       "</div>"
      ],
      "text/plain": [
       "                                                                                                                                                                      Log  \\\n",
       "0                     - 1117838570 2005.06.03 R02-M1-N0-C:J12-U11 2005-06-03-15.42.50.363779 R02-M1-N0-C:J12-U11 RAS KERNEL INFO instruction cache parity error corrected   \n",
       "1                     - 1117838570 2005.06.03 R02-M1-N0-C:J12-U11 2005-06-03-15.42.50.527847 R02-M1-N0-C:J12-U11 RAS KERNEL INFO instruction cache parity error corrected   \n",
       "2                     - 1117838570 2005.06.03 R02-M1-N0-C:J12-U11 2005-06-03-15.42.50.675872 R02-M1-N0-C:J12-U11 RAS KERNEL INFO instruction cache parity error corrected   \n",
       "3                     - 1117838570 2005.06.03 R02-M1-N0-C:J12-U11 2005-06-03-15.42.50.823719 R02-M1-N0-C:J12-U11 RAS KERNEL INFO instruction cache parity error corrected   \n",
       "4                     - 1117838570 2005.06.03 R02-M1-N0-C:J12-U11 2005-06-03-15.42.50.982731 R02-M1-N0-C:J12-U11 RAS KERNEL INFO instruction cache parity error corrected   \n",
       "...                                                                                                                                                                   ...   \n",
       "4747958  KERNSOCK 1136390405 2006.01.04 R00-M0-NC-I:J18-U11 2006-01-04-08.00.05.167045 R00-M0-NC-I:J18-U11 RAS KERNEL FATAL idoproxy communication failure: socket closed   \n",
       "4747959  KERNSOCK 1136390405 2006.01.04 R36-M0-NC-I:J18-U11 2006-01-04-08.00.05.185942 R36-M0-NC-I:J18-U11 RAS KERNEL FATAL idoproxy communication failure: socket closed   \n",
       "4747960  KERNSOCK 1136390405 2006.01.04 R30-M0-NC-I:J18-U11 2006-01-04-08.00.05.186013 R30-M0-NC-I:J18-U11 RAS KERNEL FATAL idoproxy communication failure: socket closed   \n",
       "4747961  KERNSOCK 1136390405 2006.01.04 R31-M0-NC-I:J18-U11 2006-01-04-08.00.05.204230 R31-M0-NC-I:J18-U11 RAS KERNEL FATAL idoproxy communication failure: socket closed   \n",
       "4747962  KERNSOCK 1136390405 2006.01.04 R34-M0-NC-I:J18-U11 2006-01-04-08.00.05.233639 R34-M0-NC-I:J18-U11 RAS KERNEL FATAL idoproxy communication failure: socket closed   \n",
       "\n",
       "           Label  \n",
       "0         normal  \n",
       "1         normal  \n",
       "2         normal  \n",
       "3         normal  \n",
       "4         normal  \n",
       "...          ...  \n",
       "4747958  anomaly  \n",
       "4747959  anomaly  \n",
       "4747960  anomaly  \n",
       "4747961  anomaly  \n",
       "4747962  anomaly  \n",
       "\n",
       "[4747963 rows x 2 columns]"
      ]
     },
     "execution_count": 131,
     "metadata": {},
     "output_type": "execute_result"
    }
   ],
   "source": [
    "ultra_label"
   ]
  },
  {
   "cell_type": "code",
   "execution_count": 196,
   "id": "dd68d996",
   "metadata": {
    "scrolled": true
   },
   "outputs": [
    {
     "data": {
      "text/html": [
       "<div>\n",
       "<style scoped>\n",
       "    .dataframe tbody tr th:only-of-type {\n",
       "        vertical-align: middle;\n",
       "    }\n",
       "\n",
       "    .dataframe tbody tr th {\n",
       "        vertical-align: top;\n",
       "    }\n",
       "\n",
       "    .dataframe thead th {\n",
       "        text-align: right;\n",
       "    }\n",
       "</style>\n",
       "<table border=\"1\" class=\"dataframe\">\n",
       "  <thead>\n",
       "    <tr style=\"text-align: right;\">\n",
       "      <th></th>\n",
       "      <th>Log</th>\n",
       "      <th>Label</th>\n",
       "    </tr>\n",
       "  </thead>\n",
       "  <tbody>\n",
       "    <tr>\n",
       "      <th>0</th>\n",
       "      <td>1117838570 2005.06.03 R02-M1-N0-C:J12-U11 2005-06-03-15.42.50.363779 R02-M1-N0-C:J12-U11 RAS KERNEL INFO instruction cache parity error corrected</td>\n",
       "      <td>normal</td>\n",
       "    </tr>\n",
       "    <tr>\n",
       "      <th>1</th>\n",
       "      <td>1117838570 2005.06.03 R02-M1-N0-C:J12-U11 2005-06-03-15.42.50.527847 R02-M1-N0-C:J12-U11 RAS KERNEL INFO instruction cache parity error corrected</td>\n",
       "      <td>normal</td>\n",
       "    </tr>\n",
       "    <tr>\n",
       "      <th>2</th>\n",
       "      <td>1117838570 2005.06.03 R02-M1-N0-C:J12-U11 2005-06-03-15.42.50.675872 R02-M1-N0-C:J12-U11 RAS KERNEL INFO instruction cache parity error corrected</td>\n",
       "      <td>normal</td>\n",
       "    </tr>\n",
       "    <tr>\n",
       "      <th>3</th>\n",
       "      <td>1117838570 2005.06.03 R02-M1-N0-C:J12-U11 2005-06-03-15.42.50.823719 R02-M1-N0-C:J12-U11 RAS KERNEL INFO instruction cache parity error corrected</td>\n",
       "      <td>normal</td>\n",
       "    </tr>\n",
       "    <tr>\n",
       "      <th>4</th>\n",
       "      <td>1117838570 2005.06.03 R02-M1-N0-C:J12-U11 2005-06-03-15.42.50.982731 R02-M1-N0-C:J12-U11 RAS KERNEL INFO instruction cache parity error corrected</td>\n",
       "      <td>normal</td>\n",
       "    </tr>\n",
       "    <tr>\n",
       "      <th>...</th>\n",
       "      <td>...</td>\n",
       "      <td>...</td>\n",
       "    </tr>\n",
       "    <tr>\n",
       "      <th>4747950</th>\n",
       "      <td>1136389653 2006.01.04 R30-M0-N7-C:J09-U01 2006-01-04-07.47.33.235475 R30-M0-N7-C:J09-U01 RAS KERNEL INFO total of 1 ddr error(s) detected and corrected over 723 seconds</td>\n",
       "      <td>normal</td>\n",
       "    </tr>\n",
       "    <tr>\n",
       "      <th>4747951</th>\n",
       "      <td>1136389988 2006.01.04 R35-M0-N0-C:J11-U11 2006-01-04-07.53.08.803272 R35-M0-N0-C:J11-U11 RAS KERNEL INFO 5 ddr error(s) detected and corrected on rank 0, symbol 4 ov...</td>\n",
       "      <td>normal</td>\n",
       "    </tr>\n",
       "    <tr>\n",
       "      <th>4747952</th>\n",
       "      <td>1136389988 2006.01.04 R35-M0-N0-C:J11-U11 2006-01-04-07.53.08.946438 R35-M0-N0-C:J11-U11 RAS KERNEL INFO total of 5 ddr error(s) detected and corrected over 27362 se...</td>\n",
       "      <td>normal</td>\n",
       "    </tr>\n",
       "    <tr>\n",
       "      <th>4747953</th>\n",
       "      <td>1136389989 2006.01.04 R35-M1-NA-C:J09-U01 2006-01-04-07.53.09.073382 R35-M1-NA-C:J09-U01 RAS KERNEL INFO 87 L3 EDRAM error(s) (dcr 0x0157) detected and corrected ove...</td>\n",
       "      <td>normal</td>\n",
       "    </tr>\n",
       "    <tr>\n",
       "      <th>4747954</th>\n",
       "      <td>1136389989 2006.01.04 R35-M1-NA-C:J09-U01 2006-01-04-07.53.09.200410 R35-M1-NA-C:J09-U01 RAS KERNEL INFO 87 L3 EDRAM error(s) (dcr 0x0157) detected and corrected ove...</td>\n",
       "      <td>normal</td>\n",
       "    </tr>\n",
       "  </tbody>\n",
       "</table>\n",
       "<p>4399503 rows × 2 columns</p>\n",
       "</div>"
      ],
      "text/plain": [
       "                                                                                                                                                                               Log  \\\n",
       "0                                1117838570 2005.06.03 R02-M1-N0-C:J12-U11 2005-06-03-15.42.50.363779 R02-M1-N0-C:J12-U11 RAS KERNEL INFO instruction cache parity error corrected   \n",
       "1                                1117838570 2005.06.03 R02-M1-N0-C:J12-U11 2005-06-03-15.42.50.527847 R02-M1-N0-C:J12-U11 RAS KERNEL INFO instruction cache parity error corrected   \n",
       "2                                1117838570 2005.06.03 R02-M1-N0-C:J12-U11 2005-06-03-15.42.50.675872 R02-M1-N0-C:J12-U11 RAS KERNEL INFO instruction cache parity error corrected   \n",
       "3                                1117838570 2005.06.03 R02-M1-N0-C:J12-U11 2005-06-03-15.42.50.823719 R02-M1-N0-C:J12-U11 RAS KERNEL INFO instruction cache parity error corrected   \n",
       "4                                1117838570 2005.06.03 R02-M1-N0-C:J12-U11 2005-06-03-15.42.50.982731 R02-M1-N0-C:J12-U11 RAS KERNEL INFO instruction cache parity error corrected   \n",
       "...                                                                                                                                                                            ...   \n",
       "4747950   1136389653 2006.01.04 R30-M0-N7-C:J09-U01 2006-01-04-07.47.33.235475 R30-M0-N7-C:J09-U01 RAS KERNEL INFO total of 1 ddr error(s) detected and corrected over 723 seconds   \n",
       "4747951   1136389988 2006.01.04 R35-M0-N0-C:J11-U11 2006-01-04-07.53.08.803272 R35-M0-N0-C:J11-U11 RAS KERNEL INFO 5 ddr error(s) detected and corrected on rank 0, symbol 4 ov...   \n",
       "4747952   1136389988 2006.01.04 R35-M0-N0-C:J11-U11 2006-01-04-07.53.08.946438 R35-M0-N0-C:J11-U11 RAS KERNEL INFO total of 5 ddr error(s) detected and corrected over 27362 se...   \n",
       "4747953   1136389989 2006.01.04 R35-M1-NA-C:J09-U01 2006-01-04-07.53.09.073382 R35-M1-NA-C:J09-U01 RAS KERNEL INFO 87 L3 EDRAM error(s) (dcr 0x0157) detected and corrected ove...   \n",
       "4747954   1136389989 2006.01.04 R35-M1-NA-C:J09-U01 2006-01-04-07.53.09.200410 R35-M1-NA-C:J09-U01 RAS KERNEL INFO 87 L3 EDRAM error(s) (dcr 0x0157) detected and corrected ove...   \n",
       "\n",
       "          Label  \n",
       "0        normal  \n",
       "1        normal  \n",
       "2        normal  \n",
       "3        normal  \n",
       "4        normal  \n",
       "...         ...  \n",
       "4747950  normal  \n",
       "4747951  normal  \n",
       "4747952  normal  \n",
       "4747953  normal  \n",
       "4747954  normal  \n",
       "\n",
       "[4399503 rows x 2 columns]"
      ]
     },
     "execution_count": 196,
     "metadata": {},
     "output_type": "execute_result"
    }
   ],
   "source": [
    "normal"
   ]
  },
  {
   "cell_type": "code",
   "execution_count": 197,
   "id": "8c65e83a",
   "metadata": {},
   "outputs": [
    {
     "data": {
      "text/html": [
       "<div>\n",
       "<style scoped>\n",
       "    .dataframe tbody tr th:only-of-type {\n",
       "        vertical-align: middle;\n",
       "    }\n",
       "\n",
       "    .dataframe tbody tr th {\n",
       "        vertical-align: top;\n",
       "    }\n",
       "\n",
       "    .dataframe thead th {\n",
       "        text-align: right;\n",
       "    }\n",
       "</style>\n",
       "<table border=\"1\" class=\"dataframe\">\n",
       "  <thead>\n",
       "    <tr style=\"text-align: right;\">\n",
       "      <th></th>\n",
       "      <th>Log</th>\n",
       "      <th>Label</th>\n",
       "    </tr>\n",
       "  </thead>\n",
       "  <tbody>\n",
       "    <tr>\n",
       "      <th>14737</th>\n",
       "      <td>1117869872 2005.06.04 R23-M1-N8-I:J18-U11 2005-06-04-00.24.32.398284 R23-M1-N8-I:J18-U11 RAS APP FATAL ciod: failed to read message prefix on control stream (CioStrea...</td>\n",
       "      <td>anomaly</td>\n",
       "    </tr>\n",
       "    <tr>\n",
       "      <th>14738</th>\n",
       "      <td>1117869872 2005.06.04 R04-M1-N4-I:J18-U11 2005-06-04-00.24.32.432192 R04-M1-N4-I:J18-U11 RAS APP FATAL ciod: failed to read message prefix on control stream (CioStrea...</td>\n",
       "      <td>anomaly</td>\n",
       "    </tr>\n",
       "    <tr>\n",
       "      <th>14739</th>\n",
       "      <td>1117869872 2005.06.04 R04-M1-N4-I:J18-U01 2005-06-04-00.24.32.481570 R04-M1-N4-I:J18-U01 RAS APP FATAL ciod: failed to read message prefix on control stream (CioStrea...</td>\n",
       "      <td>anomaly</td>\n",
       "    </tr>\n",
       "    <tr>\n",
       "      <th>14740</th>\n",
       "      <td>1117869873 2005.06.04 R35-M1-N0-I:J18-U11 2005-06-04-00.24.33.168659 R35-M1-N0-I:J18-U11 RAS APP FATAL ciod: failed to read message prefix on control stream (CioStrea...</td>\n",
       "      <td>anomaly</td>\n",
       "    </tr>\n",
       "    <tr>\n",
       "      <th>14741</th>\n",
       "      <td>1117869873 2005.06.04 R35-M1-N0-I:J18-U01 2005-06-04-00.24.33.203068 R35-M1-N0-I:J18-U01 RAS APP FATAL ciod: failed to read message prefix on control stream (CioStrea...</td>\n",
       "      <td>anomaly</td>\n",
       "    </tr>\n",
       "    <tr>\n",
       "      <th>...</th>\n",
       "      <td>...</td>\n",
       "      <td>...</td>\n",
       "    </tr>\n",
       "    <tr>\n",
       "      <th>4747958</th>\n",
       "      <td>1136390405 2006.01.04 R00-M0-NC-I:J18-U11 2006-01-04-08.00.05.167045 R00-M0-NC-I:J18-U11 RAS KERNEL FATAL idoproxy communication failure: socket closed</td>\n",
       "      <td>anomaly</td>\n",
       "    </tr>\n",
       "    <tr>\n",
       "      <th>4747959</th>\n",
       "      <td>1136390405 2006.01.04 R36-M0-NC-I:J18-U11 2006-01-04-08.00.05.185942 R36-M0-NC-I:J18-U11 RAS KERNEL FATAL idoproxy communication failure: socket closed</td>\n",
       "      <td>anomaly</td>\n",
       "    </tr>\n",
       "    <tr>\n",
       "      <th>4747960</th>\n",
       "      <td>1136390405 2006.01.04 R30-M0-NC-I:J18-U11 2006-01-04-08.00.05.186013 R30-M0-NC-I:J18-U11 RAS KERNEL FATAL idoproxy communication failure: socket closed</td>\n",
       "      <td>anomaly</td>\n",
       "    </tr>\n",
       "    <tr>\n",
       "      <th>4747961</th>\n",
       "      <td>1136390405 2006.01.04 R31-M0-NC-I:J18-U11 2006-01-04-08.00.05.204230 R31-M0-NC-I:J18-U11 RAS KERNEL FATAL idoproxy communication failure: socket closed</td>\n",
       "      <td>anomaly</td>\n",
       "    </tr>\n",
       "    <tr>\n",
       "      <th>4747962</th>\n",
       "      <td>1136390405 2006.01.04 R34-M0-NC-I:J18-U11 2006-01-04-08.00.05.233639 R34-M0-NC-I:J18-U11 RAS KERNEL FATAL idoproxy communication failure: socket closed</td>\n",
       "      <td>anomaly</td>\n",
       "    </tr>\n",
       "  </tbody>\n",
       "</table>\n",
       "<p>348460 rows × 2 columns</p>\n",
       "</div>"
      ],
      "text/plain": [
       "                                                                                                                                                                               Log  \\\n",
       "14737    1117869872 2005.06.04 R23-M1-N8-I:J18-U11 2005-06-04-00.24.32.398284 R23-M1-N8-I:J18-U11 RAS APP FATAL ciod: failed to read message prefix on control stream (CioStrea...   \n",
       "14738    1117869872 2005.06.04 R04-M1-N4-I:J18-U11 2005-06-04-00.24.32.432192 R04-M1-N4-I:J18-U11 RAS APP FATAL ciod: failed to read message prefix on control stream (CioStrea...   \n",
       "14739    1117869872 2005.06.04 R04-M1-N4-I:J18-U01 2005-06-04-00.24.32.481570 R04-M1-N4-I:J18-U01 RAS APP FATAL ciod: failed to read message prefix on control stream (CioStrea...   \n",
       "14740    1117869873 2005.06.04 R35-M1-N0-I:J18-U11 2005-06-04-00.24.33.168659 R35-M1-N0-I:J18-U11 RAS APP FATAL ciod: failed to read message prefix on control stream (CioStrea...   \n",
       "14741    1117869873 2005.06.04 R35-M1-N0-I:J18-U01 2005-06-04-00.24.33.203068 R35-M1-N0-I:J18-U01 RAS APP FATAL ciod: failed to read message prefix on control stream (CioStrea...   \n",
       "...                                                                                                                                                                            ...   \n",
       "4747958                    1136390405 2006.01.04 R00-M0-NC-I:J18-U11 2006-01-04-08.00.05.167045 R00-M0-NC-I:J18-U11 RAS KERNEL FATAL idoproxy communication failure: socket closed   \n",
       "4747959                    1136390405 2006.01.04 R36-M0-NC-I:J18-U11 2006-01-04-08.00.05.185942 R36-M0-NC-I:J18-U11 RAS KERNEL FATAL idoproxy communication failure: socket closed   \n",
       "4747960                    1136390405 2006.01.04 R30-M0-NC-I:J18-U11 2006-01-04-08.00.05.186013 R30-M0-NC-I:J18-U11 RAS KERNEL FATAL idoproxy communication failure: socket closed   \n",
       "4747961                    1136390405 2006.01.04 R31-M0-NC-I:J18-U11 2006-01-04-08.00.05.204230 R31-M0-NC-I:J18-U11 RAS KERNEL FATAL idoproxy communication failure: socket closed   \n",
       "4747962                    1136390405 2006.01.04 R34-M0-NC-I:J18-U11 2006-01-04-08.00.05.233639 R34-M0-NC-I:J18-U11 RAS KERNEL FATAL idoproxy communication failure: socket closed   \n",
       "\n",
       "           Label  \n",
       "14737    anomaly  \n",
       "14738    anomaly  \n",
       "14739    anomaly  \n",
       "14740    anomaly  \n",
       "14741    anomaly  \n",
       "...          ...  \n",
       "4747958  anomaly  \n",
       "4747959  anomaly  \n",
       "4747960  anomaly  \n",
       "4747961  anomaly  \n",
       "4747962  anomaly  \n",
       "\n",
       "[348460 rows x 2 columns]"
      ]
     },
     "execution_count": 197,
     "metadata": {},
     "output_type": "execute_result"
    }
   ],
   "source": [
    "anomaly"
   ]
  },
  {
   "cell_type": "code",
   "execution_count": 198,
   "id": "3d4f8676",
   "metadata": {},
   "outputs": [],
   "source": [
    "ultra_label = pd.concat([normal,anomaly])"
   ]
  },
  {
   "cell_type": "code",
   "execution_count": 174,
   "id": "8f3925fc",
   "metadata": {},
   "outputs": [
    {
     "data": {
      "text/html": [
       "<div>\n",
       "<style scoped>\n",
       "    .dataframe tbody tr th:only-of-type {\n",
       "        vertical-align: middle;\n",
       "    }\n",
       "\n",
       "    .dataframe tbody tr th {\n",
       "        vertical-align: top;\n",
       "    }\n",
       "\n",
       "    .dataframe thead th {\n",
       "        text-align: right;\n",
       "    }\n",
       "</style>\n",
       "<table border=\"1\" class=\"dataframe\">\n",
       "  <thead>\n",
       "    <tr style=\"text-align: right;\">\n",
       "      <th></th>\n",
       "      <th>ID</th>\n",
       "      <th>Log</th>\n",
       "      <th>Log</th>\n",
       "    </tr>\n",
       "  </thead>\n",
       "  <tbody>\n",
       "    <tr>\n",
       "      <th>0</th>\n",
       "      <td>0</td>\n",
       "      <td>1124336301 2005.08.17 R13-M1-N8-C:J12-U01 2005-08-17-20.38.21.466368 R13-M1-N8-C:J12-U01 RAS KERNEL FATAL rts: kernel terminated for reason 1001</td>\n",
       "      <td>1124336301 2005.08.17 R13-M1-N8-C:J12-U01 2005-08-17-20.38.21.466368 R13-M1-N8-C:J12-U01 RAS KERNEL FATAL rts: kernel terminated for reason 1001</td>\n",
       "    </tr>\n",
       "    <tr>\n",
       "      <th>1</th>\n",
       "      <td>1</td>\n",
       "      <td>1118553175 2005.06.11 R30-M0-N9-C:J16-U01 2005-06-11-22.12.55.707149 R30-M0-N9-C:J16-U01 RAS KERNEL FATAL data TLB error interrupt</td>\n",
       "      <td>1118553175 2005.06.11 R30-M0-N9-C:J16-U01 2005-06-11-22.12.55.707149 R30-M0-N9-C:J16-U01 RAS KERNEL FATAL data TLB error interrupt</td>\n",
       "    </tr>\n",
       "    <tr>\n",
       "      <th>2</th>\n",
       "      <td>2</td>\n",
       "      <td>1118536033 2005.06.11 R30-M0-N9-C:J16-U01 2005-06-11-17.27.13.042387 R30-M0-N9-C:J16-U01 RAS KERNEL FATAL data TLB error interrupt</td>\n",
       "      <td>1118536033 2005.06.11 R30-M0-N9-C:J16-U01 2005-06-11-17.27.13.042387 R30-M0-N9-C:J16-U01 RAS KERNEL FATAL data TLB error interrupt</td>\n",
       "    </tr>\n",
       "    <tr>\n",
       "      <th>3</th>\n",
       "      <td>3</td>\n",
       "      <td>1117992566 2005.06.05 R30-M1-N6-C:J03-U11 2005-06-05-10.29.26.943462 R30-M1-N6-C:J03-U11 RAS KERNEL INFO generating core.6463</td>\n",
       "      <td>1117992566 2005.06.05 R30-M1-N6-C:J03-U11 2005-06-05-10.29.26.943462 R30-M1-N6-C:J03-U11 RAS KERNEL INFO generating core.6463</td>\n",
       "    </tr>\n",
       "    <tr>\n",
       "      <th>4</th>\n",
       "      <td>4</td>\n",
       "      <td>1118538965 2005.06.11 R30-M0-N9-C:J16-U01 2005-06-11-18.16.05.049256 R30-M0-N9-C:J16-U01 RAS KERNEL FATAL data TLB error interrupt</td>\n",
       "      <td>1118538965 2005.06.11 R30-M0-N9-C:J16-U01 2005-06-11-18.16.05.049256 R30-M0-N9-C:J16-U01 RAS KERNEL FATAL data TLB error interrupt</td>\n",
       "    </tr>\n",
       "    <tr>\n",
       "      <th>...</th>\n",
       "      <td>...</td>\n",
       "      <td>...</td>\n",
       "      <td>...</td>\n",
       "    </tr>\n",
       "    <tr>\n",
       "      <th>595295</th>\n",
       "      <td>595295</td>\n",
       "      <td>1118768234 2005.06.14 R20-M0-NA-C:J17-U11 2005-06-14-09.57.14.709136 R20-M0-NA-C:J17-U11 RAS KERNEL FATAL exception syndrome register: 0x00800000</td>\n",
       "      <td>1118768234 2005.06.14 R20-M0-NA-C:J17-U11 2005-06-14-09.57.14.709136 R20-M0-NA-C:J17-U11 RAS KERNEL FATAL exception syndrome register: 0x00800000</td>\n",
       "    </tr>\n",
       "    <tr>\n",
       "      <th>595296</th>\n",
       "      <td>595296</td>\n",
       "      <td>1118370947 2005.06.09 R15-M0-NA-C:J02-U01 2005-06-09-19.35.47.353971 R15-M0-NA-C:J02-U01 RAS KERNEL INFO generating core.10895</td>\n",
       "      <td>1118370947 2005.06.09 R15-M0-NA-C:J02-U01 2005-06-09-19.35.47.353971 R15-M0-NA-C:J02-U01 RAS KERNEL INFO generating core.10895</td>\n",
       "    </tr>\n",
       "    <tr>\n",
       "      <th>595297</th>\n",
       "      <td>595297</td>\n",
       "      <td>1118540242 2005.06.11 R30-M0-N9-C:J16-U01 2005-06-11-18.37.22.743936 R30-M0-N9-C:J16-U01 RAS KERNEL FATAL data TLB error interrupt</td>\n",
       "      <td>1118540242 2005.06.11 R30-M0-N9-C:J16-U01 2005-06-11-18.37.22.743936 R30-M0-N9-C:J16-U01 RAS KERNEL FATAL data TLB error interrupt</td>\n",
       "    </tr>\n",
       "    <tr>\n",
       "      <th>595298</th>\n",
       "      <td>595298</td>\n",
       "      <td>1118538947 2005.06.11 R30-M0-N9-C:J16-U01 2005-06-11-18.15.47.247097 R30-M0-N9-C:J16-U01 RAS KERNEL FATAL data TLB error interrupt</td>\n",
       "      <td>1118538947 2005.06.11 R30-M0-N9-C:J16-U01 2005-06-11-18.15.47.247097 R30-M0-N9-C:J16-U01 RAS KERNEL FATAL data TLB error interrupt</td>\n",
       "    </tr>\n",
       "    <tr>\n",
       "      <th>595299</th>\n",
       "      <td>595299</td>\n",
       "      <td>1118165805 2005.06.07 R23-M1-N5-C:J16-U11 2005-06-07-10.36.45.002573 R23-M1-N5-C:J16-U11 RAS KERNEL INFO generating core.680</td>\n",
       "      <td>1118165805 2005.06.07 R23-M1-N5-C:J16-U11 2005-06-07-10.36.45.002573 R23-M1-N5-C:J16-U11 RAS KERNEL INFO generating core.680</td>\n",
       "    </tr>\n",
       "  </tbody>\n",
       "</table>\n",
       "<p>595300 rows × 3 columns</p>\n",
       "</div>"
      ],
      "text/plain": [
       "            ID  \\\n",
       "0            0   \n",
       "1            1   \n",
       "2            2   \n",
       "3            3   \n",
       "4            4   \n",
       "...        ...   \n",
       "595295  595295   \n",
       "595296  595296   \n",
       "595297  595297   \n",
       "595298  595298   \n",
       "595299  595299   \n",
       "\n",
       "                                                                                                                                                       Log  \\\n",
       "0         1124336301 2005.08.17 R13-M1-N8-C:J12-U01 2005-08-17-20.38.21.466368 R13-M1-N8-C:J12-U01 RAS KERNEL FATAL rts: kernel terminated for reason 1001   \n",
       "1                       1118553175 2005.06.11 R30-M0-N9-C:J16-U01 2005-06-11-22.12.55.707149 R30-M0-N9-C:J16-U01 RAS KERNEL FATAL data TLB error interrupt   \n",
       "2                       1118536033 2005.06.11 R30-M0-N9-C:J16-U01 2005-06-11-17.27.13.042387 R30-M0-N9-C:J16-U01 RAS KERNEL FATAL data TLB error interrupt   \n",
       "3                            1117992566 2005.06.05 R30-M1-N6-C:J03-U11 2005-06-05-10.29.26.943462 R30-M1-N6-C:J03-U11 RAS KERNEL INFO generating core.6463   \n",
       "4                       1118538965 2005.06.11 R30-M0-N9-C:J16-U01 2005-06-11-18.16.05.049256 R30-M0-N9-C:J16-U01 RAS KERNEL FATAL data TLB error interrupt   \n",
       "...                                                                                                                                                    ...   \n",
       "595295   1118768234 2005.06.14 R20-M0-NA-C:J17-U11 2005-06-14-09.57.14.709136 R20-M0-NA-C:J17-U11 RAS KERNEL FATAL exception syndrome register: 0x00800000   \n",
       "595296                      1118370947 2005.06.09 R15-M0-NA-C:J02-U01 2005-06-09-19.35.47.353971 R15-M0-NA-C:J02-U01 RAS KERNEL INFO generating core.10895   \n",
       "595297                  1118540242 2005.06.11 R30-M0-N9-C:J16-U01 2005-06-11-18.37.22.743936 R30-M0-N9-C:J16-U01 RAS KERNEL FATAL data TLB error interrupt   \n",
       "595298                  1118538947 2005.06.11 R30-M0-N9-C:J16-U01 2005-06-11-18.15.47.247097 R30-M0-N9-C:J16-U01 RAS KERNEL FATAL data TLB error interrupt   \n",
       "595299                        1118165805 2005.06.07 R23-M1-N5-C:J16-U11 2005-06-07-10.36.45.002573 R23-M1-N5-C:J16-U11 RAS KERNEL INFO generating core.680   \n",
       "\n",
       "                                                                                                                                                       Log  \n",
       "0         1124336301 2005.08.17 R13-M1-N8-C:J12-U01 2005-08-17-20.38.21.466368 R13-M1-N8-C:J12-U01 RAS KERNEL FATAL rts: kernel terminated for reason 1001  \n",
       "1                       1118553175 2005.06.11 R30-M0-N9-C:J16-U01 2005-06-11-22.12.55.707149 R30-M0-N9-C:J16-U01 RAS KERNEL FATAL data TLB error interrupt  \n",
       "2                       1118536033 2005.06.11 R30-M0-N9-C:J16-U01 2005-06-11-17.27.13.042387 R30-M0-N9-C:J16-U01 RAS KERNEL FATAL data TLB error interrupt  \n",
       "3                            1117992566 2005.06.05 R30-M1-N6-C:J03-U11 2005-06-05-10.29.26.943462 R30-M1-N6-C:J03-U11 RAS KERNEL INFO generating core.6463  \n",
       "4                       1118538965 2005.06.11 R30-M0-N9-C:J16-U01 2005-06-11-18.16.05.049256 R30-M0-N9-C:J16-U01 RAS KERNEL FATAL data TLB error interrupt  \n",
       "...                                                                                                                                                    ...  \n",
       "595295   1118768234 2005.06.14 R20-M0-NA-C:J17-U11 2005-06-14-09.57.14.709136 R20-M0-NA-C:J17-U11 RAS KERNEL FATAL exception syndrome register: 0x00800000  \n",
       "595296                      1118370947 2005.06.09 R15-M0-NA-C:J02-U01 2005-06-09-19.35.47.353971 R15-M0-NA-C:J02-U01 RAS KERNEL INFO generating core.10895  \n",
       "595297                  1118540242 2005.06.11 R30-M0-N9-C:J16-U01 2005-06-11-18.37.22.743936 R30-M0-N9-C:J16-U01 RAS KERNEL FATAL data TLB error interrupt  \n",
       "595298                  1118538947 2005.06.11 R30-M0-N9-C:J16-U01 2005-06-11-18.15.47.247097 R30-M0-N9-C:J16-U01 RAS KERNEL FATAL data TLB error interrupt  \n",
       "595299                        1118165805 2005.06.07 R23-M1-N5-C:J16-U11 2005-06-07-10.36.45.002573 R23-M1-N5-C:J16-U11 RAS KERNEL INFO generating core.680  \n",
       "\n",
       "[595300 rows x 3 columns]"
      ]
     },
     "execution_count": 174,
     "metadata": {},
     "output_type": "execute_result"
    }
   ],
   "source": [
    "test[test[' Log'].str.startswith(' ')]"
   ]
  },
  {
   "cell_type": "code",
   "execution_count": 175,
   "id": "4c71acee",
   "metadata": {},
   "outputs": [],
   "source": [
    "test.drop([' Log'], axis = 1, inplace = True)"
   ]
  },
  {
   "cell_type": "code",
   "execution_count": 161,
   "id": "dac1af88",
   "metadata": {},
   "outputs": [
    {
     "data": {
      "text/html": [
       "<div>\n",
       "<style scoped>\n",
       "    .dataframe tbody tr th:only-of-type {\n",
       "        vertical-align: middle;\n",
       "    }\n",
       "\n",
       "    .dataframe tbody tr th {\n",
       "        vertical-align: top;\n",
       "    }\n",
       "\n",
       "    .dataframe thead th {\n",
       "        text-align: right;\n",
       "    }\n",
       "</style>\n",
       "<table border=\"1\" class=\"dataframe\">\n",
       "  <thead>\n",
       "    <tr style=\"text-align: right;\">\n",
       "      <th></th>\n",
       "      <th>Log</th>\n",
       "      <th>Label</th>\n",
       "    </tr>\n",
       "  </thead>\n",
       "  <tbody>\n",
       "  </tbody>\n",
       "</table>\n",
       "</div>"
      ],
      "text/plain": [
       "Empty DataFrame\n",
       "Columns: [Log, Label]\n",
       "Index: []"
      ]
     },
     "execution_count": 161,
     "metadata": {},
     "output_type": "execute_result"
    }
   ],
   "source": [
    "ultra_label[ultra_label['Log'] == ' 1118538752 2005.06.11 R30-M0-N9-C:J16-U01 2005-06-11-18.12.32.648924 R30-M0-N9-C:J16-U01 RAS KERNEL FATAL data TLB error interrupt']"
   ]
  },
  {
   "cell_type": "code",
   "execution_count": 230,
   "id": "d5423192",
   "metadata": {},
   "outputs": [
    {
     "data": {
      "text/plain": [
       "'1117842813 2005.06.03 R23-M0-N4-C:J04-U11 2005-06-03-16.53.33.477756 R23-M0-N4-C:J04-U11 RAS KERNEL INFO 1535 double-hummer alignment exceptions'"
      ]
     },
     "execution_count": 230,
     "metadata": {},
     "output_type": "execute_result"
    }
   ],
   "source": [
    "ultra_label.iloc[5679, 0]"
   ]
  },
  {
   "cell_type": "code",
   "execution_count": 229,
   "id": "b32d7ec8",
   "metadata": {},
   "outputs": [
    {
     "data": {
      "text/plain": [
       "normal     4399503\n",
       "anomaly     348460\n",
       "Name: Label, dtype: int64"
      ]
     },
     "execution_count": 229,
     "metadata": {},
     "output_type": "execute_result"
    }
   ],
   "source": [
    "ultra_label['Label'].value_counts()"
   ]
  },
  {
   "cell_type": "code",
   "execution_count": 228,
   "id": "27fa917c",
   "metadata": {
    "scrolled": true
   },
   "outputs": [],
   "source": [
    "del final"
   ]
  },
  {
   "cell_type": "code",
   "execution_count": 227,
   "id": "7fae6fd7",
   "metadata": {},
   "outputs": [],
   "source": [
    "# test['Log'] = test['Log'].str.strip(' ')\n",
    "ultra_label['Log'] = ultra_label['Log'].str.strip(' ')"
   ]
  },
  {
   "cell_type": "code",
   "execution_count": 226,
   "id": "683b168c",
   "metadata": {},
   "outputs": [
    {
     "data": {
      "text/plain": [
       "'1118538947 2005.06.11 R30-M0-N9-C:J16-U01 2005-06-11-18.15.47.247097 R30-M0-N9-C:J16-U01 RAS KERNEL FATAL data TLB error interrupt'"
      ]
     },
     "execution_count": 226,
     "metadata": {},
     "output_type": "execute_result"
    }
   ],
   "source": [
    "test.iloc[595298,1]"
   ]
  },
  {
   "cell_type": "code",
   "execution_count": 211,
   "id": "6856bae5",
   "metadata": {},
   "outputs": [
    {
     "data": {
      "text/plain": [
       "normal    316532\n",
       "Name: Label, dtype: int64"
      ]
     },
     "execution_count": 211,
     "metadata": {},
     "output_type": "execute_result"
    }
   ],
   "source": [
    "final['Label'].value_counts()"
   ]
  },
  {
   "cell_type": "code",
   "execution_count": 232,
   "id": "704c3c9e",
   "metadata": {},
   "outputs": [
    {
     "data": {
      "text/html": [
       "<div>\n",
       "<style scoped>\n",
       "    .dataframe tbody tr th:only-of-type {\n",
       "        vertical-align: middle;\n",
       "    }\n",
       "\n",
       "    .dataframe tbody tr th {\n",
       "        vertical-align: top;\n",
       "    }\n",
       "\n",
       "    .dataframe thead th {\n",
       "        text-align: right;\n",
       "    }\n",
       "</style>\n",
       "<table border=\"1\" class=\"dataframe\">\n",
       "  <thead>\n",
       "    <tr style=\"text-align: right;\">\n",
       "      <th></th>\n",
       "      <th>Log</th>\n",
       "      <th>Label</th>\n",
       "    </tr>\n",
       "  </thead>\n",
       "  <tbody>\n",
       "    <tr>\n",
       "      <th>247010</th>\n",
       "      <td>1118538947 2005.06.11 R30-M0-N9-C:J16-U01 2005-06-11-18.15.47.247097 R30-M0-N9-C:J16-U01 RAS KERNEL FATAL data TLB error interrupt</td>\n",
       "      <td>anomaly</td>\n",
       "    </tr>\n",
       "  </tbody>\n",
       "</table>\n",
       "</div>"
      ],
      "text/plain": [
       "                                                                                                                                       Log  \\\n",
       "247010  1118538947 2005.06.11 R30-M0-N9-C:J16-U01 2005-06-11-18.15.47.247097 R30-M0-N9-C:J16-U01 RAS KERNEL FATAL data TLB error interrupt   \n",
       "\n",
       "          Label  \n",
       "247010  anomaly  "
      ]
     },
     "execution_count": 232,
     "metadata": {},
     "output_type": "execute_result"
    }
   ],
   "source": [
    "anomaly[anomaly['Log']== '1118538947 2005.06.11 R30-M0-N9-C:J16-U01 2005-06-11-18.15.47.247097 R30-M0-N9-C:J16-U01 RAS KERNEL FATAL data TLB error interrupt']"
   ]
  },
  {
   "cell_type": "code",
   "execution_count": 231,
   "id": "ad59a5b6",
   "metadata": {},
   "outputs": [
    {
     "data": {
      "text/html": [
       "<div>\n",
       "<style scoped>\n",
       "    .dataframe tbody tr th:only-of-type {\n",
       "        vertical-align: middle;\n",
       "    }\n",
       "\n",
       "    .dataframe tbody tr th {\n",
       "        vertical-align: top;\n",
       "    }\n",
       "\n",
       "    .dataframe thead th {\n",
       "        text-align: right;\n",
       "    }\n",
       "</style>\n",
       "<table border=\"1\" class=\"dataframe\">\n",
       "  <thead>\n",
       "    <tr style=\"text-align: right;\">\n",
       "      <th></th>\n",
       "      <th>Log</th>\n",
       "      <th>Label</th>\n",
       "    </tr>\n",
       "  </thead>\n",
       "  <tbody>\n",
       "    <tr>\n",
       "      <th>164530</th>\n",
       "      <td>1118165805 2005.06.07 R23-M1-N5-C:J16-U11 2005-06-07-10.36.45.002573 R23-M1-N5-C:J16-U11 RAS KERNEL INFO generating core.680</td>\n",
       "      <td>normal</td>\n",
       "    </tr>\n",
       "  </tbody>\n",
       "</table>\n",
       "</div>"
      ],
      "text/plain": [
       "                                                                                                                                 Log  \\\n",
       "164530  1118165805 2005.06.07 R23-M1-N5-C:J16-U11 2005-06-07-10.36.45.002573 R23-M1-N5-C:J16-U11 RAS KERNEL INFO generating core.680   \n",
       "\n",
       "         Label  \n",
       "164530  normal  "
      ]
     },
     "execution_count": 231,
     "metadata": {},
     "output_type": "execute_result"
    }
   ],
   "source": [
    "ultra_label[ultra_label['Log'] == '1118165805 2005.06.07 R23-M1-N5-C:J16-U11 2005-06-07-10.36.45.002573 R23-M1-N5-C:J16-U11 RAS KERNEL INFO generating core.680']"
   ]
  },
  {
   "cell_type": "code",
   "execution_count": 234,
   "id": "6a2111bd",
   "metadata": {},
   "outputs": [],
   "source": [
    "final = pd.merge( test, ultra_label, on = 'Log', how = 'left')"
   ]
  },
  {
   "cell_type": "code",
   "execution_count": 236,
   "id": "65fed891",
   "metadata": {},
   "outputs": [
    {
     "data": {
      "text/plain": [
       "normal     316532\n",
       "anomaly    278768\n",
       "Name: Label, dtype: int64"
      ]
     },
     "execution_count": 236,
     "metadata": {},
     "output_type": "execute_result"
    }
   ],
   "source": [
    "final['Label'].value_counts()"
   ]
  },
  {
   "cell_type": "code",
   "execution_count": 246,
   "id": "11dae214",
   "metadata": {},
   "outputs": [],
   "source": [
    "normal_final = final[final['Label'] == 'normal']"
   ]
  },
  {
   "cell_type": "code",
   "execution_count": 247,
   "id": "1fd979dc",
   "metadata": {},
   "outputs": [
    {
     "data": {
      "text/plain": [
       "ID                                                                                                                              281938\n",
       "Log      1118354012 2005.06.09 R21-M0-NF-C:J17-U01 2005-06-09-14.53.32.724588 R21-M0-NF-C:J17-U01 RAS KERNEL INFO generating core.2064\n",
       "Label                                                                                                                           normal\n",
       "Name: 281938, dtype: object"
      ]
     },
     "execution_count": 247,
     "metadata": {},
     "output_type": "execute_result"
    }
   ],
   "source": [
    "normal_final.iloc[150000]"
   ]
  },
  {
   "cell_type": "code",
   "execution_count": 239,
   "id": "5cc15323",
   "metadata": {},
   "outputs": [
    {
     "data": {
      "text/plain": [
       "(278768, 3)"
      ]
     },
     "execution_count": 239,
     "metadata": {},
     "output_type": "execute_result"
    }
   ],
   "source": [
    "anomaly_final.shape"
   ]
  },
  {
   "cell_type": "code",
   "execution_count": 248,
   "id": "b2443b19",
   "metadata": {},
   "outputs": [
    {
     "data": {
      "text/html": [
       "<div>\n",
       "<style scoped>\n",
       "    .dataframe tbody tr th:only-of-type {\n",
       "        vertical-align: middle;\n",
       "    }\n",
       "\n",
       "    .dataframe tbody tr th {\n",
       "        vertical-align: top;\n",
       "    }\n",
       "\n",
       "    .dataframe thead th {\n",
       "        text-align: right;\n",
       "    }\n",
       "</style>\n",
       "<table border=\"1\" class=\"dataframe\">\n",
       "  <thead>\n",
       "    <tr style=\"text-align: right;\">\n",
       "      <th></th>\n",
       "      <th>ID</th>\n",
       "      <th>Log</th>\n",
       "      <th>Label</th>\n",
       "    </tr>\n",
       "  </thead>\n",
       "  <tbody>\n",
       "    <tr>\n",
       "      <th>0</th>\n",
       "      <td>0</td>\n",
       "      <td>1124336301 2005.08.17 R13-M1-N8-C:J12-U01 2005-08-17-20.38.21.466368 R13-M1-N8-C:J12-U01 RAS KERNEL FATAL rts: kernel terminated for reason 1001</td>\n",
       "      <td>anomaly</td>\n",
       "    </tr>\n",
       "    <tr>\n",
       "      <th>1</th>\n",
       "      <td>1</td>\n",
       "      <td>1118553175 2005.06.11 R30-M0-N9-C:J16-U01 2005-06-11-22.12.55.707149 R30-M0-N9-C:J16-U01 RAS KERNEL FATAL data TLB error interrupt</td>\n",
       "      <td>anomaly</td>\n",
       "    </tr>\n",
       "    <tr>\n",
       "      <th>2</th>\n",
       "      <td>2</td>\n",
       "      <td>1118536033 2005.06.11 R30-M0-N9-C:J16-U01 2005-06-11-17.27.13.042387 R30-M0-N9-C:J16-U01 RAS KERNEL FATAL data TLB error interrupt</td>\n",
       "      <td>anomaly</td>\n",
       "    </tr>\n",
       "    <tr>\n",
       "      <th>3</th>\n",
       "      <td>3</td>\n",
       "      <td>1117992566 2005.06.05 R30-M1-N6-C:J03-U11 2005-06-05-10.29.26.943462 R30-M1-N6-C:J03-U11 RAS KERNEL INFO generating core.6463</td>\n",
       "      <td>normal</td>\n",
       "    </tr>\n",
       "    <tr>\n",
       "      <th>4</th>\n",
       "      <td>4</td>\n",
       "      <td>1118538965 2005.06.11 R30-M0-N9-C:J16-U01 2005-06-11-18.16.05.049256 R30-M0-N9-C:J16-U01 RAS KERNEL FATAL data TLB error interrupt</td>\n",
       "      <td>anomaly</td>\n",
       "    </tr>\n",
       "    <tr>\n",
       "      <th>...</th>\n",
       "      <td>...</td>\n",
       "      <td>...</td>\n",
       "      <td>...</td>\n",
       "    </tr>\n",
       "    <tr>\n",
       "      <th>595295</th>\n",
       "      <td>595295</td>\n",
       "      <td>1118768234 2005.06.14 R20-M0-NA-C:J17-U11 2005-06-14-09.57.14.709136 R20-M0-NA-C:J17-U11 RAS KERNEL FATAL exception syndrome register: 0x00800000</td>\n",
       "      <td>normal</td>\n",
       "    </tr>\n",
       "    <tr>\n",
       "      <th>595296</th>\n",
       "      <td>595296</td>\n",
       "      <td>1118370947 2005.06.09 R15-M0-NA-C:J02-U01 2005-06-09-19.35.47.353971 R15-M0-NA-C:J02-U01 RAS KERNEL INFO generating core.10895</td>\n",
       "      <td>normal</td>\n",
       "    </tr>\n",
       "    <tr>\n",
       "      <th>595297</th>\n",
       "      <td>595297</td>\n",
       "      <td>1118540242 2005.06.11 R30-M0-N9-C:J16-U01 2005-06-11-18.37.22.743936 R30-M0-N9-C:J16-U01 RAS KERNEL FATAL data TLB error interrupt</td>\n",
       "      <td>anomaly</td>\n",
       "    </tr>\n",
       "    <tr>\n",
       "      <th>595298</th>\n",
       "      <td>595298</td>\n",
       "      <td>1118538947 2005.06.11 R30-M0-N9-C:J16-U01 2005-06-11-18.15.47.247097 R30-M0-N9-C:J16-U01 RAS KERNEL FATAL data TLB error interrupt</td>\n",
       "      <td>anomaly</td>\n",
       "    </tr>\n",
       "    <tr>\n",
       "      <th>595299</th>\n",
       "      <td>595299</td>\n",
       "      <td>1118165805 2005.06.07 R23-M1-N5-C:J16-U11 2005-06-07-10.36.45.002573 R23-M1-N5-C:J16-U11 RAS KERNEL INFO generating core.680</td>\n",
       "      <td>normal</td>\n",
       "    </tr>\n",
       "  </tbody>\n",
       "</table>\n",
       "<p>595300 rows × 3 columns</p>\n",
       "</div>"
      ],
      "text/plain": [
       "            ID  \\\n",
       "0            0   \n",
       "1            1   \n",
       "2            2   \n",
       "3            3   \n",
       "4            4   \n",
       "...        ...   \n",
       "595295  595295   \n",
       "595296  595296   \n",
       "595297  595297   \n",
       "595298  595298   \n",
       "595299  595299   \n",
       "\n",
       "                                                                                                                                                      Log  \\\n",
       "0        1124336301 2005.08.17 R13-M1-N8-C:J12-U01 2005-08-17-20.38.21.466368 R13-M1-N8-C:J12-U01 RAS KERNEL FATAL rts: kernel terminated for reason 1001   \n",
       "1                      1118553175 2005.06.11 R30-M0-N9-C:J16-U01 2005-06-11-22.12.55.707149 R30-M0-N9-C:J16-U01 RAS KERNEL FATAL data TLB error interrupt   \n",
       "2                      1118536033 2005.06.11 R30-M0-N9-C:J16-U01 2005-06-11-17.27.13.042387 R30-M0-N9-C:J16-U01 RAS KERNEL FATAL data TLB error interrupt   \n",
       "3                           1117992566 2005.06.05 R30-M1-N6-C:J03-U11 2005-06-05-10.29.26.943462 R30-M1-N6-C:J03-U11 RAS KERNEL INFO generating core.6463   \n",
       "4                      1118538965 2005.06.11 R30-M0-N9-C:J16-U01 2005-06-11-18.16.05.049256 R30-M0-N9-C:J16-U01 RAS KERNEL FATAL data TLB error interrupt   \n",
       "...                                                                                                                                                   ...   \n",
       "595295  1118768234 2005.06.14 R20-M0-NA-C:J17-U11 2005-06-14-09.57.14.709136 R20-M0-NA-C:J17-U11 RAS KERNEL FATAL exception syndrome register: 0x00800000   \n",
       "595296                     1118370947 2005.06.09 R15-M0-NA-C:J02-U01 2005-06-09-19.35.47.353971 R15-M0-NA-C:J02-U01 RAS KERNEL INFO generating core.10895   \n",
       "595297                 1118540242 2005.06.11 R30-M0-N9-C:J16-U01 2005-06-11-18.37.22.743936 R30-M0-N9-C:J16-U01 RAS KERNEL FATAL data TLB error interrupt   \n",
       "595298                 1118538947 2005.06.11 R30-M0-N9-C:J16-U01 2005-06-11-18.15.47.247097 R30-M0-N9-C:J16-U01 RAS KERNEL FATAL data TLB error interrupt   \n",
       "595299                       1118165805 2005.06.07 R23-M1-N5-C:J16-U11 2005-06-07-10.36.45.002573 R23-M1-N5-C:J16-U11 RAS KERNEL INFO generating core.680   \n",
       "\n",
       "          Label  \n",
       "0       anomaly  \n",
       "1       anomaly  \n",
       "2       anomaly  \n",
       "3        normal  \n",
       "4       anomaly  \n",
       "...         ...  \n",
       "595295   normal  \n",
       "595296   normal  \n",
       "595297  anomaly  \n",
       "595298  anomaly  \n",
       "595299   normal  \n",
       "\n",
       "[595300 rows x 3 columns]"
      ]
     },
     "execution_count": 248,
     "metadata": {},
     "output_type": "execute_result"
    }
   ],
   "source": [
    "final"
   ]
  },
  {
   "cell_type": "code",
   "execution_count": 249,
   "id": "4a1cc7e4",
   "metadata": {},
   "outputs": [],
   "source": [
    "final.to_csv('this.csv')"
   ]
  },
  {
   "cell_type": "code",
   "execution_count": 254,
   "id": "e257323b",
   "metadata": {},
   "outputs": [
    {
     "data": {
      "text/plain": [
       "ID                                                                                                                               60000\n",
       "Log      1118370977 2005.06.09 R02-M0-NA-C:J12-U11 2005-06-09-19.36.17.177311 R02-M0-NA-C:J12-U11 RAS KERNEL INFO generating core.2453\n",
       "Label                                                                                                                           normal\n",
       "Name: 60000, dtype: object"
      ]
     },
     "execution_count": 254,
     "metadata": {},
     "output_type": "execute_result"
    }
   ],
   "source": [
    "final.iloc[60000]"
   ]
  },
  {
   "cell_type": "code",
   "execution_count": 255,
   "id": "18ace229",
   "metadata": {},
   "outputs": [],
   "source": [
    "from sklearn.metrics import accuracy_score"
   ]
  },
  {
   "cell_type": "code",
   "execution_count": 257,
   "id": "2353619d",
   "metadata": {},
   "outputs": [
    {
     "data": {
      "text/html": [
       "<div>\n",
       "<style scoped>\n",
       "    .dataframe tbody tr th:only-of-type {\n",
       "        vertical-align: middle;\n",
       "    }\n",
       "\n",
       "    .dataframe tbody tr th {\n",
       "        vertical-align: top;\n",
       "    }\n",
       "\n",
       "    .dataframe thead th {\n",
       "        text-align: right;\n",
       "    }\n",
       "</style>\n",
       "<table border=\"1\" class=\"dataframe\">\n",
       "  <thead>\n",
       "    <tr style=\"text-align: right;\">\n",
       "      <th></th>\n",
       "      <th>Log</th>\n",
       "      <th>Label</th>\n",
       "    </tr>\n",
       "  </thead>\n",
       "  <tbody>\n",
       "    <tr>\n",
       "      <th>0</th>\n",
       "      <td>1117838570 2005.06.03 R02-M1-N0-C:J12-U11 2005-06-03-15.42.50.363779 R02-M1-N0-C:J12-U11 RAS KERNEL INFO instruction cache parity error corrected</td>\n",
       "      <td>normal</td>\n",
       "    </tr>\n",
       "    <tr>\n",
       "      <th>1</th>\n",
       "      <td>1117838570 2005.06.03 R02-M1-N0-C:J12-U11 2005-06-03-15.42.50.527847 R02-M1-N0-C:J12-U11 RAS KERNEL INFO instruction cache parity error corrected</td>\n",
       "      <td>normal</td>\n",
       "    </tr>\n",
       "    <tr>\n",
       "      <th>2</th>\n",
       "      <td>1117838570 2005.06.03 R02-M1-N0-C:J12-U11 2005-06-03-15.42.50.675872 R02-M1-N0-C:J12-U11 RAS KERNEL INFO instruction cache parity error corrected</td>\n",
       "      <td>normal</td>\n",
       "    </tr>\n",
       "    <tr>\n",
       "      <th>3</th>\n",
       "      <td>1117838570 2005.06.03 R02-M1-N0-C:J12-U11 2005-06-03-15.42.50.823719 R02-M1-N0-C:J12-U11 RAS KERNEL INFO instruction cache parity error corrected</td>\n",
       "      <td>normal</td>\n",
       "    </tr>\n",
       "    <tr>\n",
       "      <th>4</th>\n",
       "      <td>1117838570 2005.06.03 R02-M1-N0-C:J12-U11 2005-06-03-15.42.50.982731 R02-M1-N0-C:J12-U11 RAS KERNEL INFO instruction cache parity error corrected</td>\n",
       "      <td>normal</td>\n",
       "    </tr>\n",
       "    <tr>\n",
       "      <th>...</th>\n",
       "      <td>...</td>\n",
       "      <td>...</td>\n",
       "    </tr>\n",
       "    <tr>\n",
       "      <th>4747958</th>\n",
       "      <td>1136390405 2006.01.04 R00-M0-NC-I:J18-U11 2006-01-04-08.00.05.167045 R00-M0-NC-I:J18-U11 RAS KERNEL FATAL idoproxy communication failure: socket closed</td>\n",
       "      <td>anomaly</td>\n",
       "    </tr>\n",
       "    <tr>\n",
       "      <th>4747959</th>\n",
       "      <td>1136390405 2006.01.04 R36-M0-NC-I:J18-U11 2006-01-04-08.00.05.185942 R36-M0-NC-I:J18-U11 RAS KERNEL FATAL idoproxy communication failure: socket closed</td>\n",
       "      <td>anomaly</td>\n",
       "    </tr>\n",
       "    <tr>\n",
       "      <th>4747960</th>\n",
       "      <td>1136390405 2006.01.04 R30-M0-NC-I:J18-U11 2006-01-04-08.00.05.186013 R30-M0-NC-I:J18-U11 RAS KERNEL FATAL idoproxy communication failure: socket closed</td>\n",
       "      <td>anomaly</td>\n",
       "    </tr>\n",
       "    <tr>\n",
       "      <th>4747961</th>\n",
       "      <td>1136390405 2006.01.04 R31-M0-NC-I:J18-U11 2006-01-04-08.00.05.204230 R31-M0-NC-I:J18-U11 RAS KERNEL FATAL idoproxy communication failure: socket closed</td>\n",
       "      <td>anomaly</td>\n",
       "    </tr>\n",
       "    <tr>\n",
       "      <th>4747962</th>\n",
       "      <td>1136390405 2006.01.04 R34-M0-NC-I:J18-U11 2006-01-04-08.00.05.233639 R34-M0-NC-I:J18-U11 RAS KERNEL FATAL idoproxy communication failure: socket closed</td>\n",
       "      <td>anomaly</td>\n",
       "    </tr>\n",
       "  </tbody>\n",
       "</table>\n",
       "<p>4747963 rows × 2 columns</p>\n",
       "</div>"
      ],
      "text/plain": [
       "                                                                                                                                                             Log  \\\n",
       "0              1117838570 2005.06.03 R02-M1-N0-C:J12-U11 2005-06-03-15.42.50.363779 R02-M1-N0-C:J12-U11 RAS KERNEL INFO instruction cache parity error corrected   \n",
       "1              1117838570 2005.06.03 R02-M1-N0-C:J12-U11 2005-06-03-15.42.50.527847 R02-M1-N0-C:J12-U11 RAS KERNEL INFO instruction cache parity error corrected   \n",
       "2              1117838570 2005.06.03 R02-M1-N0-C:J12-U11 2005-06-03-15.42.50.675872 R02-M1-N0-C:J12-U11 RAS KERNEL INFO instruction cache parity error corrected   \n",
       "3              1117838570 2005.06.03 R02-M1-N0-C:J12-U11 2005-06-03-15.42.50.823719 R02-M1-N0-C:J12-U11 RAS KERNEL INFO instruction cache parity error corrected   \n",
       "4              1117838570 2005.06.03 R02-M1-N0-C:J12-U11 2005-06-03-15.42.50.982731 R02-M1-N0-C:J12-U11 RAS KERNEL INFO instruction cache parity error corrected   \n",
       "...                                                                                                                                                          ...   \n",
       "4747958  1136390405 2006.01.04 R00-M0-NC-I:J18-U11 2006-01-04-08.00.05.167045 R00-M0-NC-I:J18-U11 RAS KERNEL FATAL idoproxy communication failure: socket closed   \n",
       "4747959  1136390405 2006.01.04 R36-M0-NC-I:J18-U11 2006-01-04-08.00.05.185942 R36-M0-NC-I:J18-U11 RAS KERNEL FATAL idoproxy communication failure: socket closed   \n",
       "4747960  1136390405 2006.01.04 R30-M0-NC-I:J18-U11 2006-01-04-08.00.05.186013 R30-M0-NC-I:J18-U11 RAS KERNEL FATAL idoproxy communication failure: socket closed   \n",
       "4747961  1136390405 2006.01.04 R31-M0-NC-I:J18-U11 2006-01-04-08.00.05.204230 R31-M0-NC-I:J18-U11 RAS KERNEL FATAL idoproxy communication failure: socket closed   \n",
       "4747962  1136390405 2006.01.04 R34-M0-NC-I:J18-U11 2006-01-04-08.00.05.233639 R34-M0-NC-I:J18-U11 RAS KERNEL FATAL idoproxy communication failure: socket closed   \n",
       "\n",
       "           Label  \n",
       "0         normal  \n",
       "1         normal  \n",
       "2         normal  \n",
       "3         normal  \n",
       "4         normal  \n",
       "...          ...  \n",
       "4747958  anomaly  \n",
       "4747959  anomaly  \n",
       "4747960  anomaly  \n",
       "4747961  anomaly  \n",
       "4747962  anomaly  \n",
       "\n",
       "[4747963 rows x 2 columns]"
      ]
     },
     "execution_count": 257,
     "metadata": {},
     "output_type": "execute_result"
    }
   ],
   "source": [
    "ultra_label"
   ]
  },
  {
   "cell_type": "code",
   "execution_count": 261,
   "id": "b60e50c4",
   "metadata": {},
   "outputs": [],
   "source": [
    "train.drop(['log'], axis = 1, inplace = True)"
   ]
  },
  {
   "cell_type": "code",
   "execution_count": 262,
   "id": "a46ff90e",
   "metadata": {},
   "outputs": [],
   "source": [
    "train_merge = pd.merge(train, ultra_label, on = 'Log', how = 'left')"
   ]
  },
  {
   "cell_type": "code",
   "execution_count": 265,
   "id": "a8c60786",
   "metadata": {},
   "outputs": [
    {
     "ename": "KeyError",
     "evalue": "' Label'",
     "output_type": "error",
     "traceback": [
      "\u001b[1;31m---------------------------------------------------------------------------\u001b[0m",
      "\u001b[1;31mKeyError\u001b[0m                                  Traceback (most recent call last)",
      "File \u001b[1;32mC:\\ProgramData\\Anaconda3\\lib\\site-packages\\pandas\\core\\indexes\\base.py:3621\u001b[0m, in \u001b[0;36mIndex.get_loc\u001b[1;34m(self, key, method, tolerance)\u001b[0m\n\u001b[0;32m   3620\u001b[0m \u001b[38;5;28;01mtry\u001b[39;00m:\n\u001b[1;32m-> 3621\u001b[0m     \u001b[38;5;28;01mreturn\u001b[39;00m \u001b[38;5;28;43mself\u001b[39;49m\u001b[38;5;241;43m.\u001b[39;49m\u001b[43m_engine\u001b[49m\u001b[38;5;241;43m.\u001b[39;49m\u001b[43mget_loc\u001b[49m\u001b[43m(\u001b[49m\u001b[43mcasted_key\u001b[49m\u001b[43m)\u001b[49m\n\u001b[0;32m   3622\u001b[0m \u001b[38;5;28;01mexcept\u001b[39;00m \u001b[38;5;167;01mKeyError\u001b[39;00m \u001b[38;5;28;01mas\u001b[39;00m err:\n",
      "File \u001b[1;32mC:\\ProgramData\\Anaconda3\\lib\\site-packages\\pandas\\_libs\\index.pyx:136\u001b[0m, in \u001b[0;36mpandas._libs.index.IndexEngine.get_loc\u001b[1;34m()\u001b[0m\n",
      "File \u001b[1;32mC:\\ProgramData\\Anaconda3\\lib\\site-packages\\pandas\\_libs\\index.pyx:163\u001b[0m, in \u001b[0;36mpandas._libs.index.IndexEngine.get_loc\u001b[1;34m()\u001b[0m\n",
      "File \u001b[1;32mpandas\\_libs\\hashtable_class_helper.pxi:5198\u001b[0m, in \u001b[0;36mpandas._libs.hashtable.PyObjectHashTable.get_item\u001b[1;34m()\u001b[0m\n",
      "File \u001b[1;32mpandas\\_libs\\hashtable_class_helper.pxi:5206\u001b[0m, in \u001b[0;36mpandas._libs.hashtable.PyObjectHashTable.get_item\u001b[1;34m()\u001b[0m\n",
      "\u001b[1;31mKeyError\u001b[0m: ' Label'",
      "\nThe above exception was the direct cause of the following exception:\n",
      "\u001b[1;31mKeyError\u001b[0m                                  Traceback (most recent call last)",
      "Input \u001b[1;32mIn [265]\u001b[0m, in \u001b[0;36m<cell line: 1>\u001b[1;34m()\u001b[0m\n\u001b[1;32m----> 1\u001b[0m accuracy_score(\u001b[43mtrain\u001b[49m\u001b[43m[\u001b[49m\u001b[38;5;124;43m'\u001b[39;49m\u001b[38;5;124;43m Label\u001b[39;49m\u001b[38;5;124;43m'\u001b[39;49m\u001b[43m]\u001b[49m, train_merge[\u001b[38;5;124m'\u001b[39m\u001b[38;5;124m Label\u001b[39m\u001b[38;5;124m'\u001b[39m])\n",
      "File \u001b[1;32mC:\\ProgramData\\Anaconda3\\lib\\site-packages\\pandas\\core\\frame.py:3505\u001b[0m, in \u001b[0;36mDataFrame.__getitem__\u001b[1;34m(self, key)\u001b[0m\n\u001b[0;32m   3503\u001b[0m \u001b[38;5;28;01mif\u001b[39;00m \u001b[38;5;28mself\u001b[39m\u001b[38;5;241m.\u001b[39mcolumns\u001b[38;5;241m.\u001b[39mnlevels \u001b[38;5;241m>\u001b[39m \u001b[38;5;241m1\u001b[39m:\n\u001b[0;32m   3504\u001b[0m     \u001b[38;5;28;01mreturn\u001b[39;00m \u001b[38;5;28mself\u001b[39m\u001b[38;5;241m.\u001b[39m_getitem_multilevel(key)\n\u001b[1;32m-> 3505\u001b[0m indexer \u001b[38;5;241m=\u001b[39m \u001b[38;5;28;43mself\u001b[39;49m\u001b[38;5;241;43m.\u001b[39;49m\u001b[43mcolumns\u001b[49m\u001b[38;5;241;43m.\u001b[39;49m\u001b[43mget_loc\u001b[49m\u001b[43m(\u001b[49m\u001b[43mkey\u001b[49m\u001b[43m)\u001b[49m\n\u001b[0;32m   3506\u001b[0m \u001b[38;5;28;01mif\u001b[39;00m is_integer(indexer):\n\u001b[0;32m   3507\u001b[0m     indexer \u001b[38;5;241m=\u001b[39m [indexer]\n",
      "File \u001b[1;32mC:\\ProgramData\\Anaconda3\\lib\\site-packages\\pandas\\core\\indexes\\base.py:3623\u001b[0m, in \u001b[0;36mIndex.get_loc\u001b[1;34m(self, key, method, tolerance)\u001b[0m\n\u001b[0;32m   3621\u001b[0m     \u001b[38;5;28;01mreturn\u001b[39;00m \u001b[38;5;28mself\u001b[39m\u001b[38;5;241m.\u001b[39m_engine\u001b[38;5;241m.\u001b[39mget_loc(casted_key)\n\u001b[0;32m   3622\u001b[0m \u001b[38;5;28;01mexcept\u001b[39;00m \u001b[38;5;167;01mKeyError\u001b[39;00m \u001b[38;5;28;01mas\u001b[39;00m err:\n\u001b[1;32m-> 3623\u001b[0m     \u001b[38;5;28;01mraise\u001b[39;00m \u001b[38;5;167;01mKeyError\u001b[39;00m(key) \u001b[38;5;28;01mfrom\u001b[39;00m \u001b[38;5;21;01merr\u001b[39;00m\n\u001b[0;32m   3624\u001b[0m \u001b[38;5;28;01mexcept\u001b[39;00m \u001b[38;5;167;01mTypeError\u001b[39;00m:\n\u001b[0;32m   3625\u001b[0m     \u001b[38;5;66;03m# If we have a listlike key, _check_indexing_error will raise\u001b[39;00m\n\u001b[0;32m   3626\u001b[0m     \u001b[38;5;66;03m#  InvalidIndexError. Otherwise we fall through and re-raise\u001b[39;00m\n\u001b[0;32m   3627\u001b[0m     \u001b[38;5;66;03m#  the TypeError.\u001b[39;00m\n\u001b[0;32m   3628\u001b[0m     \u001b[38;5;28mself\u001b[39m\u001b[38;5;241m.\u001b[39m_check_indexing_error(key)\n",
      "\u001b[1;31mKeyError\u001b[0m: ' Label'"
     ]
    }
   ],
   "source": [
    "accuracy_score(train[' Label'], train_merge[' Label'])"
   ]
  },
  {
   "cell_type": "code",
   "execution_count": null,
   "id": "cafe5e33",
   "metadata": {},
   "outputs": [],
   "source": []
  }
 ],
 "metadata": {
  "kernelspec": {
   "display_name": "Python 3 (ipykernel)",
   "language": "python",
   "name": "python3"
  },
  "language_info": {
   "codemirror_mode": {
    "name": "ipython",
    "version": 3
   },
   "file_extension": ".py",
   "mimetype": "text/x-python",
   "name": "python",
   "nbconvert_exporter": "python",
   "pygments_lexer": "ipython3",
   "version": "3.9.12"
  }
 },
 "nbformat": 4,
 "nbformat_minor": 5
}
